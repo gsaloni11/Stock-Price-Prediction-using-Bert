{
 "cells": [
  {
   "cell_type": "markdown",
   "source": "### Finhub API - News Data",
   "metadata": {
    "tags": [],
    "is_collapsed": false,
    "cell_id": "00000-1e627fc1-c3b0-4baa-b8cb-fc806777cd78",
    "deepnote_cell_type": "text-cell-h3"
   }
  },
  {
   "cell_type": "code",
   "metadata": {
    "tags": [],
    "cell_id": "00001-3c20b6a5-8006-41ae-baed-d2da8310a115",
    "deepnote_to_be_reexecuted": false,
    "source_hash": "23f45262",
    "execution_start": 1641143209064,
    "execution_millis": 231,
    "deepnote_cell_type": "code"
   },
   "source": "import os\nimport requests\nfrom datetime import datetime\nfrom dateutil.relativedelta import relativedelta\nfrom pathlib import Path\nimport json\nfrom decouple import config\nfrom langdetect import detect\nimport time\nimport sqlite3\nimport bs4 as bs",
   "execution_count": null,
   "outputs": []
  },
  {
   "cell_type": "code",
   "metadata": {
    "tags": [],
    "cell_id": "00001-80816cea-e5b6-4e4b-bfdd-221d83dcbb60",
    "deepnote_to_be_reexecuted": false,
    "source_hash": "14e6bcec",
    "execution_start": 1641143214958,
    "execution_millis": 12,
    "deepnote_output_heights": [
     21.1875
    ],
    "deepnote_cell_type": "code"
   },
   "source": "import os\n\nos.environ[\"FINHUB_KEY\"]",
   "execution_count": null,
   "outputs": [
    {
     "output_type": "execute_result",
     "execution_count": 2,
     "data": {
      "text/plain": "'c71dr62ad3i9rhb9ag00'"
     },
     "metadata": {}
    }
   ]
  },
  {
   "cell_type": "code",
   "metadata": {
    "tags": [],
    "cell_id": "00004-3d473d2c-57db-4308-bb75-ddb0047b9d73",
    "deepnote_to_be_reexecuted": false,
    "source_hash": "6be2cda2",
    "execution_start": 1641143262784,
    "execution_millis": 186289,
    "deepnote_cell_type": "code"
   },
   "source": "def delta_date(start_date,end_date):\n    \"\"\"Function that returns the number of days between 2 dates \"\"\"\n\n    return abs((datetime.strptime(start_date, \"%Y-%m-%d\") - datetime.strptime(end_date, \"%Y-%m-%d\")).days)\n\ndef get_tickers():\n    \"\"\"Method that gets the stock symbols from companies listed in the S&P 500\n    Return\n    ------\n    `tickers` : list\n        S&P 500 company symbols\n    \"\"\"\n    resp = requests.get('http://en.wikipedia.org/wiki/List_of_S%26P_500_companies')\n    soup = bs.BeautifulSoup(resp.text, 'lxml')\n    table = soup.find_all('table')[0]  # Grab the first table\n\n    tickers = []\n    for row in table.findAll('tr')[1:]:\n        ticker = row.findAll('td')[0].text.strip('\\n')\n        tickers.append(ticker)\n\n    return tickers\n\nclass Init():\n    \"\"\"Class that initializes global value for the module. It also use general method to initialize value.\n     \"\"\"\n\n    def __init__(self):\n        \"\"\"Built-in method to inialize the global values for the module\n        Attributes\n        -----------\n        `self.start.date` : str\n            start date of the training period. Must be within the last year for the free version of FinHub. Format\n            must be \"YYYY-mm-dd\"\n        `self.end_date` : str\n            end date of the training period. Format must be \"YYYY-mm-dd\"\n        `self.ticker` : list\n            tickers on which we want to perform the test. Can be one ticker in form of a list as well as a list\n            of tickers like the s&p 500.\n        `self.db_name` : str\n            name of the sqlite3 database\n        `self.dir_path` : str\n            directory where the data are saved. It takes into account the `self.start_date` and `self.end_date`\n        `self.start_date_` : datetime object\n            same thing as `start_date` but as a datetime object\n        `self.end_date_` : datetime object\n            same thing as `start_date` but as a datetime object\n        \"\"\"\n\n        #initialize value here\n        self.start_date = \"2021-12-01\"\n        self.end_date = \"2021-12-31\"\n        self.tickers = ['AMZN','MSFT','GS','JPM','MS']\n\n        self.db_name = 'financial_data_test'\n        self.dir_path = os.path.dirname(os.path.realpath('/work/NewsData')) + '/output/' + self.start_date + '_' + \\\n                        self.end_date + '/'\n        Path(self.dir_path).mkdir(parents=True, exist_ok=True) #create new path if it doesn't exist\n        self.start_date_ = datetime.strptime(self.start_date, \"%Y-%m-%d\")  #datetime object\n        self.end_date_ = datetime.strptime(self.end_date, \"%Y-%m-%d\")    #datetime object\n        self.delta_date = abs((self.end_date_ - self.start_date_).days) #number of days between 2 dates\n\n\n        try:\n            self.start_date_ > self.end_date_\n        except:\n            print(\"'start_date' is after 'end_date'\")\n\n        t = (datetime.now()- relativedelta(years=1))\n        d= datetime.strptime(self.start_date, \"%Y-%m-%d\")\n\n        if (datetime.strptime(self.start_date, \"%Y-%m-%d\") <= (datetime.now()- relativedelta(years=1))) :\n            raise Exception(\"'start_date' is older than 1 year. It doesn't work with the free version of FinHub\")\n\nclass FinnHub():\n    \"\"\"Class to make API calls to FinnHub\"\"\"\n\n    def __init__(self,start_date,end_date,start_date_,end_date_,tickers,dir_path,db_name):\n        \"\"\" Class constructor\n        Parameters\n        ----------\n        `start_date` : str\n            Start date of the request. Must be within 1 year from now for must request\n            with the free version of FinHub\n        `end_date` : str\n            End date of the request.\n        `start_date_` : datetime object\n            Same thing as `start_date` but as a datetime object\n        `end_date_` : datetime object\n             Same thing as `start_date` but as a datetime object\n        `ticker` : str\n            Ticker symbol\n        `db_name` : str\n            Name of the sqlite database\n        `dir_path` : str\n            Directory  where our data will be stored\n        Attributes\n        ----------\n        `self.max_call` : int\n            maximum api calls per minute for the finhub API\n        `self.time_sleep` : int\n            seconds to sleep before making a new API call. Default is 60 seconds as the maximum number of API calls is\n            per minute\n        `self.nb_request` : int\n            nb of request made so far. Set to 0 in constructor `__init__` as we may loop through ticker\n            and want to avoid the variable to reset to 0 when exiting the wrapper `iterate_day()` (which could generate\n            an error)\n        `self.finhub_key` : str\n            finhub unique API key. Get yours here : https://finnhub.io/\n        `self.db_name : str\n            default file name for the sql database\n        \"\"\"\n\n        #Initialize attributes values here\n        self.max_call = 60\n        self.time_sleep = 60\n        self.nb_request = 0\n        self.finhub_key = config('FINHUB_KEY')\n        self.news_header = ['category', 'datetime','headline','id','image','related','source','summary','url']\n        self.start_date = start_date\n        self.end_date = end_date\n        self.tickers = tickers\n        self.ticker_request = tickers #different value because ticker like 'ALL' (All State) can generate error in SQLite\n                                    #database\n        self.dir_path = dir_path\n        self.db_name = db_name\n        self.js_data = []\n\n        self.start_date_ = start_date_ #datetime object\n        self.end_date_ = end_date_ #datetime object\n\n        #call the methods to access historical financial headlines\n        #tickers = get_tickers() #get_tickers is to get tickers from all the companies listedin the s&p 500\n\n        for ticker_ in self.tickers:\n            self.js_data.clear()\n            self.ticker = ticker_ + '_'\n            self.ticker_request = ticker_\n            self.req_new()\n            self.create_table()\n            self.clean_table()\n            self.lang_review()\n\n    def init_sql(func):\n        \"\"\" Decorator that open the sql database, save it and close it. The operation are between the opening and\n        saving of the file\"\"\"\n\n        def wrapper_(self):\n            conn_ = sqlite3.connect(self.dir_path + self.db_name + '.db')\n            c = conn_.cursor()\n            func(self,conn_,c)\n            conn_.commit()\n            conn_.close()\n        return wrapper_\n\n    @init_sql\n    def clean_table(self,conn_,c):\n        \"\"\"Method that clean the database using sqlite3\n        Parameters\n        ----------\n        `conn_` : database object\n            Connection object that represents the database\n        `c` : database object\n            Cursor object\n        \"\"\"\n\n        #remove NULL entry (row) from headline column\n        c.execute(f\" DELETE FROM {self.ticker} WHERE {self.news_header[2]} IS NULL OR \"\n                  f\"trim({self.news_header[2]}) = '';\")\n        # remove NULL value from datetime\n        c.execute(f\" DELETE FROM {self.ticker} WHERE {self.news_header[1]} IS NULL OR \"\n                  f\"trim({self.news_header[1]}) = '';\")\n\n        #removes duplicate entries (row)\n        c.execute(f\" DELETE FROM {self.ticker} WHERE rowid NOT IN (select MIN(rowid)\"\n                  f\"FROM {self.ticker} GROUP BY {self.news_header[2]})\")\n\n    @init_sql\n    def create_table(self,conn_,c):\n        \"\"\" Method that creates a table in SQLite database. It creates the table  in `self.dir_path` and write\n        the data in it\n        Parameters\n        ----------\n        `conn_` : database object\n            Connection object that represents the database\n        `c` : database object\n            Cursor object\n        \"\"\"\n\n        #create table if it does not exist\n        c.execute(f'drop table if exists {self.ticker}')\n        conn_.commit()\n        c.execute(f\"CREATE TABLE IF NOT EXISTS {self.ticker} ({self.news_header[0]})\")\n        conn_.commit()\n\n        #add columns to the table if the columns don't exist\n        for header_ in range(len(self.news_header)-1):\n            c.execute(f\"alter table {self.ticker} add column '%s' \" % self.news_header[header_+1])\n            conn_.commit()\n\n        iteration = 0\n        for data_ in self.js_data:\n            iteration +=1\n            try :\n                c.execute(f'insert into {self.ticker} values (?,?,?,?,?,?,?,?,?)',[data_[self.news_header[0]],\n                          data_[self.news_header[1]],data_[self.news_header[2]],data_[self.news_header[3]],\n                        data_[self.news_header[4]],data_[self.news_header[5]],data_[self.news_header[6]],\n                          data_[self.news_header[7]],data_[self.news_header[8]]])\n            except:\n                print(f\"Error at the {iteration}th ieration\")\n\n            conn_.commit()\n\n    def iterate_day(func):\n        \"\"\" Decorator that makes the API call on FinHub each days between the `self.start_date`\n        and `self.end_date` \"\"\"\n\n        def wrapper_(self):\n            delta_date_ = delta_date(self.start_date,self.end_date)\n            date_ = self.start_date\n            date_obj = self.start_date_\n\n            for item in range(delta_date_ + 1):\n                self.nb_request +=1\n                func(self,date_)\n                date_obj = date_obj + relativedelta(days=1)\n                date_  = date_obj.strftime(\"%Y-%m-%d\")\n                if self.nb_request == (self.max_call-1):\n                    time.sleep(self.time_sleep)\n                    self.nb_request=0\n        return wrapper_\n\n    @init_sql\n    def lang_review(self,conn_,c):\n        \"\"\" Methods that delete non-english entries based on the 'headline' column in a SQLlite3 db\n        Parameters\n        ----------\n        `conn_` : database object\n            Connection object that represents the database\n        `c` : database object\n            Cursor object\n        \"\"\"\n\n        list_ = []\n        c.execute(f\" SELECT {self.news_header[2]} FROM {self.ticker}\")\n\n        #check for non-english headlines\n        for item_ in c:\n            if detect(item_[0]) != 'en':\n                list_.append(item_[0])\n\n        #delete non-english entries (rows)\n            query = f\"DELETE FROM {self.ticker} where {self.news_header[2]} in ({','.join(['?']*len(list_))})\"\n            c.execute(query, list_)\n\n    @iterate_day\n    def req_new(self,date_):\n        \"\"\" Method that makes news request(s) to the Finnhub API\"\"\"\n\n        request_ = requests.get('https://finnhub.io/api/v1/company-news?symbol=' + self.ticker_request + '&from=' +\n                                date_ + '&to=' + date_ + '&token=' + self.finhub_key)\n        self.js_data += request_.json()\n\n\ninit_ = Init()\n\nfinhub = FinnHub(start_date=init_.start_date, end_date=init_.end_date,start_date_=init_.start_date_ ,\n                end_date_ =init_.end_date_, tickers=init_.tickers, dir_path =init_.dir_path,db_name=init_.db_name)",
   "execution_count": null,
   "outputs": []
  },
  {
   "cell_type": "markdown",
   "source": "Finhub API gives a database file(.db) :: we convert news data for every stock to csv file in NEWS_Finhub file.",
   "metadata": {
    "tags": [],
    "is_collapsed": false,
    "cell_id": "00004-613ca9e2-6fcb-46e4-aeb8-438242494776",
    "deepnote_cell_type": "text-cell-p"
   }
  },
  {
   "cell_type": "code",
   "metadata": {
    "tags": [],
    "cell_id": "00004-1e2c0385-c533-4cb9-ae94-0688b23e57cb",
    "deepnote_to_be_reexecuted": false,
    "source_hash": "7a6a0348",
    "execution_start": 1641143496750,
    "execution_millis": 20,
    "deepnote_cell_type": "code"
   },
   "source": "import sqlite3\n\n# creating file path\ndbfile = '/work/output/2021-12-01_2021-12-31/financial_data_test.db'\n# Create a SQL connection to our SQLite database\ncon = sqlite3.connect(dbfile)\n\n# creating cursor\ncur = con.cursor()\n\n# reading all table names\ntable_list = [a for a in cur.execute(\"SELECT name FROM sqlite_master WHERE type = 'table'\")]\n# here is you table list\nprint(table_list)\n\n# Be sure to close the connection\ncon.close()",
   "execution_count": null,
   "outputs": [
    {
     "name": "stdout",
     "text": "[('AMZN_',), ('MSFT_',), ('GS_',), ('JPM_',), ('MS_',)]\n",
     "output_type": "stream",
     "data": {}
    }
   ]
  },
  {
   "cell_type": "code",
   "metadata": {
    "tags": [],
    "cell_id": "00005-c36ce069-4aff-4214-b568-56292fef207b",
    "deepnote_to_be_reexecuted": false,
    "source_hash": "651dac2c",
    "execution_start": 1641143502327,
    "execution_millis": 20,
    "deepnote_cell_type": "code"
   },
   "source": "con = sqlite3.connect(dbfile)\nc = con.cursor()\n\nfor row in c.execute('SELECT * FROM GS_ LIMIT 10'):\n    print(row)",
   "execution_count": null,
   "outputs": [
    {
     "name": "stdout",
     "text": "('company', 1638389603, 'Goldman Sachs picks its favorite under-the-radar ESG stocks to buy right now', 75844602, 'https://image.cnbcfm.com/api/v1/image/103881437-RTX2CX1S.jpg?v=1632741220', 'GS', 'CNBC', 'ESG investing is on the rise. Goldman Sachs names the buy-rated \"under-owned\" stocks where ESG performance may be overlooked or materially improving. ', 'https://finnhub.io/api/news?id=056baaac1143097af91956935674ace195afb05503218b7cf4215881bc701b65')\n('company', 1638377820, 'Goldman Sachs Group Inc. stock underperforms Wednesday when compared to competitors', 76744264, 'https://images.mktw.net/im-220105/social', 'GS', 'MarketWatch', 'Shares of Goldman Sachs Group Inc. slid 0.66% to $376.48 Wednesday, on what proved to be an all-around rough trading session for the stock market, with the...', 'https://finnhub.io/api/news?id=586234ba29c97d06ec5a72cb8b5182949a01d16a7c40e19b0d5cdc83ba2abfa2')\n('company', 1638374700, 'Why BioXcel Therapeutics Stock Is Slumping Today', 75747160, 'https://www.nasdaq.com/sites/acquia.prod/files/2019-05/0902-Q19%20Total%20Markets%20photos%20and%20gif_CC8.jpg?11437259', 'GS', 'Nasdaq', \"What happened\\nShares of BioXcel Therapeutics (NASDAQ: BTAI) were down by 11.6% as of 3:08 p.m. ET Wednesday. The biotech's shares are retreating today in response to the Food and Drug Administration's decision to extend the review date under the Prescription Drug User Fee Act (PD\", 'https://finnhub.io/api/news?id=f9224a0592a3ab2cf1f10e89cf95e4a9a3de2c0e60659cd29624d9b8d2c535ff')\n('company', 1638366001, 'Is the Options Market Predicting a Spike in Goldman Sachs (GS) Stock?', 75922377, 'https://s.yimg.com/uu/api/res/1.2/05k8WdMbUDL7ljYuvfGHiw--~B/aD00MDA7dz02MzU7YXBwaWQ9eXRhY2h5b24-/https://media.zenfs.com/en/zacks.com/38c7ef8f4b67550bc3d573f485b8ea7f', 'GS', 'Yahoo', 'Investors need to pay close attention to Goldman Sachs (GS) stock based on the movements in the options market lately.', 'https://finnhub.io/api/news?id=389388c1fda3b60699194713499e90c3276f04ae9e88bf4f66629160efa774a4')\n('company', 1638354660, \"Dow's nearly 400-point rally highlighted by gains for American Express, Goldman Sachs stocks\", 76715075, 'https://mw3.wsj.net/mw5/content/logos/mw_logo_social.png', 'GS', 'MarketWatch', 'Buoyed by positive gains for shares of American Express and Goldman Sachs, the Dow Jones Industrial Average is rallying Wednesday morning. The Dow is trading...', 'https://finnhub.io/api/news?id=99b0e4af4bb16b6e2b9770d187b8e432fd3cb47da490f7454cb341e46958a09a')\n('company', 1638352740, 'Goldman Sachs Launches Financial Cloud Offering with AWS', 76046082, 'https://www.nasdaq.com/sites/acquia.prod/files/2019-05/0902-Q19%20Total%20Markets%20photos%20and%20gif_CC8.jpg?1016313979', 'GS', 'Nasdaq', \"Multinational financial services institution Goldman Sachs Group, Inc. (GS) unveiled Goldman Sachs Financial Cloud for Data along with Amazon Web Services, Inc. (AWS), an Amazon.com, Inc. (AMZN)\\xa0company.\\n\\n\\n\\nThe newly-launched suite will offer cloud-based financial data management and analytics solutions for hedge funds, asset managers and other institutional clients.\\n\\n\\n\\nThe combination of Goldman's market coverage and expertise with AWS’s innovation and velocity will enable clients to discover, organize, and analyze data in the cloud, giving them rapid insights, resulting in enhanced investment outcomes.\\n\\n\\n\\nIn addition, customers will gain secure access to superior financial data from Goldman Sachs.\\n\\n\\n\\nSee Insiders’ Hot Stocks on\\xa0TipRanks\\xa0>>\\n\\n\\n\\nCEO Comments\\n\\n\\n\\nGoldman Sachs CEO, David Solomon, stated, “Today, we are redefining the future of cloud for financial services as we enable developers to focus on building financial solutions for their customers”\\n\\n\\n\\nHe further added, “We are excited to bring together the two leading firms in financial services and cloud computing to deliver an unparalleled solution for financial data management and analytics on the cloud, revolutionizing how our clients extract value from the increasing wealth of information in our industry.”\\n\\n\\n\\nAmazon Web Services, Inc. CEO, Adam Selipsky, added, “Combining Goldman Sachs’ data and over a century of financial services knowledge with the reliability, security, and industry expertise of AWS will reimagine financial services technology and put developer-focused, cost-efficient technologies in the hands of all organizations.”\\n\\n\\n\\nAnalysts Recommendation\\n\\n\\n\\nOverall, the stock commands a Strong Buy consensus rating based on 11 Buys and 2 Holds. The\\xa0average Goldman Sachs price target\\xa0of $464.15 implies 20.12% upside potential to current levels. Shares have gained 64% over the past year.\\n\\n\\n\\nBloggers Weigh In\\n\\n\\n\\nTipRanks data shows that financial\\xa0blogger\\xa0opinions are 96% Bullish on GS, compared to a sector average of 70%.\\n\\n\\n\\n\\n\\n\\n\\nRelated News:Chegg Shares Rise 4% on Bussu Acquisition & BuybacksTwitter CTO Parag Agrawal Replaces CEO Jack DorseyAccenture Renews Joint Investments with AWS\", 'https://finnhub.io/api/news?id=06b35c7ff29485d74ab300f94ccbba33ca192baf1702a116cacade9db4eb02c8')\n('company', 1638348670, 'What to watch today: Dow set to bounce on first day of December after big drop on omicron fears', 75499279, 'https://image.cnbcfm.com/api/v1/image/106970572-1636020589289-GettyImages-748344209.jpg?v=1636020814', 'GS', 'CNBC', 'Dow futures started the new month with a big gain, in a continuation of recent Covid-driven seesaw trading on Wall Street.', 'https://finnhub.io/api/news?id=876053c5fe1cbc5237b1e3801a0ad29a1649f90d317fb5cbb7ccb177ea77e151')\n('company', 1638344673, 'Stocks making the biggest moves premarket: Salesforce, Allbirds, DoorDash and more', 75499299, 'https://image.cnbcfm.com/api/v1/image/106971590-1636133442922allbirds1.jpg?v=1636133472', 'GS', 'CNBC', 'These are the stocks posting the largest moves in premarket trading. ', 'https://finnhub.io/api/news?id=ee7e147472b29f022fc36ce1cf4bcfe7c3dc8020347c61afa0fccfb3f48912e3')\n('company', 1638334140, 'A bit excessive? Oil traders have priced in a three-month halt to global air travel, says Goldman Sachs', 75412057, 'https://images.mktw.net/im-443854/social', 'GS', 'MarketWatch', 'Leading investment bank says oil has priced in \"not a single plane flying around the world for three months.\"', 'https://finnhub.io/api/news?id=69d171945a2f92f542bcac4da0bf46343f9edab96f7548e5f122e6b3f07e69d1')\n('company', 1638333720, 'Volatile action continues for oil, which rebounds ahead of supply data, OPEC meeting', 75412058, 'https://images.mktw.net/im-443850/social', 'GS', 'MarketWatch', 'Oil prices are bouncing higher on Wednesday, following another COVID-related selloff.', 'https://finnhub.io/api/news?id=b89d2b4648209649bfaf1a70ebeed6984d5184e51023633d9a20bcdb9197ca6c')\n",
     "output_type": "stream",
     "data": {}
    }
   ]
  },
  {
   "cell_type": "code",
   "metadata": {
    "tags": [],
    "cell_id": "00006-3764fde1-3cbf-44f9-8a09-eaeedd60e806",
    "deepnote_to_be_reexecuted": false,
    "source_hash": "77f00651",
    "execution_start": 1641143519202,
    "execution_millis": 13,
    "deepnote_output_heights": [
     21.1875
    ],
    "deepnote_cell_type": "code"
   },
   "source": "c.execute('SELECT * FROM GS_')\nresults = c.fetchall()\nprint(len(results))",
   "execution_count": null,
   "outputs": [
    {
     "name": "stdout",
     "text": "327\n",
     "output_type": "stream",
     "data": {}
    }
   ]
  },
  {
   "cell_type": "code",
   "metadata": {
    "tags": [],
    "cell_id": "00007-214f2ab0-2d92-4c65-82a0-24572fe7b23b",
    "deepnote_to_be_reexecuted": false,
    "source_hash": "6e12bf8a",
    "execution_start": 1641143520921,
    "execution_millis": 15,
    "deepnote_cell_type": "code"
   },
   "source": "c.execute('SELECT * FROM JPM_')\nresults = c.fetchall()\nprint(len(results))",
   "execution_count": null,
   "outputs": [
    {
     "name": "stdout",
     "text": "382\n",
     "output_type": "stream",
     "data": {}
    }
   ]
  },
  {
   "cell_type": "code",
   "metadata": {
    "tags": [],
    "cell_id": "00008-d018133f-149a-4653-8ffa-c20b45da7e21",
    "deepnote_to_be_reexecuted": false,
    "source_hash": "77126961",
    "execution_start": 1641143522235,
    "execution_millis": 8,
    "deepnote_cell_type": "code"
   },
   "source": "c.execute('SELECT * FROM MS_')\nresults = c.fetchall()\nprint(len(results))",
   "execution_count": null,
   "outputs": [
    {
     "name": "stdout",
     "text": "242\n",
     "output_type": "stream",
     "data": {}
    }
   ]
  },
  {
   "cell_type": "code",
   "metadata": {
    "tags": [],
    "cell_id": "00009-8b2745c2-1f16-48e4-958b-6895f909f1c9",
    "deepnote_to_be_reexecuted": false,
    "source_hash": "e052423a",
    "execution_start": 1641143524229,
    "execution_millis": 20,
    "deepnote_cell_type": "code"
   },
   "source": "c.execute('SELECT * FROM MSFT_')\nresults = c.fetchall()\nprint(len(results))",
   "execution_count": null,
   "outputs": [
    {
     "name": "stdout",
     "text": "976\n",
     "output_type": "stream",
     "data": {}
    }
   ]
  },
  {
   "cell_type": "code",
   "metadata": {
    "tags": [],
    "cell_id": "00010-f56153cf-3a89-404b-a260-273304da6522",
    "deepnote_to_be_reexecuted": false,
    "source_hash": "47f5ba92",
    "execution_start": 1641143525949,
    "execution_millis": 18,
    "deepnote_cell_type": "code"
   },
   "source": "c.execute('SELECT * FROM AMZN_')\nresults = c.fetchall()\nprint(len(results))",
   "execution_count": null,
   "outputs": [
    {
     "name": "stdout",
     "text": "1283\n",
     "output_type": "stream",
     "data": {}
    }
   ]
  },
  {
   "cell_type": "code",
   "metadata": {
    "tags": [],
    "cell_id": "00011-ec92082e-602e-455b-b29d-54e8e101db7e",
    "deepnote_to_be_reexecuted": false,
    "source_hash": "1ccad538",
    "execution_start": 1641143529519,
    "execution_millis": 2,
    "deepnote_cell_type": "code"
   },
   "source": "c.close()",
   "execution_count": null,
   "outputs": []
  },
  {
   "cell_type": "code",
   "metadata": {
    "tags": [],
    "cell_id": "00012-57937b27-aeff-4411-a3f3-cd1b6b0b4cc1",
    "deepnote_to_be_reexecuted": false,
    "source_hash": "8327440a",
    "execution_start": 1641143682657,
    "execution_millis": 40,
    "deepnote_cell_type": "code"
   },
   "source": "import sqlite3\nfrom sqlite3 import Error\n\nimport pandas as pd\ndataPath = '/work/output/2021-12-01_2021-12-31/financial_data_test.db'\n# create database connection\nconn = sqlite3.connect(dataPath)\n\ndef create_connection(db_file):\n              try:\n                   conn = sqlite3.connect(db_file)\n                   return conn\n              except Error as e:\n                    print(e)\n\n              return None\n# create a function for reading & writing the Wifi table\n\ndef read_write_wifi_tbl_to_csv(conn):\n            cur = conn.cursor()\n            query='select * from JPM_'\n            data=pd.read_sql(query,conn)\n            data.to_csv('news_jpmT.csv')\n\ndef main():\n    # create a database connection\n    conn = create_connection(dataPath)\n    with conn:\n      print(\"1. Query and writing to table\")\n      read_write_wifi_tbl_to_csv(conn)\n\nif __name__ == '__main__':\n                main()",
   "execution_count": null,
   "outputs": [
    {
     "name": "stdout",
     "text": "1. Query and writing to table\n",
     "output_type": "stream",
     "data": {}
    }
   ]
  },
  {
   "cell_type": "code",
   "metadata": {
    "tags": [],
    "cell_id": "00013-f9fc339a-bfbd-406e-a690-9dccb39ab4d2",
    "deepnote_to_be_reexecuted": false,
    "source_hash": "a1d833fc",
    "execution_start": 1641143690989,
    "execution_millis": 3,
    "deepnote_cell_type": "code"
   },
   "source": "conn.close()",
   "execution_count": null,
   "outputs": []
  },
  {
   "cell_type": "code",
   "metadata": {
    "tags": [],
    "cell_id": "00013-b9f79376-5761-4460-96f8-5c88eae164d2",
    "deepnote_to_be_reexecuted": false,
    "source_hash": "9bebda8f",
    "execution_start": 1641143696710,
    "execution_millis": 363,
    "deepnote_cell_type": "code"
   },
   "source": "df1 = pd.read_csv('news_gsT.csv')\ndf1.tail()",
   "execution_count": null,
   "outputs": [
    {
     "output_type": "execute_result",
     "execution_count": 18,
     "data": {
      "application/vnd.deepnote.dataframe.v3+json": {
       "column_count": 10,
       "row_count": 5,
       "columns": [
        {
         "name": "Unnamed: 0",
         "dtype": "int64",
         "stats": {
          "unique_count": 5,
          "nan_count": 0,
          "min": "322",
          "max": "326",
          "histogram": [
           {
            "bin_start": 322,
            "bin_end": 322.4,
            "count": 1
           },
           {
            "bin_start": 322.4,
            "bin_end": 322.8,
            "count": 0
           },
           {
            "bin_start": 322.8,
            "bin_end": 323.2,
            "count": 1
           },
           {
            "bin_start": 323.2,
            "bin_end": 323.6,
            "count": 0
           },
           {
            "bin_start": 323.6,
            "bin_end": 324,
            "count": 0
           },
           {
            "bin_start": 324,
            "bin_end": 324.4,
            "count": 1
           },
           {
            "bin_start": 324.4,
            "bin_end": 324.8,
            "count": 0
           },
           {
            "bin_start": 324.8,
            "bin_end": 325.2,
            "count": 1
           },
           {
            "bin_start": 325.2,
            "bin_end": 325.6,
            "count": 0
           },
           {
            "bin_start": 325.6,
            "bin_end": 326,
            "count": 1
           }
          ]
         }
        },
        {
         "name": "category",
         "dtype": "object",
         "stats": {
          "unique_count": 1,
          "nan_count": 0,
          "categories": [
           {
            "name": "company",
            "count": 5
           }
          ]
         }
        },
        {
         "name": "datetime",
         "dtype": "int64",
         "stats": {
          "unique_count": 5,
          "nan_count": 0,
          "min": "1640927400",
          "max": "1640940625",
          "histogram": [
           {
            "bin_start": 1640927400,
            "bin_end": 1640928722.5,
            "count": 1
           },
           {
            "bin_start": 1640928722.5,
            "bin_end": 1640930045,
            "count": 1
           },
           {
            "bin_start": 1640930045,
            "bin_end": 1640931367.5,
            "count": 1
           },
           {
            "bin_start": 1640931367.5,
            "bin_end": 1640932690,
            "count": 0
           },
           {
            "bin_start": 1640932690,
            "bin_end": 1640934012.5,
            "count": 0
           },
           {
            "bin_start": 1640934012.5,
            "bin_end": 1640935335,
            "count": 0
           },
           {
            "bin_start": 1640935335,
            "bin_end": 1640936657.5,
            "count": 0
           },
           {
            "bin_start": 1640936657.5,
            "bin_end": 1640937980,
            "count": 0
           },
           {
            "bin_start": 1640937980,
            "bin_end": 1640939302.5,
            "count": 1
           },
           {
            "bin_start": 1640939302.5,
            "bin_end": 1640940625,
            "count": 1
           }
          ]
         }
        },
        {
         "name": "headline",
         "dtype": "object",
         "stats": {
          "unique_count": 5,
          "nan_count": 0,
          "categories": [
           {
            "name": "Piper Sandler's Jeffery Harte on what investors need to know about big banks in 2022",
            "count": 1
           },
           {
            "name": "Biden, Manchin spoke about social spending bill after Manchin's rejection - adviser",
            "count": 1
           },
           {
            "name": "3 others",
            "count": 3
           }
          ]
         }
        },
        {
         "name": "id",
         "dtype": "int64",
         "stats": {
          "unique_count": 5,
          "nan_count": 0,
          "min": "86484123",
          "max": "87154865",
          "histogram": [
           {
            "bin_start": 86484123,
            "bin_end": 86551197.2,
            "count": 3
           },
           {
            "bin_start": 86551197.2,
            "bin_end": 86618271.4,
            "count": 0
           },
           {
            "bin_start": 86618271.4,
            "bin_end": 86685345.6,
            "count": 1
           },
           {
            "bin_start": 86685345.6,
            "bin_end": 86752419.8,
            "count": 0
           },
           {
            "bin_start": 86752419.8,
            "bin_end": 86819494,
            "count": 0
           },
           {
            "bin_start": 86819494,
            "bin_end": 86886568.2,
            "count": 0
           },
           {
            "bin_start": 86886568.2,
            "bin_end": 86953642.4,
            "count": 0
           },
           {
            "bin_start": 86953642.4,
            "bin_end": 87020716.6,
            "count": 0
           },
           {
            "bin_start": 87020716.6,
            "bin_end": 87087790.8,
            "count": 0
           },
           {
            "bin_start": 87087790.8,
            "bin_end": 87154865,
            "count": 1
           }
          ]
         }
        },
        {
         "name": "image",
         "dtype": "object",
         "stats": {
          "unique_count": 5,
          "nan_count": 0,
          "categories": [
           {
            "name": "https://image.cnbcfm.com/api/v1/image/106995338-16409578231640957819-20608112280-1080pnbcnews.jpg?v=1640957823",
            "count": 1
           },
           {
            "name": "https://www.nasdaq.com/sites/acquia.prod/files/2021-12-31T131424Z_1_FF1_RTRLXPP_2_LYNXPACKAGER.JPG?929118628",
            "count": 1
           },
           {
            "name": "3 others",
            "count": 3
           }
          ]
         }
        },
        {
         "name": "related",
         "dtype": "object",
         "stats": {
          "unique_count": 1,
          "nan_count": 0,
          "categories": [
           {
            "name": "GS",
            "count": 5
           }
          ]
         }
        },
        {
         "name": "source",
         "dtype": "object",
         "stats": {
          "unique_count": 3,
          "nan_count": 0,
          "categories": [
           {
            "name": "Nasdaq",
            "count": 3
           },
           {
            "name": "CNBC",
            "count": 1
           },
           {
            "name": "Yahoo",
            "count": 1
           }
          ]
         }
        },
        {
         "name": "summary",
         "dtype": "object",
         "stats": {
          "unique_count": 5,
          "nan_count": 0,
          "categories": [
           {
            "name": "Jeffery Harte, managing director at Piper Sandler, joins CNBC's 'Squawk Box' to explain why shares of big banks have more room to run in 2022. Harte also lays out why investors should keep an eye on shares of Goldman Sachs and Bank of America. \"My macro view is that the economy is still pretty strong, so that is good news for the banks that finance the economy,\" Harte tells CNBC.",
            "count": 1
           },
           {
            "name": "U.S. President Joe Biden and Senator Joe Manchin spoke about the \"Build Back Better\" bill a day after the conservative Democratic senator publicly rejected the president's social spending plans, a White House adviser said on Friday.",
            "count": 1
           },
           {
            "name": "3 others",
            "count": 3
           }
          ]
         }
        },
        {
         "name": "url",
         "dtype": "object",
         "stats": {
          "unique_count": 5,
          "nan_count": 0,
          "categories": [
           {
            "name": "https://finnhub.io/api/news?id=5d44bd374f9349e6c6fe528bbd519afae6e57d9daedb9cfb7cbd28b724ecdad2",
            "count": 1
           },
           {
            "name": "https://finnhub.io/api/news?id=3f0b59b3b84de59e2979ff2caee537ee38896388a615c6da971bbcfb2fc60bde",
            "count": 1
           },
           {
            "name": "3 others",
            "count": 3
           }
          ]
         }
        },
        {
         "name": "_deepnote_index_column",
         "dtype": "int64"
        }
       ],
       "rows": [
        {
         "Unnamed: 0": 322,
         "category": "company",
         "datetime": 1640940625,
         "headline": "Piper Sandler's Jeffery Harte on what investors need to know about big banks in 2022",
         "id": 86663916,
         "image": "https://image.cnbcfm.com/api/v1/image/106995338-16409578231640957819-20608112280-1080pnbcnews.jpg?v…",
         "related": "GS",
         "source": "CNBC",
         "summary": "Jeffery Harte, managing director at Piper Sandler, joins CNBC's 'Squawk Box' to explain why shares …",
         "url": "https://finnhub.io/api/news?id=5d44bd374f9349e6c6fe528bbd519afae6e57d9daedb9cfb7cbd28b724ecdad2",
         "_deepnote_index_column": 322
        },
        {
         "Unnamed: 0": 323,
         "category": "company",
         "datetime": 1640938140,
         "headline": "Biden, Manchin spoke about social spending bill after Manchin's rejection - adviser",
         "id": 86527383,
         "image": "https://www.nasdaq.com/sites/acquia.prod/files/2021-12-31T131424Z_1_FF1_RTRLXPP_2_LYNXPACKAGER.JPG?…",
         "related": "GS",
         "source": "Nasdaq",
         "summary": "U.S. President Joe Biden and Senator Joe Manchin spoke about the \"Build Back Better\" bill a day aft…",
         "url": "https://finnhub.io/api/news?id=3f0b59b3b84de59e2979ff2caee537ee38896388a615c6da971bbcfb2fc60bde",
         "_deepnote_index_column": 323
        },
        {
         "Unnamed: 0": 324,
         "category": "company",
         "datetime": 1640931000,
         "headline": "Does CrowdStrike Deserve a Spot in Your Portfolio in 2022?",
         "id": 86496765,
         "image": "https://www.nasdaq.com/sites/acquia.prod/files/2019-05/0902-Q19%20Total%20Markets%20photos%20and%20…",
         "related": "GS",
         "source": "Nasdaq",
         "summary": "CrowdStrike (NASDAQ: CRWD) was one of the hottest stocks in 2020 after its scorching hot return of …",
         "url": "https://finnhub.io/api/news?id=86b3a8c6ac40f18efa0f34c4294032e97acb56804dedbb270b40b86ee55d2405",
         "_deepnote_index_column": 324
        },
        {
         "Unnamed: 0": 325,
         "category": "company",
         "datetime": 1640929982,
         "headline": "7 Anti-Meme Stocks to Buy as Risk-On Sentiment Fades",
         "id": 87154865,
         "image": "https://s.yimg.com/uu/api/res/1.2/cp7LtGdt_OwWyLYts345CQ--~B/aD00MDA7dz03Mjg7YXBwaWQ9eXRhY2h5b24-/h…",
         "related": "GS",
         "source": "Yahoo",
         "summary": "Early this year, Wall Street analysts lay witness to one of the boldest forms of contrarian investm…",
         "url": "https://finnhub.io/api/news?id=91db1ad3ffe96d631770a6d35133b5b68f6fc457cbe9f6f984985bf8362e3ecf",
         "_deepnote_index_column": 325
        },
        {
         "Unnamed: 0": 326,
         "category": "company",
         "datetime": 1640927400,
         "headline": "Morgan Stanley Stock Still Has Some Upside",
         "id": 86484123,
         "image": "https://www.nasdaq.com/sites/acquia.prod/files/2019-05/0902-Q19%20Total%20Markets%20photos%20and%20…",
         "related": "GS",
         "source": "Nasdaq",
         "summary": "[Updated 12/29/2021] Morgan Stanley Update",
         "url": "https://finnhub.io/api/news?id=1381f4cfca86f48bb9ad5a3c256a03555fe884ce9c526d54da605923f3692b44",
         "_deepnote_index_column": 326
        }
       ]
      },
      "text/plain": "     Unnamed: 0 category    datetime  \\\n322         322  company  1640940625   \n323         323  company  1640938140   \n324         324  company  1640931000   \n325         325  company  1640929982   \n326         326  company  1640927400   \n\n                                              headline        id  \\\n322  Piper Sandler's Jeffery Harte on what investor...  86663916   \n323  Biden, Manchin spoke about social spending bil...  86527383   \n324  Does CrowdStrike Deserve a Spot in Your Portfo...  86496765   \n325  7 Anti-Meme Stocks to Buy as Risk-On Sentiment...  87154865   \n326         Morgan Stanley Stock Still Has Some Upside  86484123   \n\n                                                 image related  source  \\\n322  https://image.cnbcfm.com/api/v1/image/10699533...      GS    CNBC   \n323  https://www.nasdaq.com/sites/acquia.prod/files...      GS  Nasdaq   \n324  https://www.nasdaq.com/sites/acquia.prod/files...      GS  Nasdaq   \n325  https://s.yimg.com/uu/api/res/1.2/cp7LtGdt_OwW...      GS   Yahoo   \n326  https://www.nasdaq.com/sites/acquia.prod/files...      GS  Nasdaq   \n\n                                               summary  \\\n322  Jeffery Harte, managing director at Piper Sand...   \n323  U.S. President Joe Biden and Senator Joe Manch...   \n324  CrowdStrike (NASDAQ: CRWD) was one of the hott...   \n325  Early this year, Wall Street analysts lay witn...   \n326         [Updated 12/29/2021] Morgan Stanley Update   \n\n                                                   url  \n322  https://finnhub.io/api/news?id=5d44bd374f9349e...  \n323  https://finnhub.io/api/news?id=3f0b59b3b84de59...  \n324  https://finnhub.io/api/news?id=86b3a8c6ac40f18...  \n325  https://finnhub.io/api/news?id=91db1ad3ffe96d6...  \n326  https://finnhub.io/api/news?id=1381f4cfca86f48...  ",
      "text/html": "<div>\n<style scoped>\n    .dataframe tbody tr th:only-of-type {\n        vertical-align: middle;\n    }\n\n    .dataframe tbody tr th {\n        vertical-align: top;\n    }\n\n    .dataframe thead th {\n        text-align: right;\n    }\n</style>\n<table border=\"1\" class=\"dataframe\">\n  <thead>\n    <tr style=\"text-align: right;\">\n      <th></th>\n      <th>Unnamed: 0</th>\n      <th>category</th>\n      <th>datetime</th>\n      <th>headline</th>\n      <th>id</th>\n      <th>image</th>\n      <th>related</th>\n      <th>source</th>\n      <th>summary</th>\n      <th>url</th>\n    </tr>\n  </thead>\n  <tbody>\n    <tr>\n      <th>322</th>\n      <td>322</td>\n      <td>company</td>\n      <td>1640940625</td>\n      <td>Piper Sandler's Jeffery Harte on what investor...</td>\n      <td>86663916</td>\n      <td>https://image.cnbcfm.com/api/v1/image/10699533...</td>\n      <td>GS</td>\n      <td>CNBC</td>\n      <td>Jeffery Harte, managing director at Piper Sand...</td>\n      <td>https://finnhub.io/api/news?id=5d44bd374f9349e...</td>\n    </tr>\n    <tr>\n      <th>323</th>\n      <td>323</td>\n      <td>company</td>\n      <td>1640938140</td>\n      <td>Biden, Manchin spoke about social spending bil...</td>\n      <td>86527383</td>\n      <td>https://www.nasdaq.com/sites/acquia.prod/files...</td>\n      <td>GS</td>\n      <td>Nasdaq</td>\n      <td>U.S. President Joe Biden and Senator Joe Manch...</td>\n      <td>https://finnhub.io/api/news?id=3f0b59b3b84de59...</td>\n    </tr>\n    <tr>\n      <th>324</th>\n      <td>324</td>\n      <td>company</td>\n      <td>1640931000</td>\n      <td>Does CrowdStrike Deserve a Spot in Your Portfo...</td>\n      <td>86496765</td>\n      <td>https://www.nasdaq.com/sites/acquia.prod/files...</td>\n      <td>GS</td>\n      <td>Nasdaq</td>\n      <td>CrowdStrike (NASDAQ: CRWD) was one of the hott...</td>\n      <td>https://finnhub.io/api/news?id=86b3a8c6ac40f18...</td>\n    </tr>\n    <tr>\n      <th>325</th>\n      <td>325</td>\n      <td>company</td>\n      <td>1640929982</td>\n      <td>7 Anti-Meme Stocks to Buy as Risk-On Sentiment...</td>\n      <td>87154865</td>\n      <td>https://s.yimg.com/uu/api/res/1.2/cp7LtGdt_OwW...</td>\n      <td>GS</td>\n      <td>Yahoo</td>\n      <td>Early this year, Wall Street analysts lay witn...</td>\n      <td>https://finnhub.io/api/news?id=91db1ad3ffe96d6...</td>\n    </tr>\n    <tr>\n      <th>326</th>\n      <td>326</td>\n      <td>company</td>\n      <td>1640927400</td>\n      <td>Morgan Stanley Stock Still Has Some Upside</td>\n      <td>86484123</td>\n      <td>https://www.nasdaq.com/sites/acquia.prod/files...</td>\n      <td>GS</td>\n      <td>Nasdaq</td>\n      <td>[Updated 12/29/2021] Morgan Stanley Update</td>\n      <td>https://finnhub.io/api/news?id=1381f4cfca86f48...</td>\n    </tr>\n  </tbody>\n</table>\n</div>"
     },
     "metadata": {}
    }
   ]
  },
  {
   "cell_type": "code",
   "metadata": {
    "tags": [],
    "cell_id": "00014-89e34a64-0a9e-4cf9-ab22-4f650c8b809a",
    "deepnote_to_be_reexecuted": false,
    "source_hash": "ea6c9ba",
    "execution_start": 1641143711433,
    "execution_millis": 100,
    "deepnote_cell_type": "code"
   },
   "source": "df1.head()",
   "execution_count": null,
   "outputs": [
    {
     "output_type": "execute_result",
     "execution_count": 19,
     "data": {
      "application/vnd.deepnote.dataframe.v3+json": {
       "column_count": 10,
       "row_count": 5,
       "columns": [
        {
         "name": "Unnamed: 0",
         "dtype": "int64",
         "stats": {
          "unique_count": 5,
          "nan_count": 0,
          "min": "0",
          "max": "4",
          "histogram": [
           {
            "bin_start": 0,
            "bin_end": 0.4,
            "count": 1
           },
           {
            "bin_start": 0.4,
            "bin_end": 0.8,
            "count": 0
           },
           {
            "bin_start": 0.8,
            "bin_end": 1.2000000000000002,
            "count": 1
           },
           {
            "bin_start": 1.2000000000000002,
            "bin_end": 1.6,
            "count": 0
           },
           {
            "bin_start": 1.6,
            "bin_end": 2,
            "count": 0
           },
           {
            "bin_start": 2,
            "bin_end": 2.4000000000000004,
            "count": 1
           },
           {
            "bin_start": 2.4000000000000004,
            "bin_end": 2.8000000000000003,
            "count": 0
           },
           {
            "bin_start": 2.8000000000000003,
            "bin_end": 3.2,
            "count": 1
           },
           {
            "bin_start": 3.2,
            "bin_end": 3.6,
            "count": 0
           },
           {
            "bin_start": 3.6,
            "bin_end": 4,
            "count": 1
           }
          ]
         }
        },
        {
         "name": "category",
         "dtype": "object",
         "stats": {
          "unique_count": 1,
          "nan_count": 0,
          "categories": [
           {
            "name": "company",
            "count": 5
           }
          ]
         }
        },
        {
         "name": "datetime",
         "dtype": "int64",
         "stats": {
          "unique_count": 5,
          "nan_count": 0,
          "min": "1638354660",
          "max": "1638389603",
          "histogram": [
           {
            "bin_start": 1638354660,
            "bin_end": 1638358154.3,
            "count": 1
           },
           {
            "bin_start": 1638358154.3,
            "bin_end": 1638361648.6,
            "count": 0
           },
           {
            "bin_start": 1638361648.6,
            "bin_end": 1638365142.9,
            "count": 0
           },
           {
            "bin_start": 1638365142.9,
            "bin_end": 1638368637.2,
            "count": 1
           },
           {
            "bin_start": 1638368637.2,
            "bin_end": 1638372131.5,
            "count": 0
           },
           {
            "bin_start": 1638372131.5,
            "bin_end": 1638375625.8,
            "count": 1
           },
           {
            "bin_start": 1638375625.8,
            "bin_end": 1638379120.1,
            "count": 1
           },
           {
            "bin_start": 1638379120.1,
            "bin_end": 1638382614.4,
            "count": 0
           },
           {
            "bin_start": 1638382614.4,
            "bin_end": 1638386108.7,
            "count": 0
           },
           {
            "bin_start": 1638386108.7,
            "bin_end": 1638389603,
            "count": 1
           }
          ]
         }
        },
        {
         "name": "headline",
         "dtype": "object",
         "stats": {
          "unique_count": 5,
          "nan_count": 0,
          "categories": [
           {
            "name": "Goldman Sachs picks its favorite under-the-radar ESG stocks to buy right now",
            "count": 1
           },
           {
            "name": "Goldman Sachs Group Inc. stock underperforms Wednesday when compared to competitors",
            "count": 1
           },
           {
            "name": "3 others",
            "count": 3
           }
          ]
         }
        },
        {
         "name": "id",
         "dtype": "int64",
         "stats": {
          "unique_count": 5,
          "nan_count": 0,
          "min": "75747160",
          "max": "76744264",
          "histogram": [
           {
            "bin_start": 75747160,
            "bin_end": 75846870.4,
            "count": 2
           },
           {
            "bin_start": 75846870.4,
            "bin_end": 75946580.8,
            "count": 1
           },
           {
            "bin_start": 75946580.8,
            "bin_end": 76046291.2,
            "count": 0
           },
           {
            "bin_start": 76046291.2,
            "bin_end": 76146001.6,
            "count": 0
           },
           {
            "bin_start": 76146001.6,
            "bin_end": 76245712,
            "count": 0
           },
           {
            "bin_start": 76245712,
            "bin_end": 76345422.4,
            "count": 0
           },
           {
            "bin_start": 76345422.4,
            "bin_end": 76445132.8,
            "count": 0
           },
           {
            "bin_start": 76445132.8,
            "bin_end": 76544843.2,
            "count": 0
           },
           {
            "bin_start": 76544843.2,
            "bin_end": 76644553.6,
            "count": 0
           },
           {
            "bin_start": 76644553.6,
            "bin_end": 76744264,
            "count": 2
           }
          ]
         }
        },
        {
         "name": "image",
         "dtype": "object",
         "stats": {
          "unique_count": 5,
          "nan_count": 0,
          "categories": [
           {
            "name": "https://image.cnbcfm.com/api/v1/image/103881437-RTX2CX1S.jpg?v=1632741220",
            "count": 1
           },
           {
            "name": "https://images.mktw.net/im-220105/social",
            "count": 1
           },
           {
            "name": "3 others",
            "count": 3
           }
          ]
         }
        },
        {
         "name": "related",
         "dtype": "object",
         "stats": {
          "unique_count": 1,
          "nan_count": 0,
          "categories": [
           {
            "name": "GS",
            "count": 5
           }
          ]
         }
        },
        {
         "name": "source",
         "dtype": "object",
         "stats": {
          "unique_count": 4,
          "nan_count": 0,
          "categories": [
           {
            "name": "MarketWatch",
            "count": 2
           },
           {
            "name": "CNBC",
            "count": 1
           },
           {
            "name": "2 others",
            "count": 2
           }
          ]
         }
        },
        {
         "name": "summary",
         "dtype": "object",
         "stats": {
          "unique_count": 5,
          "nan_count": 0,
          "categories": [
           {
            "name": "ESG investing is on the rise. Goldman Sachs names the buy-rated \"under-owned\" stocks where ESG performance may be overlooked or materially improving. ",
            "count": 1
           },
           {
            "name": "Shares of Goldman Sachs Group Inc. slid 0.66% to $376.48 Wednesday, on what proved to be an all-around rough trading session for the stock market, with the...",
            "count": 1
           },
           {
            "name": "3 others",
            "count": 3
           }
          ]
         }
        },
        {
         "name": "url",
         "dtype": "object",
         "stats": {
          "unique_count": 5,
          "nan_count": 0,
          "categories": [
           {
            "name": "https://finnhub.io/api/news?id=056baaac1143097af91956935674ace195afb05503218b7cf4215881bc701b65",
            "count": 1
           },
           {
            "name": "https://finnhub.io/api/news?id=586234ba29c97d06ec5a72cb8b5182949a01d16a7c40e19b0d5cdc83ba2abfa2",
            "count": 1
           },
           {
            "name": "3 others",
            "count": 3
           }
          ]
         }
        },
        {
         "name": "_deepnote_index_column",
         "dtype": "int64"
        }
       ],
       "rows": [
        {
         "Unnamed: 0": 0,
         "category": "company",
         "datetime": 1638389603,
         "headline": "Goldman Sachs picks its favorite under-the-radar ESG stocks to buy right now",
         "id": 75844602,
         "image": "https://image.cnbcfm.com/api/v1/image/103881437-RTX2CX1S.jpg?v=1632741220",
         "related": "GS",
         "source": "CNBC",
         "summary": "ESG investing is on the rise. Goldman Sachs names the buy-rated \"under-owned\" stocks where ESG perf…",
         "url": "https://finnhub.io/api/news?id=056baaac1143097af91956935674ace195afb05503218b7cf4215881bc701b65",
         "_deepnote_index_column": 0
        },
        {
         "Unnamed: 0": 1,
         "category": "company",
         "datetime": 1638377820,
         "headline": "Goldman Sachs Group Inc. stock underperforms Wednesday when compared to competitors",
         "id": 76744264,
         "image": "https://images.mktw.net/im-220105/social",
         "related": "GS",
         "source": "MarketWatch",
         "summary": "Shares of Goldman Sachs Group Inc. slid 0.66% to $376.48 Wednesday, on what proved to be an all-aro…",
         "url": "https://finnhub.io/api/news?id=586234ba29c97d06ec5a72cb8b5182949a01d16a7c40e19b0d5cdc83ba2abfa2",
         "_deepnote_index_column": 1
        },
        {
         "Unnamed: 0": 2,
         "category": "company",
         "datetime": 1638374700,
         "headline": "Why BioXcel Therapeutics Stock Is Slumping Today",
         "id": 75747160,
         "image": "https://www.nasdaq.com/sites/acquia.prod/files/2019-05/0902-Q19%20Total%20Markets%20photos%20and%20…",
         "related": "GS",
         "source": "Nasdaq",
         "summary": "What happened\nShares of BioXcel Therapeutics (NASDAQ: BTAI) were down by 11.6% as of 3:08 p.m. ET W…",
         "url": "https://finnhub.io/api/news?id=f9224a0592a3ab2cf1f10e89cf95e4a9a3de2c0e60659cd29624d9b8d2c535ff",
         "_deepnote_index_column": 2
        },
        {
         "Unnamed: 0": 3,
         "category": "company",
         "datetime": 1638366001,
         "headline": "Is the Options Market Predicting a Spike in Goldman Sachs (GS) Stock?",
         "id": 75922377,
         "image": "https://s.yimg.com/uu/api/res/1.2/05k8WdMbUDL7ljYuvfGHiw--~B/aD00MDA7dz02MzU7YXBwaWQ9eXRhY2h5b24-/h…",
         "related": "GS",
         "source": "Yahoo",
         "summary": "Investors need to pay close attention to Goldman Sachs (GS) stock based on the movements in the opt…",
         "url": "https://finnhub.io/api/news?id=389388c1fda3b60699194713499e90c3276f04ae9e88bf4f66629160efa774a4",
         "_deepnote_index_column": 3
        },
        {
         "Unnamed: 0": 4,
         "category": "company",
         "datetime": 1638354660,
         "headline": "Dow's nearly 400-point rally highlighted by gains for American Express, Goldman Sachs stocks",
         "id": 76715075,
         "image": "https://mw3.wsj.net/mw5/content/logos/mw_logo_social.png",
         "related": "GS",
         "source": "MarketWatch",
         "summary": "Buoyed by positive gains for shares of American Express and Goldman Sachs, the Dow Jones Industrial…",
         "url": "https://finnhub.io/api/news?id=99b0e4af4bb16b6e2b9770d187b8e432fd3cb47da490f7454cb341e46958a09a",
         "_deepnote_index_column": 4
        }
       ]
      },
      "text/plain": "   Unnamed: 0 category    datetime  \\\n0           0  company  1638389603   \n1           1  company  1638377820   \n2           2  company  1638374700   \n3           3  company  1638366001   \n4           4  company  1638354660   \n\n                                            headline        id  \\\n0  Goldman Sachs picks its favorite under-the-rad...  75844602   \n1  Goldman Sachs Group Inc. stock underperforms W...  76744264   \n2   Why BioXcel Therapeutics Stock Is Slumping Today  75747160   \n3  Is the Options Market Predicting a Spike in Go...  75922377   \n4  Dow's nearly 400-point rally highlighted by ga...  76715075   \n\n                                               image related       source  \\\n0  https://image.cnbcfm.com/api/v1/image/10388143...      GS         CNBC   \n1           https://images.mktw.net/im-220105/social      GS  MarketWatch   \n2  https://www.nasdaq.com/sites/acquia.prod/files...      GS       Nasdaq   \n3  https://s.yimg.com/uu/api/res/1.2/05k8WdMbUDL7...      GS        Yahoo   \n4  https://mw3.wsj.net/mw5/content/logos/mw_logo_...      GS  MarketWatch   \n\n                                             summary  \\\n0  ESG investing is on the rise. Goldman Sachs na...   \n1  Shares of Goldman Sachs Group Inc. slid 0.66% ...   \n2  What happened\\nShares of BioXcel Therapeutics ...   \n3  Investors need to pay close attention to Goldm...   \n4  Buoyed by positive gains for shares of America...   \n\n                                                 url  \n0  https://finnhub.io/api/news?id=056baaac1143097...  \n1  https://finnhub.io/api/news?id=586234ba29c97d0...  \n2  https://finnhub.io/api/news?id=f9224a0592a3ab2...  \n3  https://finnhub.io/api/news?id=389388c1fda3b60...  \n4  https://finnhub.io/api/news?id=99b0e4af4bb16b6...  ",
      "text/html": "<div>\n<style scoped>\n    .dataframe tbody tr th:only-of-type {\n        vertical-align: middle;\n    }\n\n    .dataframe tbody tr th {\n        vertical-align: top;\n    }\n\n    .dataframe thead th {\n        text-align: right;\n    }\n</style>\n<table border=\"1\" class=\"dataframe\">\n  <thead>\n    <tr style=\"text-align: right;\">\n      <th></th>\n      <th>Unnamed: 0</th>\n      <th>category</th>\n      <th>datetime</th>\n      <th>headline</th>\n      <th>id</th>\n      <th>image</th>\n      <th>related</th>\n      <th>source</th>\n      <th>summary</th>\n      <th>url</th>\n    </tr>\n  </thead>\n  <tbody>\n    <tr>\n      <th>0</th>\n      <td>0</td>\n      <td>company</td>\n      <td>1638389603</td>\n      <td>Goldman Sachs picks its favorite under-the-rad...</td>\n      <td>75844602</td>\n      <td>https://image.cnbcfm.com/api/v1/image/10388143...</td>\n      <td>GS</td>\n      <td>CNBC</td>\n      <td>ESG investing is on the rise. Goldman Sachs na...</td>\n      <td>https://finnhub.io/api/news?id=056baaac1143097...</td>\n    </tr>\n    <tr>\n      <th>1</th>\n      <td>1</td>\n      <td>company</td>\n      <td>1638377820</td>\n      <td>Goldman Sachs Group Inc. stock underperforms W...</td>\n      <td>76744264</td>\n      <td>https://images.mktw.net/im-220105/social</td>\n      <td>GS</td>\n      <td>MarketWatch</td>\n      <td>Shares of Goldman Sachs Group Inc. slid 0.66% ...</td>\n      <td>https://finnhub.io/api/news?id=586234ba29c97d0...</td>\n    </tr>\n    <tr>\n      <th>2</th>\n      <td>2</td>\n      <td>company</td>\n      <td>1638374700</td>\n      <td>Why BioXcel Therapeutics Stock Is Slumping Today</td>\n      <td>75747160</td>\n      <td>https://www.nasdaq.com/sites/acquia.prod/files...</td>\n      <td>GS</td>\n      <td>Nasdaq</td>\n      <td>What happened\\nShares of BioXcel Therapeutics ...</td>\n      <td>https://finnhub.io/api/news?id=f9224a0592a3ab2...</td>\n    </tr>\n    <tr>\n      <th>3</th>\n      <td>3</td>\n      <td>company</td>\n      <td>1638366001</td>\n      <td>Is the Options Market Predicting a Spike in Go...</td>\n      <td>75922377</td>\n      <td>https://s.yimg.com/uu/api/res/1.2/05k8WdMbUDL7...</td>\n      <td>GS</td>\n      <td>Yahoo</td>\n      <td>Investors need to pay close attention to Goldm...</td>\n      <td>https://finnhub.io/api/news?id=389388c1fda3b60...</td>\n    </tr>\n    <tr>\n      <th>4</th>\n      <td>4</td>\n      <td>company</td>\n      <td>1638354660</td>\n      <td>Dow's nearly 400-point rally highlighted by ga...</td>\n      <td>76715075</td>\n      <td>https://mw3.wsj.net/mw5/content/logos/mw_logo_...</td>\n      <td>GS</td>\n      <td>MarketWatch</td>\n      <td>Buoyed by positive gains for shares of America...</td>\n      <td>https://finnhub.io/api/news?id=99b0e4af4bb16b6...</td>\n    </tr>\n  </tbody>\n</table>\n</div>"
     },
     "metadata": {}
    }
   ]
  },
  {
   "cell_type": "code",
   "metadata": {
    "tags": [],
    "cell_id": "00017-b4164305-0fc0-4b9d-8f6f-962d5a2e71a6",
    "deepnote_cell_type": "code"
   },
   "source": "",
   "execution_count": null,
   "outputs": []
  },
  {
   "cell_type": "markdown",
   "source": "<a style='text-decoration:none;line-height:16px;display:flex;color:#5B5B62;padding:10px;justify-content:end;' href='https://deepnote.com?utm_source=created-in-deepnote-cell&projectId=c947f5a5-cf62-419b-9ff4-685ccc21bdac' target=\"_blank\">\n<img alt='Created in deepnote.com' style='display:inline;max-height:16px;margin:0px;margin-right:7.5px;' src='data:image/svg+xml;base64,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' > </img>\nCreated in <span style='font-weight:600;margin-left:4px;'>Deepnote</span></a>",
   "metadata": {
    "tags": [],
    "created_in_deepnote_cell": true,
    "deepnote_cell_type": "markdown"
   }
  }
 ],
 "nbformat": 4,
 "nbformat_minor": 2,
 "metadata": {
  "orig_nbformat": 2,
  "deepnote": {
   "is_reactive": false
  },
  "deepnote_notebook_id": "aeedd77b-ce09-44d6-960f-40bbde913d49",
  "deepnote_execution_queue": []
 }
}