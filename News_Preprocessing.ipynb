{
 "cells": [
  {
   "cell_type": "code",
   "metadata": {
    "tags": [],
    "cell_id": "00000-ecd23307-0cb8-47c1-9236-e3904a82756b",
    "deepnote_to_be_reexecuted": false,
    "source_hash": "9b82ee11",
    "execution_start": 1641293661875,
    "execution_millis": 1,
    "deepnote_cell_type": "code"
   },
   "source": "import pandas as pd",
   "outputs": [],
   "execution_count": null
  },
  {
   "cell_type": "code",
   "metadata": {
    "tags": [],
    "cell_id": "00035-552ce658-a46d-468b-be30-cc8f309aa1ea",
    "deepnote_to_be_reexecuted": false,
    "source_hash": "8585e493",
    "execution_start": 1641293663104,
    "execution_millis": 10,
    "deepnote_cell_type": "code"
   },
   "source": "from langdetect import detect",
   "outputs": [],
   "execution_count": null
  },
  {
   "cell_type": "code",
   "metadata": {
    "tags": [],
    "cell_id": "00026-350f3769-cc19-4407-ba97-4d20d697780c",
    "deepnote_to_be_reexecuted": false,
    "source_hash": "287dd555",
    "execution_start": 1641293691624,
    "execution_millis": 38,
    "deepnote_cell_type": "code"
   },
   "source": "df1 = pd.read_csv('/work/Test Data Dec/news_amznT.csv')",
   "outputs": [],
   "execution_count": null
  },
  {
   "cell_type": "code",
   "metadata": {
    "tags": [],
    "cell_id": "00027-a9b4c1ce-d342-47cb-870f-06fb59c21808",
    "deepnote_to_be_reexecuted": false,
    "source_hash": "ea6c9ba",
    "execution_start": 1641293693651,
    "execution_millis": 52,
    "deepnote_cell_type": "code"
   },
   "source": "df1.head()",
   "outputs": [
    {
     "output_type": "execute_result",
     "execution_count": 7,
     "data": {
      "application/vnd.deepnote.dataframe.v3+json": {
       "column_count": 10,
       "row_count": 5,
       "columns": [
        {
         "name": "Unnamed: 0",
         "dtype": "int64",
         "stats": {
          "unique_count": 5,
          "nan_count": 0,
          "min": "0",
          "max": "4",
          "histogram": [
           {
            "bin_start": 0,
            "bin_end": 0.4,
            "count": 1
           },
           {
            "bin_start": 0.4,
            "bin_end": 0.8,
            "count": 0
           },
           {
            "bin_start": 0.8,
            "bin_end": 1.2000000000000002,
            "count": 1
           },
           {
            "bin_start": 1.2000000000000002,
            "bin_end": 1.6,
            "count": 0
           },
           {
            "bin_start": 1.6,
            "bin_end": 2,
            "count": 0
           },
           {
            "bin_start": 2,
            "bin_end": 2.4000000000000004,
            "count": 1
           },
           {
            "bin_start": 2.4000000000000004,
            "bin_end": 2.8000000000000003,
            "count": 0
           },
           {
            "bin_start": 2.8000000000000003,
            "bin_end": 3.2,
            "count": 1
           },
           {
            "bin_start": 3.2,
            "bin_end": 3.6,
            "count": 0
           },
           {
            "bin_start": 3.6,
            "bin_end": 4,
            "count": 1
           }
          ]
         }
        },
        {
         "name": "category",
         "dtype": "object",
         "stats": {
          "unique_count": 1,
          "nan_count": 0,
          "categories": [
           {
            "name": "company",
            "count": 5
           }
          ]
         }
        },
        {
         "name": "datetime",
         "dtype": "int64",
         "stats": {
          "unique_count": 5,
          "nan_count": 0,
          "min": "1638385946",
          "max": "1638403200",
          "histogram": [
           {
            "bin_start": 1638385946,
            "bin_end": 1638387671.4,
            "count": 1
           },
           {
            "bin_start": 1638387671.4,
            "bin_end": 1638389396.8,
            "count": 0
           },
           {
            "bin_start": 1638389396.8,
            "bin_end": 1638391122.2,
            "count": 0
           },
           {
            "bin_start": 1638391122.2,
            "bin_end": 1638392847.6,
            "count": 0
           },
           {
            "bin_start": 1638392847.6,
            "bin_end": 1638394573,
            "count": 1
           },
           {
            "bin_start": 1638394573,
            "bin_end": 1638396298.4,
            "count": 0
           },
           {
            "bin_start": 1638396298.4,
            "bin_end": 1638398023.8,
            "count": 0
           },
           {
            "bin_start": 1638398023.8,
            "bin_end": 1638399749.2,
            "count": 1
           },
           {
            "bin_start": 1638399749.2,
            "bin_end": 1638401474.6,
            "count": 1
           },
           {
            "bin_start": 1638401474.6,
            "bin_end": 1638403200,
            "count": 1
           }
          ]
         }
        },
        {
         "name": "headline",
         "dtype": "object",
         "stats": {
          "unique_count": 5,
          "nan_count": 0,
          "categories": [
           {
            "name": "What May Prove Truly 'Transitory' Is FAAMG's Record Growth",
            "count": 1
           },
           {
            "name": "Looking Ahead to the Q4 Earnings Season",
            "count": 1
           },
           {
            "name": "3 others",
            "count": 3
           }
          ]
         }
        },
        {
         "name": "id",
         "dtype": "int64",
         "stats": {
          "unique_count": 5,
          "nan_count": 0,
          "min": "75847264",
          "max": "75903757",
          "histogram": [
           {
            "bin_start": 75847264,
            "bin_end": 75852913.3,
            "count": 3
           },
           {
            "bin_start": 75852913.3,
            "bin_end": 75858562.6,
            "count": 0
           },
           {
            "bin_start": 75858562.6,
            "bin_end": 75864211.9,
            "count": 0
           },
           {
            "bin_start": 75864211.9,
            "bin_end": 75869861.2,
            "count": 0
           },
           {
            "bin_start": 75869861.2,
            "bin_end": 75875510.5,
            "count": 0
           },
           {
            "bin_start": 75875510.5,
            "bin_end": 75881159.8,
            "count": 0
           },
           {
            "bin_start": 75881159.8,
            "bin_end": 75886809.1,
            "count": 1
           },
           {
            "bin_start": 75886809.1,
            "bin_end": 75892458.4,
            "count": 0
           },
           {
            "bin_start": 75892458.4,
            "bin_end": 75898107.7,
            "count": 0
           },
           {
            "bin_start": 75898107.7,
            "bin_end": 75903757,
            "count": 1
           }
          ]
         }
        },
        {
         "name": "image",
         "dtype": "object",
         "stats": {
          "unique_count": 5,
          "nan_count": 0,
          "categories": [
           {
            "name": "https://static.seekingalpha.com/cdn/s3/uploads/getty_images/1264887441/medium_image_1264887441.jpg",
            "count": 1
           },
           {
            "name": "https://s.yimg.com/uu/api/res/1.2/ztIuk0RiOXuT_pwdb.67zQ--~B/aD02MDA7dz05MDA7YXBwaWQ9eXRhY2h5b24-/https://media.zenfs.com/en/zacks.com/ea18ddad42c66e17b72e567a145ac3e2",
            "count": 1
           },
           {
            "name": "3 others",
            "count": 3
           }
          ]
         }
        },
        {
         "name": "related",
         "dtype": "object",
         "stats": {
          "unique_count": 1,
          "nan_count": 0,
          "categories": [
           {
            "name": "AMZN",
            "count": 5
           }
          ]
         }
        },
        {
         "name": "source",
         "dtype": "object",
         "stats": {
          "unique_count": 2,
          "nan_count": 0,
          "categories": [
           {
            "name": "Yahoo",
            "count": 3
           },
           {
            "name": "SeekingAlpha",
            "count": 2
           }
          ]
         }
        },
        {
         "name": "summary",
         "dtype": "object",
         "stats": {
          "unique_count": 5,
          "nan_count": 0,
          "categories": [
           {
            "name": "As Bianco Research recently demonstrated, if FAAMG were its own sector, it would comprise a larger share of the S&P 500 Index than any sector has in the past and by a wide margin.",
            "count": 1
           },
           {
            "name": "These margin pressures have been a big contributing factor to the recent negative shift in the revisions trend, which consistently remained positive since July 2020. You can see this in the revisions trend for 2021 Q4...",
            "count": 1
           },
           {
            "name": "3 others",
            "count": 3
           }
          ]
         }
        },
        {
         "name": "url",
         "dtype": "object",
         "stats": {
          "unique_count": 5,
          "nan_count": 0,
          "categories": [
           {
            "name": "https://finnhub.io/api/news?id=9429b07180fbfcac7be56889f95bb21a1c2bcd468b4d4e18bf1b24e65f21ec88",
            "count": 1
           },
           {
            "name": "https://finnhub.io/api/news?id=7407f4d70354efb39c5c1bd77b2276014f19f412c624093d1f34ab925e11b495",
            "count": 1
           },
           {
            "name": "3 others",
            "count": 3
           }
          ]
         }
        },
        {
         "name": "_deepnote_index_column",
         "dtype": "int64"
        }
       ],
       "rows": [
        {
         "Unnamed: 0": 0,
         "category": "company",
         "datetime": 1638403200,
         "headline": "What May Prove Truly 'Transitory' Is FAAMG's Record Growth",
         "id": 75903757,
         "image": "https://static.seekingalpha.com/cdn/s3/uploads/getty_images/1264887441/medium_image_1264887441.jpg",
         "related": "AMZN",
         "source": "SeekingAlpha",
         "summary": "As Bianco Research recently demonstrated, if FAAMG were its own sector, it would comprise a larger …",
         "url": "https://finnhub.io/api/news?id=9429b07180fbfcac7be56889f95bb21a1c2bcd468b4d4e18bf1b24e65f21ec88",
         "_deepnote_index_column": 0
        },
        {
         "Unnamed: 0": 1,
         "category": "company",
         "datetime": 1638400031,
         "headline": "Looking Ahead to the Q4 Earnings Season",
         "id": 75850409,
         "image": "https://s.yimg.com/uu/api/res/1.2/ztIuk0RiOXuT_pwdb.67zQ--~B/aD02MDA7dz05MDA7YXBwaWQ9eXRhY2h5b24-/h…",
         "related": "AMZN",
         "source": "Yahoo",
         "summary": "These margin pressures have been a big contributing factor to the recent negative shift in the revi…",
         "url": "https://finnhub.io/api/news?id=7407f4d70354efb39c5c1bd77b2276014f19f412c624093d1f34ab925e11b495",
         "_deepnote_index_column": 1
        },
        {
         "Unnamed: 0": 2,
         "category": "company",
         "datetime": 1638399066,
         "headline": "Basket Trading With ETPs Gives Tactical Advantages And Market-Beating Returns",
         "id": 75885266,
         "image": "https://static.seekingalpha.com/cdn/s3/uploads/getty_images/1317587887/medium_image_1317587887.jpg",
         "related": "AMZN",
         "source": "SeekingAlpha",
         "summary": "Basket opportunities abound in the ETN space but can also be replicated via ETPs. Click here to see…",
         "url": "https://finnhub.io/api/news?id=51a562c72979a44e01cd217fed769c71108a6cea86b57245af27e8532497d474",
         "_deepnote_index_column": 2
        },
        {
         "Unnamed: 0": 3,
         "category": "company",
         "datetime": 1638394379,
         "headline": "Facebook’s Meta Ticker Trades in Canada, Ignores U.S. Delay",
         "id": 75847264,
         "image": "https://s.yimg.com/ny/api/res/1.2/d4rv6xAklqRuDK0CXaB_.A--/YXBwaWQ9aGlnaGxhbmRlcjt3PTEyMDA7aD04MDA-…",
         "related": "AMZN",
         "source": "Yahoo",
         "summary": "(Bloomberg) -- Meta Platforms Inc., the newly renamed owner of Facebook, has already started tradin…",
         "url": "https://finnhub.io/api/news?id=5ab3e0b839d48e2a72a839b4ec35ebb586840bc95b2eba55847e512bb462c77d",
         "_deepnote_index_column": 3
        },
        {
         "Unnamed: 0": 4,
         "category": "company",
         "datetime": 1638385946,
         "headline": "Amazon eyes downtown D.C. for another full-service grocery store",
         "id": 75850411,
         "image": "https://s.yimg.com/ny/api/res/1.2/bDvyP8hetsIrxFWA0nk1xQ--/YXBwaWQ9aGlnaGxhbmRlcjt3PTEyMDA7aD03OTk-…",
         "related": "AMZN",
         "source": "Yahoo",
         "summary": "Amazon.com Inc. (NASDAQ: AMZN) is eyeing downtown D.C. for another grocery store, according to publ…",
         "url": "https://finnhub.io/api/news?id=c34912a11cea0105412fa5be063308d2a817c87c883f468c3d1ff6773bbfd541",
         "_deepnote_index_column": 4
        }
       ]
      },
      "text/plain": "   Unnamed: 0 category    datetime  \\\n0           0  company  1638403200   \n1           1  company  1638400031   \n2           2  company  1638399066   \n3           3  company  1638394379   \n4           4  company  1638385946   \n\n                                            headline        id  \\\n0  What May Prove Truly 'Transitory' Is FAAMG's R...  75903757   \n1            Looking Ahead to the Q4 Earnings Season  75850409   \n2  Basket Trading With ETPs Gives Tactical Advant...  75885266   \n3  Facebook’s Meta Ticker Trades in Canada, Ignor...  75847264   \n4  Amazon eyes downtown D.C. for another full-ser...  75850411   \n\n                                               image related        source  \\\n0  https://static.seekingalpha.com/cdn/s3/uploads...    AMZN  SeekingAlpha   \n1  https://s.yimg.com/uu/api/res/1.2/ztIuk0RiOXuT...    AMZN         Yahoo   \n2  https://static.seekingalpha.com/cdn/s3/uploads...    AMZN  SeekingAlpha   \n3  https://s.yimg.com/ny/api/res/1.2/d4rv6xAklqRu...    AMZN         Yahoo   \n4  https://s.yimg.com/ny/api/res/1.2/bDvyP8hetsIr...    AMZN         Yahoo   \n\n                                             summary  \\\n0  As Bianco Research recently demonstrated, if F...   \n1  These margin pressures have been a big contrib...   \n2  Basket opportunities abound in the ETN space b...   \n3  (Bloomberg) -- Meta Platforms Inc., the newly ...   \n4  Amazon.com Inc. (NASDAQ: AMZN) is eyeing downt...   \n\n                                                 url  \n0  https://finnhub.io/api/news?id=9429b07180fbfca...  \n1  https://finnhub.io/api/news?id=7407f4d70354efb...  \n2  https://finnhub.io/api/news?id=51a562c72979a44...  \n3  https://finnhub.io/api/news?id=5ab3e0b839d48e2...  \n4  https://finnhub.io/api/news?id=c34912a11cea010...  ",
      "text/html": "<div>\n<style scoped>\n    .dataframe tbody tr th:only-of-type {\n        vertical-align: middle;\n    }\n\n    .dataframe tbody tr th {\n        vertical-align: top;\n    }\n\n    .dataframe thead th {\n        text-align: right;\n    }\n</style>\n<table border=\"1\" class=\"dataframe\">\n  <thead>\n    <tr style=\"text-align: right;\">\n      <th></th>\n      <th>Unnamed: 0</th>\n      <th>category</th>\n      <th>datetime</th>\n      <th>headline</th>\n      <th>id</th>\n      <th>image</th>\n      <th>related</th>\n      <th>source</th>\n      <th>summary</th>\n      <th>url</th>\n    </tr>\n  </thead>\n  <tbody>\n    <tr>\n      <th>0</th>\n      <td>0</td>\n      <td>company</td>\n      <td>1638403200</td>\n      <td>What May Prove Truly 'Transitory' Is FAAMG's R...</td>\n      <td>75903757</td>\n      <td>https://static.seekingalpha.com/cdn/s3/uploads...</td>\n      <td>AMZN</td>\n      <td>SeekingAlpha</td>\n      <td>As Bianco Research recently demonstrated, if F...</td>\n      <td>https://finnhub.io/api/news?id=9429b07180fbfca...</td>\n    </tr>\n    <tr>\n      <th>1</th>\n      <td>1</td>\n      <td>company</td>\n      <td>1638400031</td>\n      <td>Looking Ahead to the Q4 Earnings Season</td>\n      <td>75850409</td>\n      <td>https://s.yimg.com/uu/api/res/1.2/ztIuk0RiOXuT...</td>\n      <td>AMZN</td>\n      <td>Yahoo</td>\n      <td>These margin pressures have been a big contrib...</td>\n      <td>https://finnhub.io/api/news?id=7407f4d70354efb...</td>\n    </tr>\n    <tr>\n      <th>2</th>\n      <td>2</td>\n      <td>company</td>\n      <td>1638399066</td>\n      <td>Basket Trading With ETPs Gives Tactical Advant...</td>\n      <td>75885266</td>\n      <td>https://static.seekingalpha.com/cdn/s3/uploads...</td>\n      <td>AMZN</td>\n      <td>SeekingAlpha</td>\n      <td>Basket opportunities abound in the ETN space b...</td>\n      <td>https://finnhub.io/api/news?id=51a562c72979a44...</td>\n    </tr>\n    <tr>\n      <th>3</th>\n      <td>3</td>\n      <td>company</td>\n      <td>1638394379</td>\n      <td>Facebook’s Meta Ticker Trades in Canada, Ignor...</td>\n      <td>75847264</td>\n      <td>https://s.yimg.com/ny/api/res/1.2/d4rv6xAklqRu...</td>\n      <td>AMZN</td>\n      <td>Yahoo</td>\n      <td>(Bloomberg) -- Meta Platforms Inc., the newly ...</td>\n      <td>https://finnhub.io/api/news?id=5ab3e0b839d48e2...</td>\n    </tr>\n    <tr>\n      <th>4</th>\n      <td>4</td>\n      <td>company</td>\n      <td>1638385946</td>\n      <td>Amazon eyes downtown D.C. for another full-ser...</td>\n      <td>75850411</td>\n      <td>https://s.yimg.com/ny/api/res/1.2/bDvyP8hetsIr...</td>\n      <td>AMZN</td>\n      <td>Yahoo</td>\n      <td>Amazon.com Inc. (NASDAQ: AMZN) is eyeing downt...</td>\n      <td>https://finnhub.io/api/news?id=c34912a11cea010...</td>\n    </tr>\n  </tbody>\n</table>\n</div>"
     },
     "metadata": {}
    }
   ],
   "execution_count": null
  },
  {
   "cell_type": "code",
   "metadata": {
    "tags": [],
    "cell_id": "00028-05d80b4b-8cd9-4b12-b026-ad3231fb4d8a",
    "deepnote_to_be_reexecuted": false,
    "source_hash": "1ac80ae7",
    "execution_start": 1641293695877,
    "execution_millis": 5,
    "deepnote_cell_type": "code"
   },
   "source": "df = df1.drop(['Unnamed: 0','category','id','image','source','url'],axis=1)",
   "outputs": [],
   "execution_count": null
  },
  {
   "cell_type": "code",
   "metadata": {
    "tags": [],
    "cell_id": "00029-0bd2d7bb-5319-40ab-bf0a-4d89ca9a329c",
    "deepnote_to_be_reexecuted": false,
    "source_hash": "c085b6ba",
    "execution_start": 1641293698495,
    "execution_millis": 44,
    "deepnote_cell_type": "code"
   },
   "source": "df.head()",
   "outputs": [
    {
     "output_type": "execute_result",
     "execution_count": 9,
     "data": {
      "application/vnd.deepnote.dataframe.v3+json": {
       "column_count": 4,
       "row_count": 5,
       "columns": [
        {
         "name": "datetime",
         "dtype": "int64",
         "stats": {
          "unique_count": 5,
          "nan_count": 0,
          "min": "1638385946",
          "max": "1638403200",
          "histogram": [
           {
            "bin_start": 1638385946,
            "bin_end": 1638387671.4,
            "count": 1
           },
           {
            "bin_start": 1638387671.4,
            "bin_end": 1638389396.8,
            "count": 0
           },
           {
            "bin_start": 1638389396.8,
            "bin_end": 1638391122.2,
            "count": 0
           },
           {
            "bin_start": 1638391122.2,
            "bin_end": 1638392847.6,
            "count": 0
           },
           {
            "bin_start": 1638392847.6,
            "bin_end": 1638394573,
            "count": 1
           },
           {
            "bin_start": 1638394573,
            "bin_end": 1638396298.4,
            "count": 0
           },
           {
            "bin_start": 1638396298.4,
            "bin_end": 1638398023.8,
            "count": 0
           },
           {
            "bin_start": 1638398023.8,
            "bin_end": 1638399749.2,
            "count": 1
           },
           {
            "bin_start": 1638399749.2,
            "bin_end": 1638401474.6,
            "count": 1
           },
           {
            "bin_start": 1638401474.6,
            "bin_end": 1638403200,
            "count": 1
           }
          ]
         }
        },
        {
         "name": "headline",
         "dtype": "object",
         "stats": {
          "unique_count": 5,
          "nan_count": 0,
          "categories": [
           {
            "name": "What May Prove Truly 'Transitory' Is FAAMG's Record Growth",
            "count": 1
           },
           {
            "name": "Looking Ahead to the Q4 Earnings Season",
            "count": 1
           },
           {
            "name": "3 others",
            "count": 3
           }
          ]
         }
        },
        {
         "name": "related",
         "dtype": "object",
         "stats": {
          "unique_count": 1,
          "nan_count": 0,
          "categories": [
           {
            "name": "AMZN",
            "count": 5
           }
          ]
         }
        },
        {
         "name": "summary",
         "dtype": "object",
         "stats": {
          "unique_count": 5,
          "nan_count": 0,
          "categories": [
           {
            "name": "As Bianco Research recently demonstrated, if FAAMG were its own sector, it would comprise a larger share of the S&P 500 Index than any sector has in the past and by a wide margin.",
            "count": 1
           },
           {
            "name": "These margin pressures have been a big contributing factor to the recent negative shift in the revisions trend, which consistently remained positive since July 2020. You can see this in the revisions trend for 2021 Q4...",
            "count": 1
           },
           {
            "name": "3 others",
            "count": 3
           }
          ]
         }
        },
        {
         "name": "_deepnote_index_column",
         "dtype": "int64"
        }
       ],
       "rows": [
        {
         "datetime": 1638403200,
         "headline": "What May Prove Truly 'Transitory' Is FAAMG's Record Growth",
         "related": "AMZN",
         "summary": "As Bianco Research recently demonstrated, if FAAMG were its own sector, it would comprise a larger …",
         "_deepnote_index_column": 0
        },
        {
         "datetime": 1638400031,
         "headline": "Looking Ahead to the Q4 Earnings Season",
         "related": "AMZN",
         "summary": "These margin pressures have been a big contributing factor to the recent negative shift in the revi…",
         "_deepnote_index_column": 1
        },
        {
         "datetime": 1638399066,
         "headline": "Basket Trading With ETPs Gives Tactical Advantages And Market-Beating Returns",
         "related": "AMZN",
         "summary": "Basket opportunities abound in the ETN space but can also be replicated via ETPs. Click here to see…",
         "_deepnote_index_column": 2
        },
        {
         "datetime": 1638394379,
         "headline": "Facebook’s Meta Ticker Trades in Canada, Ignores U.S. Delay",
         "related": "AMZN",
         "summary": "(Bloomberg) -- Meta Platforms Inc., the newly renamed owner of Facebook, has already started tradin…",
         "_deepnote_index_column": 3
        },
        {
         "datetime": 1638385946,
         "headline": "Amazon eyes downtown D.C. for another full-service grocery store",
         "related": "AMZN",
         "summary": "Amazon.com Inc. (NASDAQ: AMZN) is eyeing downtown D.C. for another grocery store, according to publ…",
         "_deepnote_index_column": 4
        }
       ]
      },
      "text/plain": "     datetime                                           headline related  \\\n0  1638403200  What May Prove Truly 'Transitory' Is FAAMG's R...    AMZN   \n1  1638400031            Looking Ahead to the Q4 Earnings Season    AMZN   \n2  1638399066  Basket Trading With ETPs Gives Tactical Advant...    AMZN   \n3  1638394379  Facebook’s Meta Ticker Trades in Canada, Ignor...    AMZN   \n4  1638385946  Amazon eyes downtown D.C. for another full-ser...    AMZN   \n\n                                             summary  \n0  As Bianco Research recently demonstrated, if F...  \n1  These margin pressures have been a big contrib...  \n2  Basket opportunities abound in the ETN space b...  \n3  (Bloomberg) -- Meta Platforms Inc., the newly ...  \n4  Amazon.com Inc. (NASDAQ: AMZN) is eyeing downt...  ",
      "text/html": "<div>\n<style scoped>\n    .dataframe tbody tr th:only-of-type {\n        vertical-align: middle;\n    }\n\n    .dataframe tbody tr th {\n        vertical-align: top;\n    }\n\n    .dataframe thead th {\n        text-align: right;\n    }\n</style>\n<table border=\"1\" class=\"dataframe\">\n  <thead>\n    <tr style=\"text-align: right;\">\n      <th></th>\n      <th>datetime</th>\n      <th>headline</th>\n      <th>related</th>\n      <th>summary</th>\n    </tr>\n  </thead>\n  <tbody>\n    <tr>\n      <th>0</th>\n      <td>1638403200</td>\n      <td>What May Prove Truly 'Transitory' Is FAAMG's R...</td>\n      <td>AMZN</td>\n      <td>As Bianco Research recently demonstrated, if F...</td>\n    </tr>\n    <tr>\n      <th>1</th>\n      <td>1638400031</td>\n      <td>Looking Ahead to the Q4 Earnings Season</td>\n      <td>AMZN</td>\n      <td>These margin pressures have been a big contrib...</td>\n    </tr>\n    <tr>\n      <th>2</th>\n      <td>1638399066</td>\n      <td>Basket Trading With ETPs Gives Tactical Advant...</td>\n      <td>AMZN</td>\n      <td>Basket opportunities abound in the ETN space b...</td>\n    </tr>\n    <tr>\n      <th>3</th>\n      <td>1638394379</td>\n      <td>Facebook’s Meta Ticker Trades in Canada, Ignor...</td>\n      <td>AMZN</td>\n      <td>(Bloomberg) -- Meta Platforms Inc., the newly ...</td>\n    </tr>\n    <tr>\n      <th>4</th>\n      <td>1638385946</td>\n      <td>Amazon eyes downtown D.C. for another full-ser...</td>\n      <td>AMZN</td>\n      <td>Amazon.com Inc. (NASDAQ: AMZN) is eyeing downt...</td>\n    </tr>\n  </tbody>\n</table>\n</div>"
     },
     "metadata": {}
    }
   ],
   "execution_count": null
  },
  {
   "cell_type": "code",
   "metadata": {
    "tags": [],
    "cell_id": "00032-ccb3b52e-4297-4067-a557-1f09ab85ceb8",
    "deepnote_to_be_reexecuted": false,
    "source_hash": "7d46f988",
    "execution_start": 1641293699069,
    "execution_millis": 7,
    "deepnote_output_heights": [
     232.390625
    ],
    "deepnote_cell_type": "code"
   },
   "source": "df['datetime'] = pd.to_datetime(df['datetime'],unit='s')",
   "outputs": [],
   "execution_count": null
  },
  {
   "cell_type": "code",
   "metadata": {
    "tags": [],
    "cell_id": "00033-f5a524f9-57dd-4ff7-ab35-0d144519d1ef",
    "deepnote_to_be_reexecuted": false,
    "source_hash": "c085b6ba",
    "execution_start": 1641293700014,
    "execution_millis": 44,
    "deepnote_cell_type": "code"
   },
   "source": "df.head()",
   "outputs": [
    {
     "output_type": "execute_result",
     "execution_count": 11,
     "data": {
      "application/vnd.deepnote.dataframe.v3+json": {
       "column_count": 4,
       "row_count": 5,
       "columns": [
        {
         "name": "datetime",
         "dtype": "datetime64[ns]",
         "stats": {
          "unique_count": 5,
          "nan_count": 0,
          "min": "2021-12-01 19:12:26",
          "max": "2021-12-02 00:00:00",
          "histogram": [
           {
            "bin_start": 1638385946000000000,
            "bin_end": 1638387671400000000,
            "count": 1
           },
           {
            "bin_start": 1638387671400000000,
            "bin_end": 1638389396800000000,
            "count": 0
           },
           {
            "bin_start": 1638389396800000000,
            "bin_end": 1638391122200000000,
            "count": 0
           },
           {
            "bin_start": 1638391122200000000,
            "bin_end": 1638392847600000000,
            "count": 0
           },
           {
            "bin_start": 1638392847600000000,
            "bin_end": 1638394573000000000,
            "count": 1
           },
           {
            "bin_start": 1638394573000000000,
            "bin_end": 1638396298400000000,
            "count": 0
           },
           {
            "bin_start": 1638396298400000000,
            "bin_end": 1638398023800000000,
            "count": 0
           },
           {
            "bin_start": 1638398023800000000,
            "bin_end": 1638399749200000000,
            "count": 1
           },
           {
            "bin_start": 1638399749200000000,
            "bin_end": 1638401474600000000,
            "count": 1
           },
           {
            "bin_start": 1638401474600000000,
            "bin_end": 1638403200000000000,
            "count": 1
           }
          ]
         }
        },
        {
         "name": "headline",
         "dtype": "object",
         "stats": {
          "unique_count": 5,
          "nan_count": 0,
          "categories": [
           {
            "name": "What May Prove Truly 'Transitory' Is FAAMG's Record Growth",
            "count": 1
           },
           {
            "name": "Looking Ahead to the Q4 Earnings Season",
            "count": 1
           },
           {
            "name": "3 others",
            "count": 3
           }
          ]
         }
        },
        {
         "name": "related",
         "dtype": "object",
         "stats": {
          "unique_count": 1,
          "nan_count": 0,
          "categories": [
           {
            "name": "AMZN",
            "count": 5
           }
          ]
         }
        },
        {
         "name": "summary",
         "dtype": "object",
         "stats": {
          "unique_count": 5,
          "nan_count": 0,
          "categories": [
           {
            "name": "As Bianco Research recently demonstrated, if FAAMG were its own sector, it would comprise a larger share of the S&P 500 Index than any sector has in the past and by a wide margin.",
            "count": 1
           },
           {
            "name": "These margin pressures have been a big contributing factor to the recent negative shift in the revisions trend, which consistently remained positive since July 2020. You can see this in the revisions trend for 2021 Q4...",
            "count": 1
           },
           {
            "name": "3 others",
            "count": 3
           }
          ]
         }
        },
        {
         "name": "_deepnote_index_column",
         "dtype": "int64"
        }
       ],
       "rows": [
        {
         "datetime": "2021-12-02T00:00:00.000000",
         "headline": "What May Prove Truly 'Transitory' Is FAAMG's Record Growth",
         "related": "AMZN",
         "summary": "As Bianco Research recently demonstrated, if FAAMG were its own sector, it would comprise a larger …",
         "_deepnote_index_column": 0
        },
        {
         "datetime": "2021-12-01T23:07:11.000000",
         "headline": "Looking Ahead to the Q4 Earnings Season",
         "related": "AMZN",
         "summary": "These margin pressures have been a big contributing factor to the recent negative shift in the revi…",
         "_deepnote_index_column": 1
        },
        {
         "datetime": "2021-12-01T22:51:06.000000",
         "headline": "Basket Trading With ETPs Gives Tactical Advantages And Market-Beating Returns",
         "related": "AMZN",
         "summary": "Basket opportunities abound in the ETN space but can also be replicated via ETPs. Click here to see…",
         "_deepnote_index_column": 2
        },
        {
         "datetime": "2021-12-01T21:32:59.000000",
         "headline": "Facebook’s Meta Ticker Trades in Canada, Ignores U.S. Delay",
         "related": "AMZN",
         "summary": "(Bloomberg) -- Meta Platforms Inc., the newly renamed owner of Facebook, has already started tradin…",
         "_deepnote_index_column": 3
        },
        {
         "datetime": "2021-12-01T19:12:26.000000",
         "headline": "Amazon eyes downtown D.C. for another full-service grocery store",
         "related": "AMZN",
         "summary": "Amazon.com Inc. (NASDAQ: AMZN) is eyeing downtown D.C. for another grocery store, according to publ…",
         "_deepnote_index_column": 4
        }
       ]
      },
      "text/plain": "             datetime                                           headline  \\\n0 2021-12-02 00:00:00  What May Prove Truly 'Transitory' Is FAAMG's R...   \n1 2021-12-01 23:07:11            Looking Ahead to the Q4 Earnings Season   \n2 2021-12-01 22:51:06  Basket Trading With ETPs Gives Tactical Advant...   \n3 2021-12-01 21:32:59  Facebook’s Meta Ticker Trades in Canada, Ignor...   \n4 2021-12-01 19:12:26  Amazon eyes downtown D.C. for another full-ser...   \n\n  related                                            summary  \n0    AMZN  As Bianco Research recently demonstrated, if F...  \n1    AMZN  These margin pressures have been a big contrib...  \n2    AMZN  Basket opportunities abound in the ETN space b...  \n3    AMZN  (Bloomberg) -- Meta Platforms Inc., the newly ...  \n4    AMZN  Amazon.com Inc. (NASDAQ: AMZN) is eyeing downt...  ",
      "text/html": "<div>\n<style scoped>\n    .dataframe tbody tr th:only-of-type {\n        vertical-align: middle;\n    }\n\n    .dataframe tbody tr th {\n        vertical-align: top;\n    }\n\n    .dataframe thead th {\n        text-align: right;\n    }\n</style>\n<table border=\"1\" class=\"dataframe\">\n  <thead>\n    <tr style=\"text-align: right;\">\n      <th></th>\n      <th>datetime</th>\n      <th>headline</th>\n      <th>related</th>\n      <th>summary</th>\n    </tr>\n  </thead>\n  <tbody>\n    <tr>\n      <th>0</th>\n      <td>2021-12-02 00:00:00</td>\n      <td>What May Prove Truly 'Transitory' Is FAAMG's R...</td>\n      <td>AMZN</td>\n      <td>As Bianco Research recently demonstrated, if F...</td>\n    </tr>\n    <tr>\n      <th>1</th>\n      <td>2021-12-01 23:07:11</td>\n      <td>Looking Ahead to the Q4 Earnings Season</td>\n      <td>AMZN</td>\n      <td>These margin pressures have been a big contrib...</td>\n    </tr>\n    <tr>\n      <th>2</th>\n      <td>2021-12-01 22:51:06</td>\n      <td>Basket Trading With ETPs Gives Tactical Advant...</td>\n      <td>AMZN</td>\n      <td>Basket opportunities abound in the ETN space b...</td>\n    </tr>\n    <tr>\n      <th>3</th>\n      <td>2021-12-01 21:32:59</td>\n      <td>Facebook’s Meta Ticker Trades in Canada, Ignor...</td>\n      <td>AMZN</td>\n      <td>(Bloomberg) -- Meta Platforms Inc., the newly ...</td>\n    </tr>\n    <tr>\n      <th>4</th>\n      <td>2021-12-01 19:12:26</td>\n      <td>Amazon eyes downtown D.C. for another full-ser...</td>\n      <td>AMZN</td>\n      <td>Amazon.com Inc. (NASDAQ: AMZN) is eyeing downt...</td>\n    </tr>\n  </tbody>\n</table>\n</div>"
     },
     "metadata": {}
    }
   ],
   "execution_count": null
  },
  {
   "cell_type": "code",
   "metadata": {
    "tags": [],
    "cell_id": "00039-7bc4db9f-2510-4951-9ed9-27a3a64b95bb",
    "deepnote_to_be_reexecuted": false,
    "source_hash": "5bc5cdbe",
    "execution_start": 1641293702382,
    "execution_millis": 0,
    "deepnote_cell_type": "code"
   },
   "source": "df.set_index('datetime',inplace=True)",
   "outputs": [],
   "execution_count": null
  },
  {
   "cell_type": "code",
   "metadata": {
    "tags": [],
    "cell_id": "00045-dc9f1ef3-8158-43af-b002-0ee9a26f1280",
    "deepnote_to_be_reexecuted": false,
    "source_hash": "14f60b8f",
    "execution_start": 1641293702990,
    "execution_millis": 10,
    "deepnote_output_heights": [
     21.1875
    ],
    "deepnote_cell_type": "code"
   },
   "source": "df.shape",
   "outputs": [
    {
     "output_type": "execute_result",
     "execution_count": 13,
     "data": {
      "text/plain": "(1283, 3)"
     },
     "metadata": {}
    }
   ],
   "execution_count": null
  },
  {
   "cell_type": "code",
   "metadata": {
    "tags": [],
    "cell_id": "00041-d0fb7e8c-ba4f-4c14-9e8d-fb0b43ac5803",
    "deepnote_to_be_reexecuted": false,
    "source_hash": "6cd8acfd",
    "execution_start": 1641293706126,
    "execution_millis": 40,
    "deepnote_output_heights": [
     558.796875
    ],
    "deepnote_cell_type": "code"
   },
   "source": "df.head(2)",
   "outputs": [
    {
     "output_type": "execute_result",
     "execution_count": 14,
     "data": {
      "application/vnd.deepnote.dataframe.v3+json": {
       "column_count": 3,
       "row_count": 2,
       "columns": [
        {
         "name": "headline",
         "dtype": "object",
         "stats": {
          "unique_count": 2,
          "nan_count": 0,
          "categories": [
           {
            "name": "What May Prove Truly 'Transitory' Is FAAMG's Record Growth",
            "count": 1
           },
           {
            "name": "Looking Ahead to the Q4 Earnings Season",
            "count": 1
           }
          ]
         }
        },
        {
         "name": "related",
         "dtype": "object",
         "stats": {
          "unique_count": 1,
          "nan_count": 0,
          "categories": [
           {
            "name": "AMZN",
            "count": 2
           }
          ]
         }
        },
        {
         "name": "summary",
         "dtype": "object",
         "stats": {
          "unique_count": 2,
          "nan_count": 0,
          "categories": [
           {
            "name": "As Bianco Research recently demonstrated, if FAAMG were its own sector, it would comprise a larger share of the S&P 500 Index than any sector has in the past and by a wide margin.",
            "count": 1
           },
           {
            "name": "These margin pressures have been a big contributing factor to the recent negative shift in the revisions trend, which consistently remained positive since July 2020. You can see this in the revisions trend for 2021 Q4...",
            "count": 1
           }
          ]
         }
        },
        {
         "name": "_deepnote_index_column",
         "dtype": "datetime64[ns]"
        }
       ],
       "rows": [
        {
         "headline": "What May Prove Truly 'Transitory' Is FAAMG's Record Growth",
         "related": "AMZN",
         "summary": "As Bianco Research recently demonstrated, if FAAMG were its own sector, it would comprise a larger …",
         "_deepnote_index_column": "2021-12-02T00:00:00.000000"
        },
        {
         "headline": "Looking Ahead to the Q4 Earnings Season",
         "related": "AMZN",
         "summary": "These margin pressures have been a big contributing factor to the recent negative shift in the revi…",
         "_deepnote_index_column": "2021-12-01T23:07:11.000000"
        }
       ]
      },
      "text/plain": "                                                              headline  \\\ndatetime                                                                 \n2021-12-02 00:00:00  What May Prove Truly 'Transitory' Is FAAMG's R...   \n2021-12-01 23:07:11            Looking Ahead to the Q4 Earnings Season   \n\n                    related                                            summary  \ndatetime                                                                        \n2021-12-02 00:00:00    AMZN  As Bianco Research recently demonstrated, if F...  \n2021-12-01 23:07:11    AMZN  These margin pressures have been a big contrib...  ",
      "text/html": "<div>\n<style scoped>\n    .dataframe tbody tr th:only-of-type {\n        vertical-align: middle;\n    }\n\n    .dataframe tbody tr th {\n        vertical-align: top;\n    }\n\n    .dataframe thead th {\n        text-align: right;\n    }\n</style>\n<table border=\"1\" class=\"dataframe\">\n  <thead>\n    <tr style=\"text-align: right;\">\n      <th></th>\n      <th>headline</th>\n      <th>related</th>\n      <th>summary</th>\n    </tr>\n    <tr>\n      <th>datetime</th>\n      <th></th>\n      <th></th>\n      <th></th>\n    </tr>\n  </thead>\n  <tbody>\n    <tr>\n      <th>2021-12-02 00:00:00</th>\n      <td>What May Prove Truly 'Transitory' Is FAAMG's R...</td>\n      <td>AMZN</td>\n      <td>As Bianco Research recently demonstrated, if F...</td>\n    </tr>\n    <tr>\n      <th>2021-12-01 23:07:11</th>\n      <td>Looking Ahead to the Q4 Earnings Season</td>\n      <td>AMZN</td>\n      <td>These margin pressures have been a big contrib...</td>\n    </tr>\n  </tbody>\n</table>\n</div>"
     },
     "metadata": {}
    }
   ],
   "execution_count": null
  },
  {
   "cell_type": "code",
   "metadata": {
    "tags": [],
    "cell_id": "00046-d46f34e1-f6e2-4f5d-9b95-4cf7d20c7903",
    "deepnote_to_be_reexecuted": false,
    "source_hash": "af0accaf",
    "execution_start": 1641293706814,
    "execution_millis": 14921,
    "deepnote_cell_type": "code"
   },
   "source": "for i in range(1, len(df) + 1):\n    j = df.columns.get_loc('headline')\n    if(detect(df.iloc[i-1][j])!='en'):\n        df.iat[i - 1, j] = \"yes\"\n    \n",
   "outputs": [],
   "execution_count": null
  },
  {
   "cell_type": "code",
   "metadata": {
    "tags": [],
    "cell_id": "00049-2ef077f0-2fde-4ac7-8799-48404d471ea6",
    "deepnote_to_be_reexecuted": false,
    "source_hash": "f9f7fcf6",
    "execution_start": 1641293721735,
    "execution_millis": 1,
    "deepnote_cell_type": "code"
   },
   "source": "df.drop(df[df.headline=='yes'].index,inplace=True)",
   "outputs": [],
   "execution_count": null
  },
  {
   "cell_type": "code",
   "metadata": {
    "tags": [],
    "cell_id": "00050-db9176e0-6078-439b-a394-24c51226ecb4",
    "deepnote_to_be_reexecuted": false,
    "source_hash": "14f60b8f",
    "execution_start": 1641293721736,
    "execution_millis": 76,
    "deepnote_output_heights": [
     21.1875
    ],
    "deepnote_cell_type": "code"
   },
   "source": "df.shape",
   "outputs": [
    {
     "output_type": "execute_result",
     "execution_count": 17,
     "data": {
      "text/plain": "(1248, 3)"
     },
     "metadata": {}
    }
   ],
   "execution_count": null
  },
  {
   "cell_type": "code",
   "metadata": {
    "tags": [],
    "cell_id": "00051-2a05fa98-beba-4ff7-9f75-fb632871e0b5",
    "deepnote_to_be_reexecuted": false,
    "source_hash": "29564162",
    "execution_start": 1641293727314,
    "execution_millis": 5,
    "deepnote_cell_type": "code"
   },
   "source": "df.drop('summary',axis=1,inplace=True)",
   "outputs": [],
   "execution_count": null
  },
  {
   "cell_type": "code",
   "metadata": {
    "tags": [],
    "cell_id": "00016-122486ed-9845-46ae-a4f7-ce1a7e1c7a41",
    "deepnote_to_be_reexecuted": false,
    "source_hash": "6cd8acfd",
    "execution_start": 1641293728123,
    "execution_millis": 32,
    "deepnote_cell_type": "code"
   },
   "source": "df.head(2)",
   "outputs": [
    {
     "output_type": "execute_result",
     "execution_count": 19,
     "data": {
      "application/vnd.deepnote.dataframe.v3+json": {
       "column_count": 2,
       "row_count": 2,
       "columns": [
        {
         "name": "headline",
         "dtype": "object",
         "stats": {
          "unique_count": 2,
          "nan_count": 0,
          "categories": [
           {
            "name": "What May Prove Truly 'Transitory' Is FAAMG's Record Growth",
            "count": 1
           },
           {
            "name": "Looking Ahead to the Q4 Earnings Season",
            "count": 1
           }
          ]
         }
        },
        {
         "name": "related",
         "dtype": "object",
         "stats": {
          "unique_count": 1,
          "nan_count": 0,
          "categories": [
           {
            "name": "AMZN",
            "count": 2
           }
          ]
         }
        },
        {
         "name": "_deepnote_index_column",
         "dtype": "datetime64[ns]"
        }
       ],
       "rows": [
        {
         "headline": "What May Prove Truly 'Transitory' Is FAAMG's Record Growth",
         "related": "AMZN",
         "_deepnote_index_column": "2021-12-02T00:00:00.000000"
        },
        {
         "headline": "Looking Ahead to the Q4 Earnings Season",
         "related": "AMZN",
         "_deepnote_index_column": "2021-12-01T23:07:11.000000"
        }
       ]
      },
      "text/plain": "                                                              headline related\ndatetime                                                                      \n2021-12-02 00:00:00  What May Prove Truly 'Transitory' Is FAAMG's R...    AMZN\n2021-12-01 23:07:11            Looking Ahead to the Q4 Earnings Season    AMZN",
      "text/html": "<div>\n<style scoped>\n    .dataframe tbody tr th:only-of-type {\n        vertical-align: middle;\n    }\n\n    .dataframe tbody tr th {\n        vertical-align: top;\n    }\n\n    .dataframe thead th {\n        text-align: right;\n    }\n</style>\n<table border=\"1\" class=\"dataframe\">\n  <thead>\n    <tr style=\"text-align: right;\">\n      <th></th>\n      <th>headline</th>\n      <th>related</th>\n    </tr>\n    <tr>\n      <th>datetime</th>\n      <th></th>\n      <th></th>\n    </tr>\n  </thead>\n  <tbody>\n    <tr>\n      <th>2021-12-02 00:00:00</th>\n      <td>What May Prove Truly 'Transitory' Is FAAMG's R...</td>\n      <td>AMZN</td>\n    </tr>\n    <tr>\n      <th>2021-12-01 23:07:11</th>\n      <td>Looking Ahead to the Q4 Earnings Season</td>\n      <td>AMZN</td>\n    </tr>\n  </tbody>\n</table>\n</div>"
     },
     "metadata": {}
    }
   ],
   "execution_count": null
  },
  {
   "cell_type": "code",
   "metadata": {
    "tags": [],
    "cell_id": "00051-bb60dedf-3b7f-49f9-92d0-2ed7652ea827",
    "deepnote_to_be_reexecuted": false,
    "source_hash": "f026201e",
    "execution_start": 1641293731145,
    "execution_millis": 6,
    "deepnote_cell_type": "code"
   },
   "source": "df = df.reset_index()",
   "outputs": [],
   "execution_count": null
  },
  {
   "cell_type": "code",
   "metadata": {
    "tags": [],
    "cell_id": "00054-fbc759ac-bb73-4f80-8211-9d16ea954dbd",
    "deepnote_to_be_reexecuted": false,
    "source_hash": "6cd8acfd",
    "execution_start": 1641293733104,
    "execution_millis": 13,
    "deepnote_cell_type": "code"
   },
   "source": "df.head(2)",
   "outputs": [
    {
     "output_type": "execute_result",
     "execution_count": 21,
     "data": {
      "application/vnd.deepnote.dataframe.v3+json": {
       "column_count": 3,
       "row_count": 2,
       "columns": [
        {
         "name": "datetime",
         "dtype": "datetime64[ns]",
         "stats": {
          "unique_count": 2,
          "nan_count": 0,
          "min": "2021-12-01 23:07:11",
          "max": "2021-12-02 00:00:00",
          "histogram": [
           {
            "bin_start": 1638400031000000000,
            "bin_end": 1638400347900000000,
            "count": 1
           },
           {
            "bin_start": 1638400347900000000,
            "bin_end": 1638400664800000000,
            "count": 0
           },
           {
            "bin_start": 1638400664800000000,
            "bin_end": 1638400981700000000,
            "count": 0
           },
           {
            "bin_start": 1638400981700000000,
            "bin_end": 1638401298600000000,
            "count": 0
           },
           {
            "bin_start": 1638401298600000000,
            "bin_end": 1638401615500000000,
            "count": 0
           },
           {
            "bin_start": 1638401615500000000,
            "bin_end": 1638401932400000000,
            "count": 0
           },
           {
            "bin_start": 1638401932400000000,
            "bin_end": 1638402249300000000,
            "count": 0
           },
           {
            "bin_start": 1638402249300000000,
            "bin_end": 1638402566200000000,
            "count": 0
           },
           {
            "bin_start": 1638402566200000000,
            "bin_end": 1638402883100000000,
            "count": 0
           },
           {
            "bin_start": 1638402883100000000,
            "bin_end": 1638403200000000000,
            "count": 1
           }
          ]
         }
        },
        {
         "name": "headline",
         "dtype": "object",
         "stats": {
          "unique_count": 2,
          "nan_count": 0,
          "categories": [
           {
            "name": "What May Prove Truly 'Transitory' Is FAAMG's Record Growth",
            "count": 1
           },
           {
            "name": "Looking Ahead to the Q4 Earnings Season",
            "count": 1
           }
          ]
         }
        },
        {
         "name": "related",
         "dtype": "object",
         "stats": {
          "unique_count": 1,
          "nan_count": 0,
          "categories": [
           {
            "name": "AMZN",
            "count": 2
           }
          ]
         }
        },
        {
         "name": "_deepnote_index_column",
         "dtype": "int64"
        }
       ],
       "rows": [
        {
         "datetime": "2021-12-02T00:00:00.000000",
         "headline": "What May Prove Truly 'Transitory' Is FAAMG's Record Growth",
         "related": "AMZN",
         "_deepnote_index_column": 0
        },
        {
         "datetime": "2021-12-01T23:07:11.000000",
         "headline": "Looking Ahead to the Q4 Earnings Season",
         "related": "AMZN",
         "_deepnote_index_column": 1
        }
       ]
      },
      "text/plain": "             datetime                                           headline  \\\n0 2021-12-02 00:00:00  What May Prove Truly 'Transitory' Is FAAMG's R...   \n1 2021-12-01 23:07:11            Looking Ahead to the Q4 Earnings Season   \n\n  related  \n0    AMZN  \n1    AMZN  ",
      "text/html": "<div>\n<style scoped>\n    .dataframe tbody tr th:only-of-type {\n        vertical-align: middle;\n    }\n\n    .dataframe tbody tr th {\n        vertical-align: top;\n    }\n\n    .dataframe thead th {\n        text-align: right;\n    }\n</style>\n<table border=\"1\" class=\"dataframe\">\n  <thead>\n    <tr style=\"text-align: right;\">\n      <th></th>\n      <th>datetime</th>\n      <th>headline</th>\n      <th>related</th>\n    </tr>\n  </thead>\n  <tbody>\n    <tr>\n      <th>0</th>\n      <td>2021-12-02 00:00:00</td>\n      <td>What May Prove Truly 'Transitory' Is FAAMG's R...</td>\n      <td>AMZN</td>\n    </tr>\n    <tr>\n      <th>1</th>\n      <td>2021-12-01 23:07:11</td>\n      <td>Looking Ahead to the Q4 Earnings Season</td>\n      <td>AMZN</td>\n    </tr>\n  </tbody>\n</table>\n</div>"
     },
     "metadata": {}
    }
   ],
   "execution_count": null
  },
  {
   "cell_type": "code",
   "metadata": {
    "tags": [],
    "cell_id": "00055-24d6485e-79d2-462d-be5b-13c6d5cc8ab1",
    "deepnote_to_be_reexecuted": false,
    "source_hash": "b21c22de",
    "execution_start": 1641293737652,
    "execution_millis": 5,
    "deepnote_cell_type": "code"
   },
   "source": "df['Date'] = pd.to_datetime(df['datetime']).dt.date\ndf['Time'] = pd.to_datetime(df['datetime']).dt.time",
   "outputs": [],
   "execution_count": null
  },
  {
   "cell_type": "code",
   "metadata": {
    "tags": [],
    "cell_id": "00056-23d1ca8b-26f2-44ae-b7aa-ed8e15f56bcd",
    "deepnote_to_be_reexecuted": false,
    "source_hash": "6cd8acfd",
    "execution_start": 1641293738243,
    "execution_millis": 199,
    "deepnote_cell_type": "code"
   },
   "source": "df.head(2)",
   "outputs": [
    {
     "output_type": "execute_result",
     "execution_count": 23,
     "data": {
      "application/vnd.deepnote.dataframe.v3+json": {
       "column_count": 5,
       "row_count": 2,
       "columns": [
        {
         "name": "datetime",
         "dtype": "datetime64[ns]",
         "stats": {
          "unique_count": 2,
          "nan_count": 0,
          "min": "2021-12-01 23:07:11",
          "max": "2021-12-02 00:00:00",
          "histogram": [
           {
            "bin_start": 1638400031000000000,
            "bin_end": 1638400347900000000,
            "count": 1
           },
           {
            "bin_start": 1638400347900000000,
            "bin_end": 1638400664800000000,
            "count": 0
           },
           {
            "bin_start": 1638400664800000000,
            "bin_end": 1638400981700000000,
            "count": 0
           },
           {
            "bin_start": 1638400981700000000,
            "bin_end": 1638401298600000000,
            "count": 0
           },
           {
            "bin_start": 1638401298600000000,
            "bin_end": 1638401615500000000,
            "count": 0
           },
           {
            "bin_start": 1638401615500000000,
            "bin_end": 1638401932400000000,
            "count": 0
           },
           {
            "bin_start": 1638401932400000000,
            "bin_end": 1638402249300000000,
            "count": 0
           },
           {
            "bin_start": 1638402249300000000,
            "bin_end": 1638402566200000000,
            "count": 0
           },
           {
            "bin_start": 1638402566200000000,
            "bin_end": 1638402883100000000,
            "count": 0
           },
           {
            "bin_start": 1638402883100000000,
            "bin_end": 1638403200000000000,
            "count": 1
           }
          ]
         }
        },
        {
         "name": "headline",
         "dtype": "object",
         "stats": {
          "unique_count": 2,
          "nan_count": 0,
          "categories": [
           {
            "name": "What May Prove Truly 'Transitory' Is FAAMG's Record Growth",
            "count": 1
           },
           {
            "name": "Looking Ahead to the Q4 Earnings Season",
            "count": 1
           }
          ]
         }
        },
        {
         "name": "related",
         "dtype": "object",
         "stats": {
          "unique_count": 1,
          "nan_count": 0,
          "categories": [
           {
            "name": "AMZN",
            "count": 2
           }
          ]
         }
        },
        {
         "name": "Date",
         "dtype": "object",
         "stats": {
          "unique_count": 2,
          "nan_count": 0,
          "categories": [
           {
            "name": "2021-12-02",
            "count": 1
           },
           {
            "name": "2021-12-01",
            "count": 1
           }
          ]
         }
        },
        {
         "name": "Time",
         "dtype": "object",
         "stats": {
          "unique_count": 2,
          "nan_count": 0,
          "categories": [
           {
            "name": "00:00:00",
            "count": 1
           },
           {
            "name": "23:07:11",
            "count": 1
           }
          ]
         }
        },
        {
         "name": "_deepnote_index_column",
         "dtype": "int64"
        }
       ],
       "rows": [
        {
         "datetime": "2021-12-02T00:00:00.000000",
         "headline": "What May Prove Truly 'Transitory' Is FAAMG's Record Growth",
         "related": "AMZN",
         "Date": "2021-12-02",
         "Time": "00:00:00",
         "_deepnote_index_column": 0
        },
        {
         "datetime": "2021-12-01T23:07:11.000000",
         "headline": "Looking Ahead to the Q4 Earnings Season",
         "related": "AMZN",
         "Date": "2021-12-01",
         "Time": "23:07:11",
         "_deepnote_index_column": 1
        }
       ]
      },
      "text/plain": "             datetime                                           headline  \\\n0 2021-12-02 00:00:00  What May Prove Truly 'Transitory' Is FAAMG's R...   \n1 2021-12-01 23:07:11            Looking Ahead to the Q4 Earnings Season   \n\n  related        Date      Time  \n0    AMZN  2021-12-02  00:00:00  \n1    AMZN  2021-12-01  23:07:11  ",
      "text/html": "<div>\n<style scoped>\n    .dataframe tbody tr th:only-of-type {\n        vertical-align: middle;\n    }\n\n    .dataframe tbody tr th {\n        vertical-align: top;\n    }\n\n    .dataframe thead th {\n        text-align: right;\n    }\n</style>\n<table border=\"1\" class=\"dataframe\">\n  <thead>\n    <tr style=\"text-align: right;\">\n      <th></th>\n      <th>datetime</th>\n      <th>headline</th>\n      <th>related</th>\n      <th>Date</th>\n      <th>Time</th>\n    </tr>\n  </thead>\n  <tbody>\n    <tr>\n      <th>0</th>\n      <td>2021-12-02 00:00:00</td>\n      <td>What May Prove Truly 'Transitory' Is FAAMG's R...</td>\n      <td>AMZN</td>\n      <td>2021-12-02</td>\n      <td>00:00:00</td>\n    </tr>\n    <tr>\n      <th>1</th>\n      <td>2021-12-01 23:07:11</td>\n      <td>Looking Ahead to the Q4 Earnings Season</td>\n      <td>AMZN</td>\n      <td>2021-12-01</td>\n      <td>23:07:11</td>\n    </tr>\n  </tbody>\n</table>\n</div>"
     },
     "metadata": {}
    }
   ],
   "execution_count": null
  },
  {
   "cell_type": "code",
   "metadata": {
    "tags": [],
    "cell_id": "00057-027d0f75-d9df-4903-bd96-88db4642de26",
    "deepnote_to_be_reexecuted": false,
    "source_hash": "28347d9b",
    "execution_start": 1641293741381,
    "execution_millis": 10,
    "deepnote_cell_type": "code"
   },
   "source": "df.drop('datetime',inplace=True,axis=1)",
   "outputs": [],
   "execution_count": null
  },
  {
   "cell_type": "code",
   "metadata": {
    "tags": [],
    "cell_id": "00058-4eeda0e0-b99e-4e50-971b-3a4e5db930ca",
    "deepnote_to_be_reexecuted": false,
    "source_hash": "6cd8acfd",
    "execution_start": 1641293741434,
    "execution_millis": 6,
    "deepnote_cell_type": "code"
   },
   "source": "df.head(2)",
   "outputs": [
    {
     "output_type": "execute_result",
     "execution_count": 25,
     "data": {
      "application/vnd.deepnote.dataframe.v3+json": {
       "column_count": 4,
       "row_count": 2,
       "columns": [
        {
         "name": "headline",
         "dtype": "object",
         "stats": {
          "unique_count": 2,
          "nan_count": 0,
          "categories": [
           {
            "name": "What May Prove Truly 'Transitory' Is FAAMG's Record Growth",
            "count": 1
           },
           {
            "name": "Looking Ahead to the Q4 Earnings Season",
            "count": 1
           }
          ]
         }
        },
        {
         "name": "related",
         "dtype": "object",
         "stats": {
          "unique_count": 1,
          "nan_count": 0,
          "categories": [
           {
            "name": "AMZN",
            "count": 2
           }
          ]
         }
        },
        {
         "name": "Date",
         "dtype": "object",
         "stats": {
          "unique_count": 2,
          "nan_count": 0,
          "categories": [
           {
            "name": "2021-12-02",
            "count": 1
           },
           {
            "name": "2021-12-01",
            "count": 1
           }
          ]
         }
        },
        {
         "name": "Time",
         "dtype": "object",
         "stats": {
          "unique_count": 2,
          "nan_count": 0,
          "categories": [
           {
            "name": "00:00:00",
            "count": 1
           },
           {
            "name": "23:07:11",
            "count": 1
           }
          ]
         }
        },
        {
         "name": "_deepnote_index_column",
         "dtype": "int64"
        }
       ],
       "rows": [
        {
         "headline": "What May Prove Truly 'Transitory' Is FAAMG's Record Growth",
         "related": "AMZN",
         "Date": "2021-12-02",
         "Time": "00:00:00",
         "_deepnote_index_column": 0
        },
        {
         "headline": "Looking Ahead to the Q4 Earnings Season",
         "related": "AMZN",
         "Date": "2021-12-01",
         "Time": "23:07:11",
         "_deepnote_index_column": 1
        }
       ]
      },
      "text/plain": "                                            headline related        Date  \\\n0  What May Prove Truly 'Transitory' Is FAAMG's R...    AMZN  2021-12-02   \n1            Looking Ahead to the Q4 Earnings Season    AMZN  2021-12-01   \n\n       Time  \n0  00:00:00  \n1  23:07:11  ",
      "text/html": "<div>\n<style scoped>\n    .dataframe tbody tr th:only-of-type {\n        vertical-align: middle;\n    }\n\n    .dataframe tbody tr th {\n        vertical-align: top;\n    }\n\n    .dataframe thead th {\n        text-align: right;\n    }\n</style>\n<table border=\"1\" class=\"dataframe\">\n  <thead>\n    <tr style=\"text-align: right;\">\n      <th></th>\n      <th>headline</th>\n      <th>related</th>\n      <th>Date</th>\n      <th>Time</th>\n    </tr>\n  </thead>\n  <tbody>\n    <tr>\n      <th>0</th>\n      <td>What May Prove Truly 'Transitory' Is FAAMG's R...</td>\n      <td>AMZN</td>\n      <td>2021-12-02</td>\n      <td>00:00:00</td>\n    </tr>\n    <tr>\n      <th>1</th>\n      <td>Looking Ahead to the Q4 Earnings Season</td>\n      <td>AMZN</td>\n      <td>2021-12-01</td>\n      <td>23:07:11</td>\n    </tr>\n  </tbody>\n</table>\n</div>"
     },
     "metadata": {}
    }
   ],
   "execution_count": null
  },
  {
   "cell_type": "code",
   "metadata": {
    "tags": [],
    "cell_id": "00059-a03c2f30-c63f-4d40-9b38-5638139b693f",
    "deepnote_to_be_reexecuted": false,
    "source_hash": "51ccf39a",
    "execution_start": 1641293744964,
    "execution_millis": 4,
    "deepnote_cell_type": "code"
   },
   "source": "df = df[[\"Date\",\"Time\",\"headline\",\"related\"]]",
   "outputs": [],
   "execution_count": null
  },
  {
   "cell_type": "code",
   "metadata": {
    "tags": [],
    "cell_id": "00060-06588543-74aa-4137-ab12-e67418664c48",
    "deepnote_to_be_reexecuted": false,
    "source_hash": "245876d0",
    "execution_start": 1641293745034,
    "execution_millis": 25,
    "deepnote_output_heights": [
     177
    ],
    "deepnote_cell_type": "code"
   },
   "source": "df.head(5)",
   "outputs": [
    {
     "output_type": "execute_result",
     "execution_count": 27,
     "data": {
      "application/vnd.deepnote.dataframe.v3+json": {
       "column_count": 4,
       "row_count": 5,
       "columns": [
        {
         "name": "Date",
         "dtype": "object",
         "stats": {
          "unique_count": 2,
          "nan_count": 0,
          "categories": [
           {
            "name": "2021-12-01",
            "count": 4
           },
           {
            "name": "2021-12-02",
            "count": 1
           }
          ]
         }
        },
        {
         "name": "Time",
         "dtype": "object",
         "stats": {
          "unique_count": 5,
          "nan_count": 0,
          "categories": [
           {
            "name": "00:00:00",
            "count": 1
           },
           {
            "name": "23:07:11",
            "count": 1
           },
           {
            "name": "3 others",
            "count": 3
           }
          ]
         }
        },
        {
         "name": "headline",
         "dtype": "object",
         "stats": {
          "unique_count": 5,
          "nan_count": 0,
          "categories": [
           {
            "name": "What May Prove Truly 'Transitory' Is FAAMG's Record Growth",
            "count": 1
           },
           {
            "name": "Looking Ahead to the Q4 Earnings Season",
            "count": 1
           },
           {
            "name": "3 others",
            "count": 3
           }
          ]
         }
        },
        {
         "name": "related",
         "dtype": "object",
         "stats": {
          "unique_count": 1,
          "nan_count": 0,
          "categories": [
           {
            "name": "AMZN",
            "count": 5
           }
          ]
         }
        },
        {
         "name": "_deepnote_index_column",
         "dtype": "int64"
        }
       ],
       "rows": [
        {
         "Date": "2021-12-02",
         "Time": "00:00:00",
         "headline": "What May Prove Truly 'Transitory' Is FAAMG's Record Growth",
         "related": "AMZN",
         "_deepnote_index_column": 0
        },
        {
         "Date": "2021-12-01",
         "Time": "23:07:11",
         "headline": "Looking Ahead to the Q4 Earnings Season",
         "related": "AMZN",
         "_deepnote_index_column": 1
        },
        {
         "Date": "2021-12-01",
         "Time": "22:51:06",
         "headline": "Basket Trading With ETPs Gives Tactical Advantages And Market-Beating Returns",
         "related": "AMZN",
         "_deepnote_index_column": 2
        },
        {
         "Date": "2021-12-01",
         "Time": "21:32:59",
         "headline": "Facebook’s Meta Ticker Trades in Canada, Ignores U.S. Delay",
         "related": "AMZN",
         "_deepnote_index_column": 3
        },
        {
         "Date": "2021-12-01",
         "Time": "19:12:26",
         "headline": "Amazon eyes downtown D.C. for another full-service grocery store",
         "related": "AMZN",
         "_deepnote_index_column": 4
        }
       ]
      },
      "text/plain": "         Date      Time                                           headline  \\\n0  2021-12-02  00:00:00  What May Prove Truly 'Transitory' Is FAAMG's R...   \n1  2021-12-01  23:07:11            Looking Ahead to the Q4 Earnings Season   \n2  2021-12-01  22:51:06  Basket Trading With ETPs Gives Tactical Advant...   \n3  2021-12-01  21:32:59  Facebook’s Meta Ticker Trades in Canada, Ignor...   \n4  2021-12-01  19:12:26  Amazon eyes downtown D.C. for another full-ser...   \n\n  related  \n0    AMZN  \n1    AMZN  \n2    AMZN  \n3    AMZN  \n4    AMZN  ",
      "text/html": "<div>\n<style scoped>\n    .dataframe tbody tr th:only-of-type {\n        vertical-align: middle;\n    }\n\n    .dataframe tbody tr th {\n        vertical-align: top;\n    }\n\n    .dataframe thead th {\n        text-align: right;\n    }\n</style>\n<table border=\"1\" class=\"dataframe\">\n  <thead>\n    <tr style=\"text-align: right;\">\n      <th></th>\n      <th>Date</th>\n      <th>Time</th>\n      <th>headline</th>\n      <th>related</th>\n    </tr>\n  </thead>\n  <tbody>\n    <tr>\n      <th>0</th>\n      <td>2021-12-02</td>\n      <td>00:00:00</td>\n      <td>What May Prove Truly 'Transitory' Is FAAMG's R...</td>\n      <td>AMZN</td>\n    </tr>\n    <tr>\n      <th>1</th>\n      <td>2021-12-01</td>\n      <td>23:07:11</td>\n      <td>Looking Ahead to the Q4 Earnings Season</td>\n      <td>AMZN</td>\n    </tr>\n    <tr>\n      <th>2</th>\n      <td>2021-12-01</td>\n      <td>22:51:06</td>\n      <td>Basket Trading With ETPs Gives Tactical Advant...</td>\n      <td>AMZN</td>\n    </tr>\n    <tr>\n      <th>3</th>\n      <td>2021-12-01</td>\n      <td>21:32:59</td>\n      <td>Facebook’s Meta Ticker Trades in Canada, Ignor...</td>\n      <td>AMZN</td>\n    </tr>\n    <tr>\n      <th>4</th>\n      <td>2021-12-01</td>\n      <td>19:12:26</td>\n      <td>Amazon eyes downtown D.C. for another full-ser...</td>\n      <td>AMZN</td>\n    </tr>\n  </tbody>\n</table>\n</div>"
     },
     "metadata": {}
    }
   ],
   "execution_count": null
  },
  {
   "cell_type": "code",
   "metadata": {
    "tags": [],
    "cell_id": "00061-0732d34f-7969-4b1f-a134-3f638b6ee23c",
    "deepnote_to_be_reexecuted": false,
    "source_hash": "8b37208b",
    "execution_start": 1641144272068,
    "execution_millis": 3,
    "deepnote_cell_type": "code"
   },
   "source": "df.to_csv(\"T_AMZN_Bert.csv\")",
   "execution_count": null,
   "outputs": []
  },
  {
   "cell_type": "markdown",
   "source": "<a style='text-decoration:none;line-height:16px;display:flex;color:#5B5B62;padding:10px;justify-content:end;' href='https://deepnote.com?utm_source=created-in-deepnote-cell&projectId=c947f5a5-cf62-419b-9ff4-685ccc21bdac' target=\"_blank\">\n<img alt='Created in deepnote.com' style='display:inline;max-height:16px;margin:0px;margin-right:7.5px;' src='data:image/svg+xml;base64,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' > </img>\nCreated in <span style='font-weight:600;margin-left:4px;'>Deepnote</span></a>",
   "metadata": {
    "tags": [],
    "created_in_deepnote_cell": true,
    "deepnote_cell_type": "markdown"
   }
  }
 ],
 "nbformat": 4,
 "nbformat_minor": 2,
 "metadata": {
  "orig_nbformat": 2,
  "deepnote": {
   "is_reactive": false
  },
  "deepnote_notebook_id": "e9e7c934-69ad-44f1-81fa-2a19ed0c96dc",
  "deepnote_execution_queue": []
 }
}