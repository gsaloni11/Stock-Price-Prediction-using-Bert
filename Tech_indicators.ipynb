{
 "cells": [
  {
   "cell_type": "markdown",
   "metadata": {},
   "source": [
    "### Import Libraries"
   ]
  },
  {
   "cell_type": "code",
   "execution_count": 1,
   "metadata": {},
   "outputs": [],
   "source": [
    "import pandas as pd\n",
    "import numpy as np"
   ]
  },
  {
   "cell_type": "code",
   "execution_count": 2,
   "metadata": {},
   "outputs": [
    {
     "name": "stdout",
     "output_type": "stream",
     "text": [
      "Requirement already satisfied: pip in c:\\users\\saloni\\anaconda3\\lib\\site-packages (21.3.1)\n"
     ]
    }
   ],
   "source": [
    "!pip3 install --upgrade pip"
   ]
  },
  {
   "cell_type": "code",
   "execution_count": 3,
   "metadata": {},
   "outputs": [
    {
     "name": "stdout",
     "output_type": "stream",
     "text": [
      "Requirement already satisfied: pip in c:\\users\\saloni\\anaconda3\\lib\\site-packages (21.3.1)\n",
      "Requirement already satisfied: setuptools in c:\\users\\saloni\\anaconda3\\lib\\site-packages (60.0.5)\n",
      "Collecting setuptools\n",
      "  Downloading setuptools-60.1.0-py3-none-any.whl (952 kB)\n",
      "Requirement already satisfied: wheel in c:\\users\\saloni\\anaconda3\\lib\\site-packages (0.37.1)\n",
      "Installing collected packages: setuptools\n",
      "  Attempting uninstall: setuptools\n",
      "    Found existing installation: setuptools 60.0.5\n",
      "    Uninstalling setuptools-60.0.5:\n",
      "      Successfully uninstalled setuptools-60.0.5\n",
      "Successfully installed setuptools-60.1.0\n"
     ]
    }
   ],
   "source": [
    "!pip install --upgrade pip setuptools wheel"
   ]
  },
  {
   "cell_type": "code",
   "execution_count": null,
   "metadata": {},
   "outputs": [],
   "source": [
    "!pip install TA-Lib"
   ]
  },
  {
   "cell_type": "code",
   "execution_count": 2,
   "metadata": {},
   "outputs": [],
   "source": [
    "import talib as ta"
   ]
  },
  {
   "cell_type": "markdown",
   "metadata": {},
   "source": [
    "### Read Data from csv file"
   ]
  },
  {
   "cell_type": "code",
   "execution_count": 71,
   "metadata": {},
   "outputs": [],
   "source": [
    "df1 = pd.read_csv('T_hist_amzn.csv')"
   ]
  },
  {
   "cell_type": "code",
   "execution_count": 72,
   "metadata": {},
   "outputs": [
    {
     "data": {
      "text/html": [
       "<div>\n",
       "<style scoped>\n",
       "    .dataframe tbody tr th:only-of-type {\n",
       "        vertical-align: middle;\n",
       "    }\n",
       "\n",
       "    .dataframe tbody tr th {\n",
       "        vertical-align: top;\n",
       "    }\n",
       "\n",
       "    .dataframe thead th {\n",
       "        text-align: right;\n",
       "    }\n",
       "</style>\n",
       "<table border=\"1\" class=\"dataframe\">\n",
       "  <thead>\n",
       "    <tr style=\"text-align: right;\">\n",
       "      <th></th>\n",
       "      <th>Date</th>\n",
       "      <th>Open</th>\n",
       "      <th>High</th>\n",
       "      <th>Low</th>\n",
       "      <th>Close</th>\n",
       "      <th>Adj Close</th>\n",
       "      <th>Volume</th>\n",
       "      <th>Stock_Code</th>\n",
       "    </tr>\n",
       "  </thead>\n",
       "  <tbody>\n",
       "    <tr>\n",
       "      <th>0</th>\n",
       "      <td>2021-12-01</td>\n",
       "      <td>3545.0</td>\n",
       "      <td>3559.879883</td>\n",
       "      <td>3441.600098</td>\n",
       "      <td>3443.719971</td>\n",
       "      <td>3443.719971</td>\n",
       "      <td>3745800</td>\n",
       "      <td>AMZN</td>\n",
       "    </tr>\n",
       "    <tr>\n",
       "      <th>1</th>\n",
       "      <td>2021-12-02</td>\n",
       "      <td>3460.0</td>\n",
       "      <td>3492.699951</td>\n",
       "      <td>3423.750000</td>\n",
       "      <td>3437.360107</td>\n",
       "      <td>3437.360107</td>\n",
       "      <td>3236300</td>\n",
       "      <td>AMZN</td>\n",
       "    </tr>\n",
       "  </tbody>\n",
       "</table>\n",
       "</div>"
      ],
      "text/plain": [
       "         Date    Open         High          Low        Close    Adj Close  \\\n",
       "0  2021-12-01  3545.0  3559.879883  3441.600098  3443.719971  3443.719971   \n",
       "1  2021-12-02  3460.0  3492.699951  3423.750000  3437.360107  3437.360107   \n",
       "\n",
       "    Volume Stock_Code  \n",
       "0  3745800       AMZN  \n",
       "1  3236300       AMZN  "
      ]
     },
     "execution_count": 72,
     "metadata": {},
     "output_type": "execute_result"
    }
   ],
   "source": [
    "df1.head(2)"
   ]
  },
  {
   "cell_type": "markdown",
   "metadata": {},
   "source": [
    "### Drop the unnecessary columns"
   ]
  },
  {
   "cell_type": "markdown",
   "metadata": {},
   "source": [
    "#### Keep Opening, Closing, Highest, Lowest Price, Volume and Date"
   ]
  },
  {
   "cell_type": "code",
   "execution_count": 73,
   "metadata": {},
   "outputs": [],
   "source": [
    "df1.drop('Adj Close',inplace=True, axis=1 )"
   ]
  },
  {
   "cell_type": "code",
   "execution_count": 74,
   "metadata": {},
   "outputs": [],
   "source": [
    "df1.drop('Stock_Code',inplace=True,axis=1)"
   ]
  },
  {
   "cell_type": "code",
   "execution_count": 75,
   "metadata": {},
   "outputs": [
    {
     "data": {
      "text/html": [
       "<div>\n",
       "<style scoped>\n",
       "    .dataframe tbody tr th:only-of-type {\n",
       "        vertical-align: middle;\n",
       "    }\n",
       "\n",
       "    .dataframe tbody tr th {\n",
       "        vertical-align: top;\n",
       "    }\n",
       "\n",
       "    .dataframe thead th {\n",
       "        text-align: right;\n",
       "    }\n",
       "</style>\n",
       "<table border=\"1\" class=\"dataframe\">\n",
       "  <thead>\n",
       "    <tr style=\"text-align: right;\">\n",
       "      <th></th>\n",
       "      <th>Date</th>\n",
       "      <th>Open</th>\n",
       "      <th>High</th>\n",
       "      <th>Low</th>\n",
       "      <th>Close</th>\n",
       "      <th>Volume</th>\n",
       "    </tr>\n",
       "  </thead>\n",
       "  <tbody>\n",
       "    <tr>\n",
       "      <th>0</th>\n",
       "      <td>2021-12-01</td>\n",
       "      <td>3545.0</td>\n",
       "      <td>3559.879883</td>\n",
       "      <td>3441.600098</td>\n",
       "      <td>3443.719971</td>\n",
       "      <td>3745800</td>\n",
       "    </tr>\n",
       "    <tr>\n",
       "      <th>1</th>\n",
       "      <td>2021-12-02</td>\n",
       "      <td>3460.0</td>\n",
       "      <td>3492.699951</td>\n",
       "      <td>3423.750000</td>\n",
       "      <td>3437.360107</td>\n",
       "      <td>3236300</td>\n",
       "    </tr>\n",
       "    <tr>\n",
       "      <th>2</th>\n",
       "      <td>2021-12-03</td>\n",
       "      <td>3455.0</td>\n",
       "      <td>3469.870117</td>\n",
       "      <td>3338.600098</td>\n",
       "      <td>3389.790039</td>\n",
       "      <td>4032600</td>\n",
       "    </tr>\n",
       "    <tr>\n",
       "      <th>3</th>\n",
       "      <td>2021-12-06</td>\n",
       "      <td>3393.0</td>\n",
       "      <td>3473.909912</td>\n",
       "      <td>3338.689941</td>\n",
       "      <td>3427.370117</td>\n",
       "      <td>3443000</td>\n",
       "    </tr>\n",
       "    <tr>\n",
       "      <th>4</th>\n",
       "      <td>2021-12-07</td>\n",
       "      <td>3492.0</td>\n",
       "      <td>3549.989990</td>\n",
       "      <td>3466.689941</td>\n",
       "      <td>3523.290039</td>\n",
       "      <td>3320500</td>\n",
       "    </tr>\n",
       "  </tbody>\n",
       "</table>\n",
       "</div>"
      ],
      "text/plain": [
       "         Date    Open         High          Low        Close   Volume\n",
       "0  2021-12-01  3545.0  3559.879883  3441.600098  3443.719971  3745800\n",
       "1  2021-12-02  3460.0  3492.699951  3423.750000  3437.360107  3236300\n",
       "2  2021-12-03  3455.0  3469.870117  3338.600098  3389.790039  4032600\n",
       "3  2021-12-06  3393.0  3473.909912  3338.689941  3427.370117  3443000\n",
       "4  2021-12-07  3492.0  3549.989990  3466.689941  3523.290039  3320500"
      ]
     },
     "execution_count": 75,
     "metadata": {},
     "output_type": "execute_result"
    }
   ],
   "source": [
    "df1.head()"
   ]
  },
  {
   "cell_type": "code",
   "execution_count": 76,
   "metadata": {},
   "outputs": [],
   "source": [
    "df1.set_index('Date',inplace=True)"
   ]
  },
  {
   "cell_type": "code",
   "execution_count": 77,
   "metadata": {},
   "outputs": [
    {
     "data": {
      "text/html": [
       "<div>\n",
       "<style scoped>\n",
       "    .dataframe tbody tr th:only-of-type {\n",
       "        vertical-align: middle;\n",
       "    }\n",
       "\n",
       "    .dataframe tbody tr th {\n",
       "        vertical-align: top;\n",
       "    }\n",
       "\n",
       "    .dataframe thead th {\n",
       "        text-align: right;\n",
       "    }\n",
       "</style>\n",
       "<table border=\"1\" class=\"dataframe\">\n",
       "  <thead>\n",
       "    <tr style=\"text-align: right;\">\n",
       "      <th></th>\n",
       "      <th>Open</th>\n",
       "      <th>High</th>\n",
       "      <th>Low</th>\n",
       "      <th>Close</th>\n",
       "      <th>Volume</th>\n",
       "    </tr>\n",
       "    <tr>\n",
       "      <th>Date</th>\n",
       "      <th></th>\n",
       "      <th></th>\n",
       "      <th></th>\n",
       "      <th></th>\n",
       "      <th></th>\n",
       "    </tr>\n",
       "  </thead>\n",
       "  <tbody>\n",
       "    <tr>\n",
       "      <th>2021-12-01</th>\n",
       "      <td>3545.0</td>\n",
       "      <td>3559.879883</td>\n",
       "      <td>3441.600098</td>\n",
       "      <td>3443.719971</td>\n",
       "      <td>3745800</td>\n",
       "    </tr>\n",
       "    <tr>\n",
       "      <th>2021-12-02</th>\n",
       "      <td>3460.0</td>\n",
       "      <td>3492.699951</td>\n",
       "      <td>3423.750000</td>\n",
       "      <td>3437.360107</td>\n",
       "      <td>3236300</td>\n",
       "    </tr>\n",
       "    <tr>\n",
       "      <th>2021-12-03</th>\n",
       "      <td>3455.0</td>\n",
       "      <td>3469.870117</td>\n",
       "      <td>3338.600098</td>\n",
       "      <td>3389.790039</td>\n",
       "      <td>4032600</td>\n",
       "    </tr>\n",
       "    <tr>\n",
       "      <th>2021-12-06</th>\n",
       "      <td>3393.0</td>\n",
       "      <td>3473.909912</td>\n",
       "      <td>3338.689941</td>\n",
       "      <td>3427.370117</td>\n",
       "      <td>3443000</td>\n",
       "    </tr>\n",
       "    <tr>\n",
       "      <th>2021-12-07</th>\n",
       "      <td>3492.0</td>\n",
       "      <td>3549.989990</td>\n",
       "      <td>3466.689941</td>\n",
       "      <td>3523.290039</td>\n",
       "      <td>3320500</td>\n",
       "    </tr>\n",
       "  </tbody>\n",
       "</table>\n",
       "</div>"
      ],
      "text/plain": [
       "              Open         High          Low        Close   Volume\n",
       "Date                                                              \n",
       "2021-12-01  3545.0  3559.879883  3441.600098  3443.719971  3745800\n",
       "2021-12-02  3460.0  3492.699951  3423.750000  3437.360107  3236300\n",
       "2021-12-03  3455.0  3469.870117  3338.600098  3389.790039  4032600\n",
       "2021-12-06  3393.0  3473.909912  3338.689941  3427.370117  3443000\n",
       "2021-12-07  3492.0  3549.989990  3466.689941  3523.290039  3320500"
      ]
     },
     "execution_count": 77,
     "metadata": {},
     "output_type": "execute_result"
    }
   ],
   "source": [
    "df1.head()"
   ]
  },
  {
   "cell_type": "markdown",
   "metadata": {},
   "source": [
    "### Technical Indicators - RSI and %K"
   ]
  },
  {
   "cell_type": "markdown",
   "metadata": {},
   "source": [
    "#### RSI"
   ]
  },
  {
   "cell_type": "code",
   "execution_count": 78,
   "metadata": {},
   "outputs": [],
   "source": [
    "df1['RSI'] = ta.RSI(df1['Close'],7)"
   ]
  },
  {
   "cell_type": "code",
   "execution_count": 79,
   "metadata": {},
   "outputs": [
    {
     "data": {
      "text/html": [
       "<div>\n",
       "<style scoped>\n",
       "    .dataframe tbody tr th:only-of-type {\n",
       "        vertical-align: middle;\n",
       "    }\n",
       "\n",
       "    .dataframe tbody tr th {\n",
       "        vertical-align: top;\n",
       "    }\n",
       "\n",
       "    .dataframe thead th {\n",
       "        text-align: right;\n",
       "    }\n",
       "</style>\n",
       "<table border=\"1\" class=\"dataframe\">\n",
       "  <thead>\n",
       "    <tr style=\"text-align: right;\">\n",
       "      <th></th>\n",
       "      <th>Open</th>\n",
       "      <th>High</th>\n",
       "      <th>Low</th>\n",
       "      <th>Close</th>\n",
       "      <th>Volume</th>\n",
       "      <th>RSI</th>\n",
       "    </tr>\n",
       "    <tr>\n",
       "      <th>Date</th>\n",
       "      <th></th>\n",
       "      <th></th>\n",
       "      <th></th>\n",
       "      <th></th>\n",
       "      <th></th>\n",
       "      <th></th>\n",
       "    </tr>\n",
       "  </thead>\n",
       "  <tbody>\n",
       "    <tr>\n",
       "      <th>2021-12-10</th>\n",
       "      <td>3508.340088</td>\n",
       "      <td>3518.540039</td>\n",
       "      <td>3410.000000</td>\n",
       "      <td>3444.239990</td>\n",
       "      <td>3031400</td>\n",
       "      <td>50.097572</td>\n",
       "    </tr>\n",
       "    <tr>\n",
       "      <th>2021-12-13</th>\n",
       "      <td>3440.000000</td>\n",
       "      <td>3442.000000</td>\n",
       "      <td>3382.600098</td>\n",
       "      <td>3391.350098</td>\n",
       "      <td>3108500</td>\n",
       "      <td>40.678294</td>\n",
       "    </tr>\n",
       "    <tr>\n",
       "      <th>2021-12-14</th>\n",
       "      <td>3351.000000</td>\n",
       "      <td>3389.979980</td>\n",
       "      <td>3328.800049</td>\n",
       "      <td>3381.830078</td>\n",
       "      <td>2798800</td>\n",
       "      <td>39.133189</td>\n",
       "    </tr>\n",
       "    <tr>\n",
       "      <th>2021-12-15</th>\n",
       "      <td>3371.959961</td>\n",
       "      <td>3472.000000</td>\n",
       "      <td>3303.899902</td>\n",
       "      <td>3466.300049</td>\n",
       "      <td>3789700</td>\n",
       "      <td>56.311311</td>\n",
       "    </tr>\n",
       "    <tr>\n",
       "      <th>2021-12-16</th>\n",
       "      <td>3467.370117</td>\n",
       "      <td>3483.320068</td>\n",
       "      <td>3363.209961</td>\n",
       "      <td>3377.419922</td>\n",
       "      <td>3043800</td>\n",
       "      <td>41.821967</td>\n",
       "    </tr>\n",
       "  </tbody>\n",
       "</table>\n",
       "</div>"
      ],
      "text/plain": [
       "                   Open         High          Low        Close   Volume  \\\n",
       "Date                                                                      \n",
       "2021-12-10  3508.340088  3518.540039  3410.000000  3444.239990  3031400   \n",
       "2021-12-13  3440.000000  3442.000000  3382.600098  3391.350098  3108500   \n",
       "2021-12-14  3351.000000  3389.979980  3328.800049  3381.830078  2798800   \n",
       "2021-12-15  3371.959961  3472.000000  3303.899902  3466.300049  3789700   \n",
       "2021-12-16  3467.370117  3483.320068  3363.209961  3377.419922  3043800   \n",
       "\n",
       "                  RSI  \n",
       "Date                   \n",
       "2021-12-10  50.097572  \n",
       "2021-12-13  40.678294  \n",
       "2021-12-14  39.133189  \n",
       "2021-12-15  56.311311  \n",
       "2021-12-16  41.821967  "
      ]
     },
     "execution_count": 79,
     "metadata": {},
     "output_type": "execute_result"
    }
   ],
   "source": [
    "df1[7:12]"
   ]
  },
  {
   "cell_type": "markdown",
   "metadata": {},
   "source": [
    "#### %K (Stochastic Oscillator)"
   ]
  },
  {
   "cell_type": "code",
   "execution_count": 80,
   "metadata": {},
   "outputs": [],
   "source": [
    "k_period = 7\n",
    "# d_period = 3\n",
    "# Adds a \"n_high\" column with max value of previous 14 periods\n",
    "df1['n_high'] = df1['High'].rolling(k_period).max()\n",
    "# Adds an \"n_low\" column with min value of previous 14 periods\n",
    "df1['n_low'] = df1['Low'].rolling(k_period).min()\n",
    "# Uses the min/max values to calculate the %k (as a percentage)\n",
    "df1['%K'] = (df1['Close'] - df1['n_low']) * 100 / (df1['n_high'] - df1['n_low'])"
   ]
  },
  {
   "cell_type": "code",
   "execution_count": 81,
   "metadata": {},
   "outputs": [
    {
     "data": {
      "text/html": [
       "<div>\n",
       "<style scoped>\n",
       "    .dataframe tbody tr th:only-of-type {\n",
       "        vertical-align: middle;\n",
       "    }\n",
       "\n",
       "    .dataframe tbody tr th {\n",
       "        vertical-align: top;\n",
       "    }\n",
       "\n",
       "    .dataframe thead th {\n",
       "        text-align: right;\n",
       "    }\n",
       "</style>\n",
       "<table border=\"1\" class=\"dataframe\">\n",
       "  <thead>\n",
       "    <tr style=\"text-align: right;\">\n",
       "      <th></th>\n",
       "      <th>Open</th>\n",
       "      <th>High</th>\n",
       "      <th>Low</th>\n",
       "      <th>Close</th>\n",
       "      <th>Volume</th>\n",
       "      <th>RSI</th>\n",
       "      <th>n_high</th>\n",
       "      <th>n_low</th>\n",
       "      <th>%K</th>\n",
       "    </tr>\n",
       "    <tr>\n",
       "      <th>Date</th>\n",
       "      <th></th>\n",
       "      <th></th>\n",
       "      <th></th>\n",
       "      <th></th>\n",
       "      <th></th>\n",
       "      <th></th>\n",
       "      <th></th>\n",
       "      <th></th>\n",
       "      <th></th>\n",
       "    </tr>\n",
       "  </thead>\n",
       "  <tbody>\n",
       "    <tr>\n",
       "      <th>2021-12-10</th>\n",
       "      <td>3508.340088</td>\n",
       "      <td>3518.540039</td>\n",
       "      <td>3410.000000</td>\n",
       "      <td>3444.239990</td>\n",
       "      <td>3031400</td>\n",
       "      <td>50.097572</td>\n",
       "      <td>3549.989990</td>\n",
       "      <td>3338.600098</td>\n",
       "      <td>49.973956</td>\n",
       "    </tr>\n",
       "    <tr>\n",
       "      <th>2021-12-13</th>\n",
       "      <td>3440.000000</td>\n",
       "      <td>3442.000000</td>\n",
       "      <td>3382.600098</td>\n",
       "      <td>3391.350098</td>\n",
       "      <td>3108500</td>\n",
       "      <td>40.678294</td>\n",
       "      <td>3549.989990</td>\n",
       "      <td>3338.600098</td>\n",
       "      <td>24.953889</td>\n",
       "    </tr>\n",
       "    <tr>\n",
       "      <th>2021-12-14</th>\n",
       "      <td>3351.000000</td>\n",
       "      <td>3389.979980</td>\n",
       "      <td>3328.800049</td>\n",
       "      <td>3381.830078</td>\n",
       "      <td>2798800</td>\n",
       "      <td>39.133189</td>\n",
       "      <td>3549.989990</td>\n",
       "      <td>3328.800049</td>\n",
       "      <td>23.974883</td>\n",
       "    </tr>\n",
       "    <tr>\n",
       "      <th>2021-12-15</th>\n",
       "      <td>3371.959961</td>\n",
       "      <td>3472.000000</td>\n",
       "      <td>3303.899902</td>\n",
       "      <td>3466.300049</td>\n",
       "      <td>3789700</td>\n",
       "      <td>56.311311</td>\n",
       "      <td>3549.989990</td>\n",
       "      <td>3303.899902</td>\n",
       "      <td>65.992153</td>\n",
       "    </tr>\n",
       "    <tr>\n",
       "      <th>2021-12-16</th>\n",
       "      <td>3467.370117</td>\n",
       "      <td>3483.320068</td>\n",
       "      <td>3363.209961</td>\n",
       "      <td>3377.419922</td>\n",
       "      <td>3043800</td>\n",
       "      <td>41.821967</td>\n",
       "      <td>3543.600098</td>\n",
       "      <td>3303.899902</td>\n",
       "      <td>30.671656</td>\n",
       "    </tr>\n",
       "  </tbody>\n",
       "</table>\n",
       "</div>"
      ],
      "text/plain": [
       "                   Open         High          Low        Close   Volume  \\\n",
       "Date                                                                      \n",
       "2021-12-10  3508.340088  3518.540039  3410.000000  3444.239990  3031400   \n",
       "2021-12-13  3440.000000  3442.000000  3382.600098  3391.350098  3108500   \n",
       "2021-12-14  3351.000000  3389.979980  3328.800049  3381.830078  2798800   \n",
       "2021-12-15  3371.959961  3472.000000  3303.899902  3466.300049  3789700   \n",
       "2021-12-16  3467.370117  3483.320068  3363.209961  3377.419922  3043800   \n",
       "\n",
       "                  RSI       n_high        n_low         %K  \n",
       "Date                                                        \n",
       "2021-12-10  50.097572  3549.989990  3338.600098  49.973956  \n",
       "2021-12-13  40.678294  3549.989990  3338.600098  24.953889  \n",
       "2021-12-14  39.133189  3549.989990  3328.800049  23.974883  \n",
       "2021-12-15  56.311311  3549.989990  3303.899902  65.992153  \n",
       "2021-12-16  41.821967  3543.600098  3303.899902  30.671656  "
      ]
     },
     "execution_count": 81,
     "metadata": {},
     "output_type": "execute_result"
    }
   ],
   "source": [
    "df1[7:12]"
   ]
  },
  {
   "cell_type": "code",
   "execution_count": 82,
   "metadata": {},
   "outputs": [],
   "source": [
    "df1.drop(['n_high','n_low'],inplace=True,axis=1)"
   ]
  },
  {
   "cell_type": "code",
   "execution_count": 83,
   "metadata": {},
   "outputs": [
    {
     "data": {
      "text/html": [
       "<div>\n",
       "<style scoped>\n",
       "    .dataframe tbody tr th:only-of-type {\n",
       "        vertical-align: middle;\n",
       "    }\n",
       "\n",
       "    .dataframe tbody tr th {\n",
       "        vertical-align: top;\n",
       "    }\n",
       "\n",
       "    .dataframe thead th {\n",
       "        text-align: right;\n",
       "    }\n",
       "</style>\n",
       "<table border=\"1\" class=\"dataframe\">\n",
       "  <thead>\n",
       "    <tr style=\"text-align: right;\">\n",
       "      <th></th>\n",
       "      <th>Open</th>\n",
       "      <th>High</th>\n",
       "      <th>Low</th>\n",
       "      <th>Close</th>\n",
       "      <th>Volume</th>\n",
       "      <th>RSI</th>\n",
       "      <th>%K</th>\n",
       "    </tr>\n",
       "    <tr>\n",
       "      <th>Date</th>\n",
       "      <th></th>\n",
       "      <th></th>\n",
       "      <th></th>\n",
       "      <th></th>\n",
       "      <th></th>\n",
       "      <th></th>\n",
       "      <th></th>\n",
       "    </tr>\n",
       "  </thead>\n",
       "  <tbody>\n",
       "    <tr>\n",
       "      <th>2021-12-01</th>\n",
       "      <td>3545.0</td>\n",
       "      <td>3559.879883</td>\n",
       "      <td>3441.600098</td>\n",
       "      <td>3443.719971</td>\n",
       "      <td>3745800</td>\n",
       "      <td>NaN</td>\n",
       "      <td>NaN</td>\n",
       "    </tr>\n",
       "    <tr>\n",
       "      <th>2021-12-02</th>\n",
       "      <td>3460.0</td>\n",
       "      <td>3492.699951</td>\n",
       "      <td>3423.750000</td>\n",
       "      <td>3437.360107</td>\n",
       "      <td>3236300</td>\n",
       "      <td>NaN</td>\n",
       "      <td>NaN</td>\n",
       "    </tr>\n",
       "  </tbody>\n",
       "</table>\n",
       "</div>"
      ],
      "text/plain": [
       "              Open         High          Low        Close   Volume  RSI  %K\n",
       "Date                                                                       \n",
       "2021-12-01  3545.0  3559.879883  3441.600098  3443.719971  3745800  NaN NaN\n",
       "2021-12-02  3460.0  3492.699951  3423.750000  3437.360107  3236300  NaN NaN"
      ]
     },
     "execution_count": 83,
     "metadata": {},
     "output_type": "execute_result"
    }
   ],
   "source": [
    "df1.head(2)"
   ]
  },
  {
   "cell_type": "markdown",
   "metadata": {},
   "source": [
    "#### Use backward fill (bfill) method to fill values for period of 7 days"
   ]
  },
  {
   "cell_type": "code",
   "execution_count": 84,
   "metadata": {},
   "outputs": [],
   "source": [
    "df1['RSI'].fillna(method=\"bfill\",inplace=True)"
   ]
  },
  {
   "cell_type": "code",
   "execution_count": 85,
   "metadata": {},
   "outputs": [],
   "source": [
    "df1['%K'].fillna(method=\"bfill\",inplace=True)"
   ]
  },
  {
   "cell_type": "code",
   "execution_count": 86,
   "metadata": {},
   "outputs": [
    {
     "data": {
      "text/html": [
       "<div>\n",
       "<style scoped>\n",
       "    .dataframe tbody tr th:only-of-type {\n",
       "        vertical-align: middle;\n",
       "    }\n",
       "\n",
       "    .dataframe tbody tr th {\n",
       "        vertical-align: top;\n",
       "    }\n",
       "\n",
       "    .dataframe thead th {\n",
       "        text-align: right;\n",
       "    }\n",
       "</style>\n",
       "<table border=\"1\" class=\"dataframe\">\n",
       "  <thead>\n",
       "    <tr style=\"text-align: right;\">\n",
       "      <th></th>\n",
       "      <th>Open</th>\n",
       "      <th>High</th>\n",
       "      <th>Low</th>\n",
       "      <th>Close</th>\n",
       "      <th>Volume</th>\n",
       "      <th>RSI</th>\n",
       "      <th>%K</th>\n",
       "    </tr>\n",
       "    <tr>\n",
       "      <th>Date</th>\n",
       "      <th></th>\n",
       "      <th></th>\n",
       "      <th></th>\n",
       "      <th></th>\n",
       "      <th></th>\n",
       "      <th></th>\n",
       "      <th></th>\n",
       "    </tr>\n",
       "  </thead>\n",
       "  <tbody>\n",
       "    <tr>\n",
       "      <th>2021-12-01</th>\n",
       "      <td>3545.0</td>\n",
       "      <td>3559.879883</td>\n",
       "      <td>3441.600098</td>\n",
       "      <td>3443.719971</td>\n",
       "      <td>3745800</td>\n",
       "      <td>50.097572</td>\n",
       "      <td>65.446477</td>\n",
       "    </tr>\n",
       "    <tr>\n",
       "      <th>2021-12-02</th>\n",
       "      <td>3460.0</td>\n",
       "      <td>3492.699951</td>\n",
       "      <td>3423.750000</td>\n",
       "      <td>3437.360107</td>\n",
       "      <td>3236300</td>\n",
       "      <td>50.097572</td>\n",
       "      <td>65.446477</td>\n",
       "    </tr>\n",
       "    <tr>\n",
       "      <th>2021-12-03</th>\n",
       "      <td>3455.0</td>\n",
       "      <td>3469.870117</td>\n",
       "      <td>3338.600098</td>\n",
       "      <td>3389.790039</td>\n",
       "      <td>4032600</td>\n",
       "      <td>50.097572</td>\n",
       "      <td>65.446477</td>\n",
       "    </tr>\n",
       "    <tr>\n",
       "      <th>2021-12-06</th>\n",
       "      <td>3393.0</td>\n",
       "      <td>3473.909912</td>\n",
       "      <td>3338.689941</td>\n",
       "      <td>3427.370117</td>\n",
       "      <td>3443000</td>\n",
       "      <td>50.097572</td>\n",
       "      <td>65.446477</td>\n",
       "    </tr>\n",
       "    <tr>\n",
       "      <th>2021-12-07</th>\n",
       "      <td>3492.0</td>\n",
       "      <td>3549.989990</td>\n",
       "      <td>3466.689941</td>\n",
       "      <td>3523.290039</td>\n",
       "      <td>3320500</td>\n",
       "      <td>50.097572</td>\n",
       "      <td>65.446477</td>\n",
       "    </tr>\n",
       "  </tbody>\n",
       "</table>\n",
       "</div>"
      ],
      "text/plain": [
       "              Open         High          Low        Close   Volume        RSI  \\\n",
       "Date                                                                            \n",
       "2021-12-01  3545.0  3559.879883  3441.600098  3443.719971  3745800  50.097572   \n",
       "2021-12-02  3460.0  3492.699951  3423.750000  3437.360107  3236300  50.097572   \n",
       "2021-12-03  3455.0  3469.870117  3338.600098  3389.790039  4032600  50.097572   \n",
       "2021-12-06  3393.0  3473.909912  3338.689941  3427.370117  3443000  50.097572   \n",
       "2021-12-07  3492.0  3549.989990  3466.689941  3523.290039  3320500  50.097572   \n",
       "\n",
       "                   %K  \n",
       "Date                   \n",
       "2021-12-01  65.446477  \n",
       "2021-12-02  65.446477  \n",
       "2021-12-03  65.446477  \n",
       "2021-12-06  65.446477  \n",
       "2021-12-07  65.446477  "
      ]
     },
     "execution_count": 86,
     "metadata": {},
     "output_type": "execute_result"
    }
   ],
   "source": [
    "df1.head()"
   ]
  },
  {
   "cell_type": "code",
   "execution_count": 87,
   "metadata": {},
   "outputs": [],
   "source": [
    "df1.to_csv('TI_AMZN_T.csv')"
   ]
  },
  {
   "cell_type": "code",
   "execution_count": null,
   "metadata": {},
   "outputs": [],
   "source": []
  }
 ],
 "metadata": {
  "kernelspec": {
   "display_name": "Python 3",
   "language": "python",
   "name": "python3"
  },
  "language_info": {
   "codemirror_mode": {
    "name": "ipython",
    "version": 3
   },
   "file_extension": ".py",
   "mimetype": "text/x-python",
   "name": "python",
   "nbconvert_exporter": "python",
   "pygments_lexer": "ipython3",
   "version": "3.8.5"
  }
 },
 "nbformat": 4,
 "nbformat_minor": 4
}
