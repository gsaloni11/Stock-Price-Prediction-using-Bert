{
 "cells": [
  {
   "cell_type": "markdown",
   "source": "### Yahoo Finance API - Historical Data",
   "metadata": {
    "tags": [],
    "is_collapsed": false,
    "cell_id": "00000-e0e17c1f-d0ef-4ee3-b10d-d0b309125f74",
    "deepnote_cell_type": "text-cell-h3"
   }
  },
  {
   "cell_type": "code",
   "source": "!pip install yfinance==0.1.68",
   "metadata": {
    "tags": [],
    "cell_id": "00001-232a8595-5a9e-4ed6-9196-21a83563e143",
    "deepnote_to_be_reexecuted": false,
    "source_hash": "52480076",
    "execution_start": 1641144532779,
    "execution_millis": 5673,
    "deepnote_cell_type": "code"
   },
   "outputs": [
    {
     "name": "stdout",
     "text": "Collecting yfinance==0.1.68\n  Downloading yfinance-0.1.68-py2.py3-none-any.whl (26 kB)\nRequirement already satisfied: requests>=2.26 in /shared-libs/python3.9/py/lib/python3.9/site-packages (from yfinance==0.1.68) (2.26.0)\nCollecting multitasking>=0.0.7\n  Downloading multitasking-0.0.10.tar.gz (8.2 kB)\nRequirement already satisfied: pandas>=0.24 in /shared-libs/python3.9/py/lib/python3.9/site-packages (from yfinance==0.1.68) (1.2.5)\nRequirement already satisfied: lxml>=4.5.1 in /shared-libs/python3.9/py/lib/python3.9/site-packages (from yfinance==0.1.68) (4.7.1)\nRequirement already satisfied: numpy>=1.15 in /shared-libs/python3.9/py/lib/python3.9/site-packages (from yfinance==0.1.68) (1.21.4)\nRequirement already satisfied: pytz>=2017.3 in /shared-libs/python3.9/py/lib/python3.9/site-packages (from pandas>=0.24->yfinance==0.1.68) (2021.3)\nRequirement already satisfied: python-dateutil>=2.7.3 in /shared-libs/python3.9/py-core/lib/python3.9/site-packages (from pandas>=0.24->yfinance==0.1.68) (2.8.2)\nRequirement already satisfied: six>=1.5 in /shared-libs/python3.9/py-core/lib/python3.9/site-packages (from python-dateutil>=2.7.3->pandas>=0.24->yfinance==0.1.68) (1.16.0)\nRequirement already satisfied: charset-normalizer~=2.0.0 in /shared-libs/python3.9/py-core/lib/python3.9/site-packages (from requests>=2.26->yfinance==0.1.68) (2.0.9)\nRequirement already satisfied: urllib3<1.27,>=1.21.1 in /shared-libs/python3.9/py/lib/python3.9/site-packages (from requests>=2.26->yfinance==0.1.68) (1.26.7)\nRequirement already satisfied: idna<4,>=2.5 in /shared-libs/python3.9/py-core/lib/python3.9/site-packages (from requests>=2.26->yfinance==0.1.68) (3.3)\nRequirement already satisfied: certifi>=2017.4.17 in /shared-libs/python3.9/py/lib/python3.9/site-packages (from requests>=2.26->yfinance==0.1.68) (2021.10.8)\nBuilding wheels for collected packages: multitasking\n  Building wheel for multitasking (setup.py) ... \u001b[?25ldone\n\u001b[?25h  Created wheel for multitasking: filename=multitasking-0.0.10-py3-none-any.whl size=8500 sha256=2d5703f067b87ce67ef1d6597f7e2e7379fcfe3c6abc737e99f36253eccb5713\n  Stored in directory: /root/.cache/pip/wheels/f2/b5/2c/59ba95dcf854e542944c75fe3da584e4e3833b319735a0546c\nSuccessfully built multitasking\nInstalling collected packages: multitasking, yfinance\nSuccessfully installed multitasking-0.0.10 yfinance-0.1.68\n\u001b[33mWARNING: You are using pip version 21.2.3; however, version 21.3.1 is available.\nYou should consider upgrading via the '/root/venv/bin/python -m pip install --upgrade pip' command.\u001b[0m\n",
     "output_type": "stream",
     "data": {}
    }
   ],
   "execution_count": null
  },
  {
   "cell_type": "code",
   "metadata": {
    "tags": [],
    "cell_id": "00000-8ce9f112-ae5e-4916-98b3-323510ea42ab",
    "deepnote_to_be_reexecuted": false,
    "source_hash": "88383513",
    "execution_start": 1641144543823,
    "execution_millis": 8,
    "deepnote_cell_type": "code"
   },
   "source": "import yfinance as yf",
   "outputs": [],
   "execution_count": null
  },
  {
   "cell_type": "code",
   "metadata": {
    "tags": [],
    "cell_id": "00002-617067d0-9095-4654-a3ba-18d4f9ca36d7",
    "deepnote_to_be_reexecuted": false,
    "source_hash": "fe37986f",
    "execution_start": 1641144555550,
    "execution_millis": 1640,
    "deepnote_cell_type": "code"
   },
   "source": "df = yf.download(tickers=\"MSFT GS JPM MS AMZN\", start = \"2021-12-01\", end = \"2021-12-31\", group_by='ticker')",
   "outputs": [
    {
     "name": "stdout",
     "text": "[*********************100%***********************]  5 of 5 completed\n",
     "output_type": "stream",
     "data": {}
    }
   ],
   "execution_count": null
  },
  {
   "cell_type": "code",
   "metadata": {
    "tags": [],
    "cell_id": "00003-bd2a0322-b118-4abf-8e03-de21546d6180",
    "deepnote_to_be_reexecuted": false,
    "source_hash": "14f60b8f",
    "execution_start": 1641144560574,
    "execution_millis": 4,
    "deepnote_output_heights": [
     21.1875
    ],
    "deepnote_cell_type": "code"
   },
   "source": "df.shape",
   "outputs": [
    {
     "output_type": "execute_result",
     "execution_count": 5,
     "data": {
      "text/plain": "(21, 30)"
     },
     "metadata": {}
    }
   ],
   "execution_count": null
  },
  {
   "cell_type": "code",
   "metadata": {
    "tags": [],
    "cell_id": "00008-abe9e7d8-321f-45c9-b6a7-1b65a5bdc04e",
    "deepnote_to_be_reexecuted": false,
    "source_hash": "561155a",
    "execution_start": 1641144568307,
    "execution_millis": 73,
    "deepnote_cell_type": "code"
   },
   "source": "df['MSFT'].head(2)",
   "outputs": [
    {
     "output_type": "execute_result",
     "execution_count": 6,
     "data": {
      "application/vnd.deepnote.dataframe.v3+json": {
       "column_count": 6,
       "row_count": 2,
       "columns": [
        {
         "name": "Open",
         "dtype": "float64",
         "stats": {
          "unique_count": 2,
          "nan_count": 0,
          "min": "330.29998779296875",
          "max": "335.1300048828125",
          "histogram": [
           {
            "bin_start": 330.29998779296875,
            "bin_end": 330.7829895019531,
            "count": 1
           },
           {
            "bin_start": 330.7829895019531,
            "bin_end": 331.2659912109375,
            "count": 0
           },
           {
            "bin_start": 331.2659912109375,
            "bin_end": 331.7489929199219,
            "count": 0
           },
           {
            "bin_start": 331.7489929199219,
            "bin_end": 332.23199462890625,
            "count": 0
           },
           {
            "bin_start": 332.23199462890625,
            "bin_end": 332.7149963378906,
            "count": 0
           },
           {
            "bin_start": 332.7149963378906,
            "bin_end": 333.197998046875,
            "count": 0
           },
           {
            "bin_start": 333.197998046875,
            "bin_end": 333.6809997558594,
            "count": 0
           },
           {
            "bin_start": 333.6809997558594,
            "bin_end": 334.16400146484375,
            "count": 0
           },
           {
            "bin_start": 334.16400146484375,
            "bin_end": 334.6470031738281,
            "count": 0
           },
           {
            "bin_start": 334.6470031738281,
            "bin_end": 335.1300048828125,
            "count": 1
           }
          ]
         }
        },
        {
         "name": "High",
         "dtype": "float64",
         "stats": {
          "unique_count": 2,
          "nan_count": 0,
          "min": "333.489990234375",
          "max": "339.2799987792969",
          "histogram": [
           {
            "bin_start": 333.489990234375,
            "bin_end": 334.06899108886716,
            "count": 1
           },
           {
            "bin_start": 334.06899108886716,
            "bin_end": 334.6479919433594,
            "count": 0
           },
           {
            "bin_start": 334.6479919433594,
            "bin_end": 335.22699279785155,
            "count": 0
           },
           {
            "bin_start": 335.22699279785155,
            "bin_end": 335.8059936523438,
            "count": 0
           },
           {
            "bin_start": 335.8059936523438,
            "bin_end": 336.38499450683594,
            "count": 0
           },
           {
            "bin_start": 336.38499450683594,
            "bin_end": 336.9639953613281,
            "count": 0
           },
           {
            "bin_start": 336.9639953613281,
            "bin_end": 337.5429962158203,
            "count": 0
           },
           {
            "bin_start": 337.5429962158203,
            "bin_end": 338.1219970703125,
            "count": 0
           },
           {
            "bin_start": 338.1219970703125,
            "bin_end": 338.7009979248047,
            "count": 0
           },
           {
            "bin_start": 338.7009979248047,
            "bin_end": 339.2799987792969,
            "count": 1
           }
          ]
         }
        },
        {
         "name": "Low",
         "dtype": "float64",
         "stats": {
          "unique_count": 2,
          "nan_count": 0,
          "min": "327.79998779296875",
          "max": "329.3900146484375",
          "histogram": [
           {
            "bin_start": 327.79998779296875,
            "bin_end": 327.9589904785156,
            "count": 1
           },
           {
            "bin_start": 327.9589904785156,
            "bin_end": 328.1179931640625,
            "count": 0
           },
           {
            "bin_start": 328.1179931640625,
            "bin_end": 328.27699584960936,
            "count": 0
           },
           {
            "bin_start": 328.27699584960936,
            "bin_end": 328.4359985351563,
            "count": 0
           },
           {
            "bin_start": 328.4359985351563,
            "bin_end": 328.5950012207031,
            "count": 0
           },
           {
            "bin_start": 328.5950012207031,
            "bin_end": 328.75400390625,
            "count": 0
           },
           {
            "bin_start": 328.75400390625,
            "bin_end": 328.9130065917969,
            "count": 0
           },
           {
            "bin_start": 328.9130065917969,
            "bin_end": 329.07200927734374,
            "count": 0
           },
           {
            "bin_start": 329.07200927734374,
            "bin_end": 329.23101196289065,
            "count": 0
           },
           {
            "bin_start": 329.23101196289065,
            "bin_end": 329.3900146484375,
            "count": 1
           }
          ]
         }
        },
        {
         "name": "Close",
         "dtype": "float64",
         "stats": {
          "unique_count": 2,
          "nan_count": 0,
          "min": "329.489990234375",
          "max": "330.0799865722656",
          "histogram": [
           {
            "bin_start": 329.489990234375,
            "bin_end": 329.5489898681641,
            "count": 1
           },
           {
            "bin_start": 329.5489898681641,
            "bin_end": 329.6079895019531,
            "count": 0
           },
           {
            "bin_start": 329.6079895019531,
            "bin_end": 329.6669891357422,
            "count": 0
           },
           {
            "bin_start": 329.6669891357422,
            "bin_end": 329.7259887695312,
            "count": 0
           },
           {
            "bin_start": 329.7259887695312,
            "bin_end": 329.7849884033203,
            "count": 0
           },
           {
            "bin_start": 329.7849884033203,
            "bin_end": 329.8439880371094,
            "count": 0
           },
           {
            "bin_start": 329.8439880371094,
            "bin_end": 329.9029876708984,
            "count": 0
           },
           {
            "bin_start": 329.9029876708984,
            "bin_end": 329.9619873046875,
            "count": 0
           },
           {
            "bin_start": 329.9619873046875,
            "bin_end": 330.02098693847654,
            "count": 0
           },
           {
            "bin_start": 330.02098693847654,
            "bin_end": 330.0799865722656,
            "count": 1
           }
          ]
         }
        },
        {
         "name": "Adj Close",
         "dtype": "float64",
         "stats": {
          "unique_count": 2,
          "nan_count": 0,
          "min": "329.489990234375",
          "max": "330.0799865722656",
          "histogram": [
           {
            "bin_start": 329.489990234375,
            "bin_end": 329.5489898681641,
            "count": 1
           },
           {
            "bin_start": 329.5489898681641,
            "bin_end": 329.6079895019531,
            "count": 0
           },
           {
            "bin_start": 329.6079895019531,
            "bin_end": 329.6669891357422,
            "count": 0
           },
           {
            "bin_start": 329.6669891357422,
            "bin_end": 329.7259887695312,
            "count": 0
           },
           {
            "bin_start": 329.7259887695312,
            "bin_end": 329.7849884033203,
            "count": 0
           },
           {
            "bin_start": 329.7849884033203,
            "bin_end": 329.8439880371094,
            "count": 0
           },
           {
            "bin_start": 329.8439880371094,
            "bin_end": 329.9029876708984,
            "count": 0
           },
           {
            "bin_start": 329.9029876708984,
            "bin_end": 329.9619873046875,
            "count": 0
           },
           {
            "bin_start": 329.9619873046875,
            "bin_end": 330.02098693847654,
            "count": 0
           },
           {
            "bin_start": 330.02098693847654,
            "bin_end": 330.0799865722656,
            "count": 1
           }
          ]
         }
        },
        {
         "name": "Volume",
         "dtype": "int64",
         "stats": {
          "unique_count": 2,
          "nan_count": 0,
          "min": "30766000",
          "max": "33337600",
          "histogram": [
           {
            "bin_start": 30766000,
            "bin_end": 31023160,
            "count": 1
           },
           {
            "bin_start": 31023160,
            "bin_end": 31280320,
            "count": 0
           },
           {
            "bin_start": 31280320,
            "bin_end": 31537480,
            "count": 0
           },
           {
            "bin_start": 31537480,
            "bin_end": 31794640,
            "count": 0
           },
           {
            "bin_start": 31794640,
            "bin_end": 32051800,
            "count": 0
           },
           {
            "bin_start": 32051800,
            "bin_end": 32308960,
            "count": 0
           },
           {
            "bin_start": 32308960,
            "bin_end": 32566120,
            "count": 0
           },
           {
            "bin_start": 32566120,
            "bin_end": 32823280,
            "count": 0
           },
           {
            "bin_start": 32823280,
            "bin_end": 33080440,
            "count": 0
           },
           {
            "bin_start": 33080440,
            "bin_end": 33337600,
            "count": 1
           }
          ]
         }
        },
        {
         "name": "_deepnote_index_column",
         "dtype": "datetime64[ns]"
        }
       ],
       "rows": [
        {
         "Open": 335.1300048828125,
         "High": 339.2799987792969,
         "Low": 329.3900146484375,
         "Close": 330.0799865722656,
         "Adj Close": 330.0799865722656,
         "Volume": 33337600,
         "_deepnote_index_column": "2021-12-01T00:00:00.000000"
        },
        {
         "Open": 330.29998779296875,
         "High": 333.489990234375,
         "Low": 327.79998779296875,
         "Close": 329.489990234375,
         "Adj Close": 329.489990234375,
         "Volume": 30766000,
         "_deepnote_index_column": "2021-12-02T00:00:00.000000"
        }
       ]
      },
      "text/plain": "                  Open        High         Low       Close   Adj Close  \\\nDate                                                                     \n2021-12-01  335.130005  339.279999  329.390015  330.079987  330.079987   \n2021-12-02  330.299988  333.489990  327.799988  329.489990  329.489990   \n\n              Volume  \nDate                  \n2021-12-01  33337600  \n2021-12-02  30766000  ",
      "text/html": "<div>\n<style scoped>\n    .dataframe tbody tr th:only-of-type {\n        vertical-align: middle;\n    }\n\n    .dataframe tbody tr th {\n        vertical-align: top;\n    }\n\n    .dataframe thead th {\n        text-align: right;\n    }\n</style>\n<table border=\"1\" class=\"dataframe\">\n  <thead>\n    <tr style=\"text-align: right;\">\n      <th></th>\n      <th>Open</th>\n      <th>High</th>\n      <th>Low</th>\n      <th>Close</th>\n      <th>Adj Close</th>\n      <th>Volume</th>\n    </tr>\n    <tr>\n      <th>Date</th>\n      <th></th>\n      <th></th>\n      <th></th>\n      <th></th>\n      <th></th>\n      <th></th>\n    </tr>\n  </thead>\n  <tbody>\n    <tr>\n      <th>2021-12-01</th>\n      <td>335.130005</td>\n      <td>339.279999</td>\n      <td>329.390015</td>\n      <td>330.079987</td>\n      <td>330.079987</td>\n      <td>33337600</td>\n    </tr>\n    <tr>\n      <th>2021-12-02</th>\n      <td>330.299988</td>\n      <td>333.489990</td>\n      <td>327.799988</td>\n      <td>329.489990</td>\n      <td>329.489990</td>\n      <td>30766000</td>\n    </tr>\n  </tbody>\n</table>\n</div>"
     },
     "metadata": {}
    }
   ],
   "execution_count": null
  },
  {
   "cell_type": "code",
   "metadata": {
    "tags": [],
    "cell_id": "00005-13f3e974-d601-4490-8dcb-e3c0e3c6682a",
    "deepnote_to_be_reexecuted": false,
    "source_hash": "3b4a0ee7",
    "execution_start": 1641144580400,
    "execution_millis": 2,
    "deepnote_cell_type": "code"
   },
   "source": "df_msft = df['MSFT']\ndf_gs = df['GS']\ndf_jpm = df['JPM']\ndf_ms = df['MS']\ndf_amzn = df['AMZN']",
   "outputs": [],
   "execution_count": null
  },
  {
   "cell_type": "code",
   "metadata": {
    "tags": [],
    "cell_id": "00008-0d1dc92d-6f82-44fc-a8d6-966478acb136",
    "deepnote_to_be_reexecuted": false,
    "source_hash": "db0b763b",
    "execution_start": 1641144582923,
    "execution_millis": 5,
    "deepnote_cell_type": "code"
   },
   "source": "df_msft['Stock_Code'] = 'MSFT'",
   "outputs": [
    {
     "name": "stderr",
     "text": "<ipython-input-8-8d01a5e378d5>:1: SettingWithCopyWarning: \nA value is trying to be set on a copy of a slice from a DataFrame.\nTry using .loc[row_indexer,col_indexer] = value instead\n\nSee the caveats in the documentation: https://pandas.pydata.org/pandas-docs/stable/user_guide/indexing.html#returning-a-view-versus-a-copy\n  df_msft['Stock_Code'] = 'MSFT'\n",
     "output_type": "stream",
     "data": {}
    }
   ],
   "execution_count": null
  },
  {
   "cell_type": "code",
   "metadata": {
    "tags": [],
    "cell_id": "00010-16fc256b-e82d-4ee3-a504-435ea500d089",
    "deepnote_to_be_reexecuted": false,
    "source_hash": "5f2c2ddd",
    "execution_start": 1641144584752,
    "execution_millis": 4,
    "deepnote_cell_type": "code"
   },
   "source": "df_ms['Stock_Code'] = 'MS'",
   "outputs": [
    {
     "name": "stderr",
     "text": "<ipython-input-9-0bdc997650fd>:1: SettingWithCopyWarning: \nA value is trying to be set on a copy of a slice from a DataFrame.\nTry using .loc[row_indexer,col_indexer] = value instead\n\nSee the caveats in the documentation: https://pandas.pydata.org/pandas-docs/stable/user_guide/indexing.html#returning-a-view-versus-a-copy\n  df_ms['Stock_Code'] = 'MS'\n",
     "output_type": "stream",
     "data": {}
    }
   ],
   "execution_count": null
  },
  {
   "cell_type": "code",
   "metadata": {
    "tags": [],
    "cell_id": "00010-bf065fa3-df11-4d5d-9e21-e0f3349bcbb5",
    "deepnote_to_be_reexecuted": false,
    "source_hash": "22679a0",
    "execution_start": 1641144587178,
    "execution_millis": 1,
    "deepnote_cell_type": "code"
   },
   "source": "df_gs['Stock_Code'] = 'GS'",
   "outputs": [
    {
     "name": "stderr",
     "text": "<ipython-input-10-b5168951a71f>:1: SettingWithCopyWarning: \nA value is trying to be set on a copy of a slice from a DataFrame.\nTry using .loc[row_indexer,col_indexer] = value instead\n\nSee the caveats in the documentation: https://pandas.pydata.org/pandas-docs/stable/user_guide/indexing.html#returning-a-view-versus-a-copy\n  df_gs['Stock_Code'] = 'GS'\n",
     "output_type": "stream",
     "data": {}
    }
   ],
   "execution_count": null
  },
  {
   "cell_type": "code",
   "metadata": {
    "tags": [],
    "cell_id": "00011-9a674d53-fe5d-4261-8c83-ac6c19ec838b",
    "deepnote_to_be_reexecuted": false,
    "source_hash": "3f55ae0f",
    "execution_start": 1641144589105,
    "execution_millis": 7,
    "deepnote_cell_type": "code"
   },
   "source": "df_jpm['Stock_Code'] = 'JPM'",
   "outputs": [
    {
     "name": "stderr",
     "text": "<ipython-input-11-67566d5852ba>:1: SettingWithCopyWarning: \nA value is trying to be set on a copy of a slice from a DataFrame.\nTry using .loc[row_indexer,col_indexer] = value instead\n\nSee the caveats in the documentation: https://pandas.pydata.org/pandas-docs/stable/user_guide/indexing.html#returning-a-view-versus-a-copy\n  df_jpm['Stock_Code'] = 'JPM'\n",
     "output_type": "stream",
     "data": {}
    }
   ],
   "execution_count": null
  },
  {
   "cell_type": "code",
   "metadata": {
    "tags": [],
    "cell_id": "00012-8217e360-c005-48a6-9124-86503a555015",
    "deepnote_to_be_reexecuted": false,
    "source_hash": "cc5ffb6d",
    "execution_start": 1641144591115,
    "execution_millis": 3,
    "deepnote_cell_type": "code"
   },
   "source": "df_amzn['Stock_Code'] = 'AMZN'",
   "outputs": [
    {
     "name": "stderr",
     "text": "<ipython-input-12-0b53570c51d9>:1: SettingWithCopyWarning: \nA value is trying to be set on a copy of a slice from a DataFrame.\nTry using .loc[row_indexer,col_indexer] = value instead\n\nSee the caveats in the documentation: https://pandas.pydata.org/pandas-docs/stable/user_guide/indexing.html#returning-a-view-versus-a-copy\n  df_amzn['Stock_Code'] = 'AMZN'\n",
     "output_type": "stream",
     "data": {}
    }
   ],
   "execution_count": null
  },
  {
   "cell_type": "code",
   "metadata": {
    "tags": [],
    "cell_id": "00013-475c36ff-993d-4e5b-8a1d-ec51e716779b",
    "deepnote_to_be_reexecuted": false,
    "source_hash": "9b82ee11",
    "execution_start": 1641144595849,
    "execution_millis": 3,
    "deepnote_cell_type": "code"
   },
   "source": "import pandas as pd",
   "outputs": [],
   "execution_count": null
  },
  {
   "cell_type": "code",
   "metadata": {
    "tags": [],
    "cell_id": "00013-ea61b30e-c203-4be2-bcbd-5c8b087aa290",
    "deepnote_to_be_reexecuted": false,
    "source_hash": "51468d93",
    "execution_start": 1640256926310,
    "execution_millis": 3,
    "deepnote_cell_type": "code"
   },
   "source": "data_stocks = pd.concat([df_msft,df_gs,df_jpm,df_ms,df_amzn],axis=0)",
   "execution_count": null,
   "outputs": []
  },
  {
   "cell_type": "code",
   "metadata": {
    "tags": [],
    "cell_id": "00014-451aa59c-064f-4088-bf4c-fe0006d2ea69",
    "deepnote_to_be_reexecuted": false,
    "source_hash": "d1a82192",
    "execution_start": 1640256929069,
    "execution_millis": 10,
    "deepnote_output_heights": [
     119
    ],
    "deepnote_cell_type": "code"
   },
   "source": "data_stocks.head(2)",
   "execution_count": null,
   "outputs": [
    {
     "output_type": "execute_result",
     "execution_count": 14,
     "data": {
      "application/vnd.deepnote.dataframe.v3+json": {
       "column_count": 7,
       "row_count": 2,
       "columns": [
        {
         "name": "Open",
         "dtype": "float64",
         "stats": {
          "unique_count": 2,
          "nan_count": 0,
          "min": "217.25999450683594",
          "max": "222.52999877929688",
          "histogram": [
           {
            "bin_start": 217.25999450683594,
            "bin_end": 217.78699493408203,
            "count": 1
           },
           {
            "bin_start": 217.78699493408203,
            "bin_end": 218.31399536132812,
            "count": 0
           },
           {
            "bin_start": 218.31399536132812,
            "bin_end": 218.84099578857422,
            "count": 0
           },
           {
            "bin_start": 218.84099578857422,
            "bin_end": 219.3679962158203,
            "count": 0
           },
           {
            "bin_start": 219.3679962158203,
            "bin_end": 219.8949966430664,
            "count": 0
           },
           {
            "bin_start": 219.8949966430664,
            "bin_end": 220.4219970703125,
            "count": 0
           },
           {
            "bin_start": 220.4219970703125,
            "bin_end": 220.9489974975586,
            "count": 0
           },
           {
            "bin_start": 220.9489974975586,
            "bin_end": 221.4759979248047,
            "count": 0
           },
           {
            "bin_start": 221.4759979248047,
            "bin_end": 222.00299835205078,
            "count": 0
           },
           {
            "bin_start": 222.00299835205078,
            "bin_end": 222.52999877929688,
            "count": 1
           }
          ]
         }
        },
        {
         "name": "High",
         "dtype": "float64",
         "stats": {
          "unique_count": 2,
          "nan_count": 0,
          "min": "218.52000427246094",
          "max": "223.0",
          "histogram": [
           {
            "bin_start": 218.52000427246094,
            "bin_end": 218.96800384521484,
            "count": 1
           },
           {
            "bin_start": 218.96800384521484,
            "bin_end": 219.41600341796874,
            "count": 0
           },
           {
            "bin_start": 219.41600341796874,
            "bin_end": 219.86400299072267,
            "count": 0
           },
           {
            "bin_start": 219.86400299072267,
            "bin_end": 220.31200256347657,
            "count": 0
           },
           {
            "bin_start": 220.31200256347657,
            "bin_end": 220.76000213623047,
            "count": 0
           },
           {
            "bin_start": 220.76000213623047,
            "bin_end": 221.20800170898437,
            "count": 0
           },
           {
            "bin_start": 221.20800170898437,
            "bin_end": 221.65600128173827,
            "count": 0
           },
           {
            "bin_start": 221.65600128173827,
            "bin_end": 222.1040008544922,
            "count": 0
           },
           {
            "bin_start": 222.1040008544922,
            "bin_end": 222.5520004272461,
            "count": 0
           },
           {
            "bin_start": 222.5520004272461,
            "bin_end": 223,
            "count": 1
           }
          ]
         }
        },
        {
         "name": "Low",
         "dtype": "float64",
         "stats": {
          "unique_count": 2,
          "nan_count": 0,
          "min": "214.80999755859375",
          "max": "215.6999969482422",
          "histogram": [
           {
            "bin_start": 214.80999755859375,
            "bin_end": 214.89899749755858,
            "count": 1
           },
           {
            "bin_start": 214.89899749755858,
            "bin_end": 214.98799743652344,
            "count": 0
           },
           {
            "bin_start": 214.98799743652344,
            "bin_end": 215.07699737548828,
            "count": 0
           },
           {
            "bin_start": 215.07699737548828,
            "bin_end": 215.16599731445314,
            "count": 0
           },
           {
            "bin_start": 215.16599731445314,
            "bin_end": 215.25499725341797,
            "count": 0
           },
           {
            "bin_start": 215.25499725341797,
            "bin_end": 215.3439971923828,
            "count": 0
           },
           {
            "bin_start": 215.3439971923828,
            "bin_end": 215.43299713134766,
            "count": 0
           },
           {
            "bin_start": 215.43299713134766,
            "bin_end": 215.5219970703125,
            "count": 0
           },
           {
            "bin_start": 215.5219970703125,
            "bin_end": 215.61099700927736,
            "count": 0
           },
           {
            "bin_start": 215.61099700927736,
            "bin_end": 215.6999969482422,
            "count": 1
           }
          ]
         }
        },
        {
         "name": "Close",
         "dtype": "float64",
         "stats": {
          "unique_count": 2,
          "nan_count": 0,
          "min": "217.69000244140625",
          "max": "217.89999389648438",
          "histogram": [
           {
            "bin_start": 217.69000244140625,
            "bin_end": 217.71100158691405,
            "count": 1
           },
           {
            "bin_start": 217.71100158691405,
            "bin_end": 217.73200073242188,
            "count": 0
           },
           {
            "bin_start": 217.73200073242188,
            "bin_end": 217.75299987792968,
            "count": 0
           },
           {
            "bin_start": 217.75299987792968,
            "bin_end": 217.7739990234375,
            "count": 0
           },
           {
            "bin_start": 217.7739990234375,
            "bin_end": 217.7949981689453,
            "count": 0
           },
           {
            "bin_start": 217.7949981689453,
            "bin_end": 217.8159973144531,
            "count": 0
           },
           {
            "bin_start": 217.8159973144531,
            "bin_end": 217.83699645996094,
            "count": 0
           },
           {
            "bin_start": 217.83699645996094,
            "bin_end": 217.85799560546874,
            "count": 0
           },
           {
            "bin_start": 217.85799560546874,
            "bin_end": 217.87899475097657,
            "count": 0
           },
           {
            "bin_start": 217.87899475097657,
            "bin_end": 217.89999389648438,
            "count": 1
           }
          ]
         }
        },
        {
         "name": "Adj Close",
         "dtype": "float64",
         "stats": {
          "unique_count": 2,
          "nan_count": 0,
          "min": "215.88043212890625",
          "max": "216.0886688232422",
          "histogram": [
           {
            "bin_start": 215.88043212890625,
            "bin_end": 215.90125579833983,
            "count": 1
           },
           {
            "bin_start": 215.90125579833983,
            "bin_end": 215.92207946777344,
            "count": 0
           },
           {
            "bin_start": 215.92207946777344,
            "bin_end": 215.94290313720703,
            "count": 0
           },
           {
            "bin_start": 215.94290313720703,
            "bin_end": 215.96372680664064,
            "count": 0
           },
           {
            "bin_start": 215.96372680664064,
            "bin_end": 215.98455047607422,
            "count": 0
           },
           {
            "bin_start": 215.98455047607422,
            "bin_end": 216.0053741455078,
            "count": 0
           },
           {
            "bin_start": 216.0053741455078,
            "bin_end": 216.0261978149414,
            "count": 0
           },
           {
            "bin_start": 216.0261978149414,
            "bin_end": 216.047021484375,
            "count": 0
           },
           {
            "bin_start": 216.047021484375,
            "bin_end": 216.0678451538086,
            "count": 0
           },
           {
            "bin_start": 216.0678451538086,
            "bin_end": 216.0886688232422,
            "count": 1
           }
          ]
         }
        },
        {
         "name": "Volume",
         "dtype": "int64",
         "stats": {
          "unique_count": 2,
          "nan_count": 0,
          "min": "23823000",
          "max": "37130100",
          "histogram": [
           {
            "bin_start": 23823000,
            "bin_end": 25153710,
            "count": 1
           },
           {
            "bin_start": 25153710,
            "bin_end": 26484420,
            "count": 0
           },
           {
            "bin_start": 26484420,
            "bin_end": 27815130,
            "count": 0
           },
           {
            "bin_start": 27815130,
            "bin_end": 29145840,
            "count": 0
           },
           {
            "bin_start": 29145840,
            "bin_end": 30476550,
            "count": 0
           },
           {
            "bin_start": 30476550,
            "bin_end": 31807260,
            "count": 0
           },
           {
            "bin_start": 31807260,
            "bin_end": 33137970,
            "count": 0
           },
           {
            "bin_start": 33137970,
            "bin_end": 34468680,
            "count": 0
           },
           {
            "bin_start": 34468680,
            "bin_end": 35799390,
            "count": 0
           },
           {
            "bin_start": 35799390,
            "bin_end": 37130100,
            "count": 1
           }
          ]
         }
        },
        {
         "name": "Stock_Code",
         "dtype": "object",
         "stats": {
          "unique_count": 1,
          "nan_count": 0,
          "categories": [
           {
            "name": "MSFT",
            "count": 2
           }
          ]
         }
        },
        {
         "name": "_deepnote_index_column",
         "dtype": "datetime64[ns]"
        }
       ],
       "rows": [
        {
         "Open": 222.52999877929688,
         "High": 223,
         "Low": 214.80999755859375,
         "Close": 217.69000244140625,
         "Adj Close": 215.88043212890625,
         "Volume": 37130100,
         "Stock_Code": "MSFT",
         "_deepnote_index_column": "2021-01-04T00:00:00.000000"
        },
        {
         "Open": 217.25999450683594,
         "High": 218.52000427246094,
         "Low": 215.6999969482422,
         "Close": 217.89999389648438,
         "Adj Close": 216.0886688232422,
         "Volume": 23823000,
         "Stock_Code": "MSFT",
         "_deepnote_index_column": "2021-01-05T00:00:00.000000"
        }
       ]
      },
      "text/plain": "                  Open        High         Low       Close   Adj Close  \\\nDate                                                                     \n2021-01-04  222.529999  223.000000  214.809998  217.690002  215.880432   \n2021-01-05  217.259995  218.520004  215.699997  217.899994  216.088669   \n\n              Volume Stock_Code  \nDate                             \n2021-01-04  37130100       MSFT  \n2021-01-05  23823000       MSFT  ",
      "text/html": "<div>\n<style scoped>\n    .dataframe tbody tr th:only-of-type {\n        vertical-align: middle;\n    }\n\n    .dataframe tbody tr th {\n        vertical-align: top;\n    }\n\n    .dataframe thead th {\n        text-align: right;\n    }\n</style>\n<table border=\"1\" class=\"dataframe\">\n  <thead>\n    <tr style=\"text-align: right;\">\n      <th></th>\n      <th>Open</th>\n      <th>High</th>\n      <th>Low</th>\n      <th>Close</th>\n      <th>Adj Close</th>\n      <th>Volume</th>\n      <th>Stock_Code</th>\n    </tr>\n    <tr>\n      <th>Date</th>\n      <th></th>\n      <th></th>\n      <th></th>\n      <th></th>\n      <th></th>\n      <th></th>\n      <th></th>\n    </tr>\n  </thead>\n  <tbody>\n    <tr>\n      <th>2021-01-04</th>\n      <td>222.529999</td>\n      <td>223.000000</td>\n      <td>214.809998</td>\n      <td>217.690002</td>\n      <td>215.880432</td>\n      <td>37130100</td>\n      <td>MSFT</td>\n    </tr>\n    <tr>\n      <th>2021-01-05</th>\n      <td>217.259995</td>\n      <td>218.520004</td>\n      <td>215.699997</td>\n      <td>217.899994</td>\n      <td>216.088669</td>\n      <td>23823000</td>\n      <td>MSFT</td>\n    </tr>\n  </tbody>\n</table>\n</div>"
     },
     "metadata": {}
    }
   ]
  },
  {
   "cell_type": "code",
   "metadata": {
    "tags": [],
    "cell_id": "00016-0523d9a3-7056-44f1-861b-5b78eee8b85d",
    "deepnote_to_be_reexecuted": false,
    "source_hash": "cf7e646a",
    "execution_start": 1640256936204,
    "execution_millis": 97,
    "deepnote_cell_type": "code"
   },
   "source": "data_stocks.tail(2)",
   "execution_count": null,
   "outputs": [
    {
     "output_type": "execute_result",
     "execution_count": 15,
     "data": {
      "application/vnd.deepnote.dataframe.v3+json": {
       "column_count": 7,
       "row_count": 2,
       "columns": [
        {
         "name": "Open",
         "dtype": "float64",
         "stats": {
          "unique_count": 2,
          "nan_count": 0,
          "min": "3547.639892578125",
          "max": "3602.10009765625",
          "histogram": [
           {
            "bin_start": 3547.639892578125,
            "bin_end": 3553.0859130859376,
            "count": 1
           },
           {
            "bin_start": 3553.0859130859376,
            "bin_end": 3558.53193359375,
            "count": 0
           },
           {
            "bin_start": 3558.53193359375,
            "bin_end": 3563.9779541015623,
            "count": 0
           },
           {
            "bin_start": 3563.9779541015623,
            "bin_end": 3569.423974609375,
            "count": 0
           },
           {
            "bin_start": 3569.423974609375,
            "bin_end": 3574.8699951171875,
            "count": 0
           },
           {
            "bin_start": 3574.8699951171875,
            "bin_end": 3580.316015625,
            "count": 0
           },
           {
            "bin_start": 3580.316015625,
            "bin_end": 3585.7620361328127,
            "count": 0
           },
           {
            "bin_start": 3585.7620361328127,
            "bin_end": 3591.208056640625,
            "count": 0
           },
           {
            "bin_start": 3591.208056640625,
            "bin_end": 3596.6540771484374,
            "count": 0
           },
           {
            "bin_start": 3596.6540771484374,
            "bin_end": 3602.10009765625,
            "count": 1
           }
          ]
         }
        },
        {
         "name": "High",
         "dtype": "float64",
         "stats": {
          "unique_count": 2,
          "nan_count": 0,
          "min": "3596.0",
          "max": "3633.5",
          "histogram": [
           {
            "bin_start": 3596,
            "bin_end": 3599.75,
            "count": 1
           },
           {
            "bin_start": 3599.75,
            "bin_end": 3603.5,
            "count": 0
           },
           {
            "bin_start": 3603.5,
            "bin_end": 3607.25,
            "count": 0
           },
           {
            "bin_start": 3607.25,
            "bin_end": 3611,
            "count": 0
           },
           {
            "bin_start": 3611,
            "bin_end": 3614.75,
            "count": 0
           },
           {
            "bin_start": 3614.75,
            "bin_end": 3618.5,
            "count": 0
           },
           {
            "bin_start": 3618.5,
            "bin_end": 3622.25,
            "count": 0
           },
           {
            "bin_start": 3622.25,
            "bin_end": 3626,
            "count": 0
           },
           {
            "bin_start": 3626,
            "bin_end": 3629.75,
            "count": 0
           },
           {
            "bin_start": 3629.75,
            "bin_end": 3633.5,
            "count": 1
           }
          ]
         }
        },
        {
         "name": "Low",
         "dtype": "float64",
         "stats": {
          "unique_count": 2,
          "nan_count": 0,
          "min": "3504.14990234375",
          "max": "3531.5",
          "histogram": [
           {
            "bin_start": 3504.14990234375,
            "bin_end": 3506.884912109375,
            "count": 1
           },
           {
            "bin_start": 3506.884912109375,
            "bin_end": 3509.619921875,
            "count": 0
           },
           {
            "bin_start": 3509.619921875,
            "bin_end": 3512.354931640625,
            "count": 0
           },
           {
            "bin_start": 3512.354931640625,
            "bin_end": 3515.08994140625,
            "count": 0
           },
           {
            "bin_start": 3515.08994140625,
            "bin_end": 3517.824951171875,
            "count": 0
           },
           {
            "bin_start": 3517.824951171875,
            "bin_end": 3520.5599609375,
            "count": 0
           },
           {
            "bin_start": 3520.5599609375,
            "bin_end": 3523.294970703125,
            "count": 0
           },
           {
            "bin_start": 3523.294970703125,
            "bin_end": 3526.02998046875,
            "count": 0
           },
           {
            "bin_start": 3526.02998046875,
            "bin_end": 3528.764990234375,
            "count": 0
           },
           {
            "bin_start": 3528.764990234375,
            "bin_end": 3531.5,
            "count": 1
           }
          ]
         }
        },
        {
         "name": "Close",
         "dtype": "float64",
         "stats": {
          "unique_count": 2,
          "nan_count": 0,
          "min": "3504.56005859375",
          "max": "3561.570068359375",
          "histogram": [
           {
            "bin_start": 3504.56005859375,
            "bin_end": 3510.2610595703127,
            "count": 1
           },
           {
            "bin_start": 3510.2610595703127,
            "bin_end": 3515.962060546875,
            "count": 0
           },
           {
            "bin_start": 3515.962060546875,
            "bin_end": 3521.6630615234376,
            "count": 0
           },
           {
            "bin_start": 3521.6630615234376,
            "bin_end": 3527.3640625,
            "count": 0
           },
           {
            "bin_start": 3527.3640625,
            "bin_end": 3533.0650634765625,
            "count": 0
           },
           {
            "bin_start": 3533.0650634765625,
            "bin_end": 3538.766064453125,
            "count": 0
           },
           {
            "bin_start": 3538.766064453125,
            "bin_end": 3544.4670654296874,
            "count": 0
           },
           {
            "bin_start": 3544.4670654296874,
            "bin_end": 3550.16806640625,
            "count": 0
           },
           {
            "bin_start": 3550.16806640625,
            "bin_end": 3555.8690673828123,
            "count": 0
           },
           {
            "bin_start": 3555.8690673828123,
            "bin_end": 3561.570068359375,
            "count": 1
           }
          ]
         }
        },
        {
         "name": "Adj Close",
         "dtype": "float64",
         "stats": {
          "unique_count": 2,
          "nan_count": 0,
          "min": "3504.56005859375",
          "max": "3561.570068359375",
          "histogram": [
           {
            "bin_start": 3504.56005859375,
            "bin_end": 3510.2610595703127,
            "count": 1
           },
           {
            "bin_start": 3510.2610595703127,
            "bin_end": 3515.962060546875,
            "count": 0
           },
           {
            "bin_start": 3515.962060546875,
            "bin_end": 3521.6630615234376,
            "count": 0
           },
           {
            "bin_start": 3521.6630615234376,
            "bin_end": 3527.3640625,
            "count": 0
           },
           {
            "bin_start": 3527.3640625,
            "bin_end": 3533.0650634765625,
            "count": 0
           },
           {
            "bin_start": 3533.0650634765625,
            "bin_end": 3538.766064453125,
            "count": 0
           },
           {
            "bin_start": 3538.766064453125,
            "bin_end": 3544.4670654296874,
            "count": 0
           },
           {
            "bin_start": 3544.4670654296874,
            "bin_end": 3550.16806640625,
            "count": 0
           },
           {
            "bin_start": 3550.16806640625,
            "bin_end": 3555.8690673828123,
            "count": 0
           },
           {
            "bin_start": 3555.8690673828123,
            "bin_end": 3561.570068359375,
            "count": 1
           }
          ]
         }
        },
        {
         "name": "Volume",
         "dtype": "int64",
         "stats": {
          "unique_count": 2,
          "nan_count": 0,
          "min": "2991300",
          "max": "3265600",
          "histogram": [
           {
            "bin_start": 2991300,
            "bin_end": 3018730,
            "count": 1
           },
           {
            "bin_start": 3018730,
            "bin_end": 3046160,
            "count": 0
           },
           {
            "bin_start": 3046160,
            "bin_end": 3073590,
            "count": 0
           },
           {
            "bin_start": 3073590,
            "bin_end": 3101020,
            "count": 0
           },
           {
            "bin_start": 3101020,
            "bin_end": 3128450,
            "count": 0
           },
           {
            "bin_start": 3128450,
            "bin_end": 3155880,
            "count": 0
           },
           {
            "bin_start": 3155880,
            "bin_end": 3183310,
            "count": 0
           },
           {
            "bin_start": 3183310,
            "bin_end": 3210740,
            "count": 0
           },
           {
            "bin_start": 3210740,
            "bin_end": 3238170,
            "count": 0
           },
           {
            "bin_start": 3238170,
            "bin_end": 3265600,
            "count": 1
           }
          ]
         }
        },
        {
         "name": "Stock_Code",
         "dtype": "object",
         "stats": {
          "unique_count": 1,
          "nan_count": 0,
          "categories": [
           {
            "name": "AMZN",
            "count": 2
           }
          ]
         }
        },
        {
         "name": "_deepnote_index_column",
         "dtype": "datetime64[ns]"
        }
       ],
       "rows": [
        {
         "Open": 3602.10009765625,
         "High": 3633.5,
         "Low": 3504.14990234375,
         "Close": 3504.56005859375,
         "Adj Close": 3504.56005859375,
         "Volume": 2991300,
         "Stock_Code": "AMZN",
         "_deepnote_index_column": "2021-11-26T00:00:00.000000"
        },
        {
         "Open": 3547.639892578125,
         "High": 3596,
         "Low": 3531.5,
         "Close": 3561.570068359375,
         "Adj Close": 3561.570068359375,
         "Volume": 3265600,
         "Stock_Code": "AMZN",
         "_deepnote_index_column": "2021-11-29T00:00:00.000000"
        }
       ]
      },
      "text/plain": "                   Open    High          Low        Close    Adj Close  \\\nDate                                                                     \n2021-11-26  3602.100098  3633.5  3504.149902  3504.560059  3504.560059   \n2021-11-29  3547.639893  3596.0  3531.500000  3561.570068  3561.570068   \n\n             Volume Stock_Code  \nDate                            \n2021-11-26  2991300       AMZN  \n2021-11-29  3265600       AMZN  ",
      "text/html": "<div>\n<style scoped>\n    .dataframe tbody tr th:only-of-type {\n        vertical-align: middle;\n    }\n\n    .dataframe tbody tr th {\n        vertical-align: top;\n    }\n\n    .dataframe thead th {\n        text-align: right;\n    }\n</style>\n<table border=\"1\" class=\"dataframe\">\n  <thead>\n    <tr style=\"text-align: right;\">\n      <th></th>\n      <th>Open</th>\n      <th>High</th>\n      <th>Low</th>\n      <th>Close</th>\n      <th>Adj Close</th>\n      <th>Volume</th>\n      <th>Stock_Code</th>\n    </tr>\n    <tr>\n      <th>Date</th>\n      <th></th>\n      <th></th>\n      <th></th>\n      <th></th>\n      <th></th>\n      <th></th>\n      <th></th>\n    </tr>\n  </thead>\n  <tbody>\n    <tr>\n      <th>2021-11-26</th>\n      <td>3602.100098</td>\n      <td>3633.5</td>\n      <td>3504.149902</td>\n      <td>3504.560059</td>\n      <td>3504.560059</td>\n      <td>2991300</td>\n      <td>AMZN</td>\n    </tr>\n    <tr>\n      <th>2021-11-29</th>\n      <td>3547.639893</td>\n      <td>3596.0</td>\n      <td>3531.500000</td>\n      <td>3561.570068</td>\n      <td>3561.570068</td>\n      <td>3265600</td>\n      <td>AMZN</td>\n    </tr>\n  </tbody>\n</table>\n</div>"
     },
     "metadata": {}
    }
   ]
  },
  {
   "cell_type": "code",
   "metadata": {
    "tags": [],
    "cell_id": "00017-2c2d07a2-ede7-4bf0-ae79-697cd2990fe5",
    "deepnote_to_be_reexecuted": false,
    "source_hash": "89800908",
    "execution_start": 1640256940763,
    "execution_millis": 1,
    "deepnote_output_heights": [
     21.1875
    ],
    "deepnote_cell_type": "code"
   },
   "source": "data_stocks.shape",
   "execution_count": null,
   "outputs": [
    {
     "output_type": "execute_result",
     "execution_count": 16,
     "data": {
      "text/plain": "(1145, 7)"
     },
     "metadata": {}
    }
   ]
  },
  {
   "cell_type": "code",
   "metadata": {
    "tags": [],
    "cell_id": "00018-bc917aa6-9c11-4fbb-b193-574a8725465d",
    "deepnote_to_be_reexecuted": false,
    "source_hash": "1ac3ab8a",
    "execution_start": 1640184201906,
    "execution_millis": 116,
    "deepnote_cell_type": "code"
   },
   "source": "data_stocks[data_stocks['Stock_Code']=='GS']",
   "execution_count": null,
   "outputs": [
    {
     "output_type": "execute_result",
     "execution_count": 89,
     "data": {
      "application/vnd.deepnote.dataframe.v3+json": {
       "column_count": 7,
       "row_count": 229,
       "columns": [
        {
         "name": "Open",
         "dtype": "float64",
         "stats": {
          "unique_count": 222,
          "nan_count": 0,
          "min": "263.8800048828125",
          "max": "423.1199951171875",
          "histogram": [
           {
            "bin_start": 263.8800048828125,
            "bin_end": 279.80400390625,
            "count": 8
           },
           {
            "bin_start": 279.80400390625,
            "bin_end": 295.7280029296875,
            "count": 11
           },
           {
            "bin_start": 295.7280029296875,
            "bin_end": 311.652001953125,
            "count": 14
           },
           {
            "bin_start": 311.652001953125,
            "bin_end": 327.5760009765625,
            "count": 10
           },
           {
            "bin_start": 327.5760009765625,
            "bin_end": 343.5,
            "count": 29
           },
           {
            "bin_start": 343.5,
            "bin_end": 359.4239990234375,
            "count": 21
           },
           {
            "bin_start": 359.4239990234375,
            "bin_end": 375.347998046875,
            "count": 35
           },
           {
            "bin_start": 375.347998046875,
            "bin_end": 391.2719970703125,
            "count": 37
           },
           {
            "bin_start": 391.2719970703125,
            "bin_end": 407.19599609374995,
            "count": 32
           },
           {
            "bin_start": 407.19599609374995,
            "bin_end": 423.1199951171875,
            "count": 32
           }
          ]
         }
        },
        {
         "name": "High",
         "dtype": "float64",
         "stats": {
          "unique_count": 227,
          "nan_count": 0,
          "min": "267.5799865722656",
          "max": "426.1600036621094",
          "histogram": [
           {
            "bin_start": 267.5799865722656,
            "bin_end": 283.43798828125,
            "count": 6
           },
           {
            "bin_start": 283.43798828125,
            "bin_end": 299.2959899902344,
            "count": 13
           },
           {
            "bin_start": 299.2959899902344,
            "bin_end": 315.15399169921875,
            "count": 13
           },
           {
            "bin_start": 315.15399169921875,
            "bin_end": 331.0119934082031,
            "count": 10
           },
           {
            "bin_start": 331.0119934082031,
            "bin_end": 346.8699951171875,
            "count": 30
           },
           {
            "bin_start": 346.8699951171875,
            "bin_end": 362.7279968261719,
            "count": 21
           },
           {
            "bin_start": 362.7279968261719,
            "bin_end": 378.58599853515625,
            "count": 34
           },
           {
            "bin_start": 378.58599853515625,
            "bin_end": 394.4440002441406,
            "count": 40
           },
           {
            "bin_start": 394.4440002441406,
            "bin_end": 410.302001953125,
            "count": 31
           },
           {
            "bin_start": 410.302001953125,
            "bin_end": 426.1600036621094,
            "count": 31
           }
          ]
         }
        },
        {
         "name": "Low",
         "dtype": "float64",
         "stats": {
          "unique_count": 227,
          "nan_count": 0,
          "min": "260.1600036621094",
          "max": "413.760009765625",
          "histogram": [
           {
            "bin_start": 260.1600036621094,
            "bin_end": 275.52000427246094,
            "count": 7
           },
           {
            "bin_start": 275.52000427246094,
            "bin_end": 290.8800048828125,
            "count": 11
           },
           {
            "bin_start": 290.8800048828125,
            "bin_end": 306.24000549316406,
            "count": 11
           },
           {
            "bin_start": 306.24000549316406,
            "bin_end": 321.6000061035156,
            "count": 10
           },
           {
            "bin_start": 321.6000061035156,
            "bin_end": 336.9600067138672,
            "count": 31
           },
           {
            "bin_start": 336.9600067138672,
            "bin_end": 352.32000732421875,
            "count": 19
           },
           {
            "bin_start": 352.32000732421875,
            "bin_end": 367.6800079345703,
            "count": 29
           },
           {
            "bin_start": 367.6800079345703,
            "bin_end": 383.0400085449219,
            "count": 43
           },
           {
            "bin_start": 383.0400085449219,
            "bin_end": 398.40000915527344,
            "count": 24
           },
           {
            "bin_start": 398.40000915527344,
            "bin_end": 413.760009765625,
            "count": 44
           }
          ]
         }
        },
        {
         "name": "Close",
         "dtype": "float64",
         "stats": {
          "unique_count": 228,
          "nan_count": 0,
          "min": "265.0",
          "max": "423.8500061035156",
          "histogram": [
           {
            "bin_start": 265,
            "bin_end": 280.88500061035154,
            "count": 6
           },
           {
            "bin_start": 280.88500061035154,
            "bin_end": 296.77000122070314,
            "count": 14
           },
           {
            "bin_start": 296.77000122070314,
            "bin_end": 312.6550018310547,
            "count": 11
           },
           {
            "bin_start": 312.6550018310547,
            "bin_end": 328.5400024414063,
            "count": 15
           },
           {
            "bin_start": 328.5400024414063,
            "bin_end": 344.4250030517578,
            "count": 28
           },
           {
            "bin_start": 344.4250030517578,
            "bin_end": 360.31000366210935,
            "count": 21
           },
           {
            "bin_start": 360.31000366210935,
            "bin_end": 376.19500427246095,
            "count": 41
           },
           {
            "bin_start": 376.19500427246095,
            "bin_end": 392.0800048828125,
            "count": 36
           },
           {
            "bin_start": 392.0800048828125,
            "bin_end": 407.9650054931641,
            "count": 28
           },
           {
            "bin_start": 407.9650054931641,
            "bin_end": 423.8500061035156,
            "count": 29
           }
          ]
         }
        },
        {
         "name": "Adj Close",
         "dtype": "float64",
         "stats": {
          "unique_count": 229,
          "nan_count": 0,
          "min": "260.4281921386719",
          "max": "421.625",
          "histogram": [
           {
            "bin_start": 260.4281921386719,
            "bin_end": 276.54787292480466,
            "count": 6
           },
           {
            "bin_start": 276.54787292480466,
            "bin_end": 292.6675537109375,
            "count": 14
           },
           {
            "bin_start": 292.6675537109375,
            "bin_end": 308.7872344970703,
            "count": 12
           },
           {
            "bin_start": 308.7872344970703,
            "bin_end": 324.90691528320315,
            "count": 16
           },
           {
            "bin_start": 324.90691528320315,
            "bin_end": 341.02659606933594,
            "count": 27
           },
           {
            "bin_start": 341.02659606933594,
            "bin_end": 357.1462768554687,
            "count": 20
           },
           {
            "bin_start": 357.1462768554687,
            "bin_end": 373.2659576416015,
            "count": 40
           },
           {
            "bin_start": 373.2659576416015,
            "bin_end": 389.38563842773436,
            "count": 34
           },
           {
            "bin_start": 389.38563842773436,
            "bin_end": 405.5053192138672,
            "count": 33
           },
           {
            "bin_start": 405.5053192138672,
            "bin_end": 421.625,
            "count": 27
           }
          ]
         }
        },
        {
         "name": "Volume",
         "dtype": "int64",
         "stats": {
          "unique_count": 228,
          "nan_count": 0,
          "min": "1252400",
          "max": "9876800",
          "histogram": [
           {
            "bin_start": 1252400,
            "bin_end": 2114840,
            "count": 64
           },
           {
            "bin_start": 2114840,
            "bin_end": 2977280,
            "count": 93
           },
           {
            "bin_start": 2977280,
            "bin_end": 3839720,
            "count": 47
           },
           {
            "bin_start": 3839720,
            "bin_end": 4702160,
            "count": 16
           },
           {
            "bin_start": 4702160,
            "bin_end": 5564600,
            "count": 3
           },
           {
            "bin_start": 5564600,
            "bin_end": 6427040,
            "count": 2
           },
           {
            "bin_start": 6427040,
            "bin_end": 7289480,
            "count": 3
           },
           {
            "bin_start": 7289480,
            "bin_end": 8151920,
            "count": 0
           },
           {
            "bin_start": 8151920,
            "bin_end": 9014360,
            "count": 0
           },
           {
            "bin_start": 9014360,
            "bin_end": 9876800,
            "count": 1
           }
          ]
         }
        },
        {
         "name": "Stock_Code",
         "dtype": "object",
         "stats": {
          "unique_count": 1,
          "nan_count": 0,
          "categories": [
           {
            "name": "GS",
            "count": 229
           }
          ]
         }
        },
        {
         "name": "_deepnote_index_column",
         "dtype": "datetime64[ns]"
        }
       ],
       "rows": [
        {
         "Open": 267,
         "High": 267.5799865722656,
         "Low": 260.1600036621094,
         "Close": 265,
         "Adj Close": 260.4281921386719,
         "Volume": 3572000,
         "Stock_Code": "GS",
         "_deepnote_index_column": "2021-01-04T00:00:00.000000"
        },
        {
         "Open": 263.8800048828125,
         "High": 273.5,
         "Low": 262.57000732421875,
         "Close": 270.92999267578125,
         "Adj Close": 266.25592041015625,
         "Volume": 4207100,
         "Stock_Code": "GS",
         "_deepnote_index_column": "2021-01-05T00:00:00.000000"
        },
        {
         "Open": 276.2900085449219,
         "High": 288.3800048828125,
         "Low": 273.1000061035156,
         "Close": 285.54998779296875,
         "Adj Close": 280.6236572265625,
         "Volume": 6383500,
         "Stock_Code": "GS",
         "_deepnote_index_column": "2021-01-06T00:00:00.000000"
        },
        {
         "Open": 287.7699890136719,
         "High": 295.8900146484375,
         "Low": 286.67999267578125,
         "Close": 291.6499938964844,
         "Adj Close": 286.61846923828125,
         "Volume": 4009700,
         "Stock_Code": "GS",
         "_deepnote_index_column": "2021-01-07T00:00:00.000000"
        },
        {
         "Open": 292,
         "High": 292.2799987792969,
         "Low": 285.05999755859375,
         "Close": 290.0799865722656,
         "Adj Close": 285.07550048828125,
         "Volume": 2800800,
         "Stock_Code": "GS",
         "_deepnote_index_column": "2021-01-08T00:00:00.000000"
        },
        {
         "Open": 286.79998779296875,
         "High": 295,
         "Low": 284.20001220703125,
         "Close": 293.8299865722656,
         "Adj Close": 288.7608337402344,
         "Volume": 2649700,
         "Stock_Code": "GS",
         "_deepnote_index_column": "2021-01-11T00:00:00.000000"
        },
        {
         "Open": 297.1400146484375,
         "High": 303.9800109863281,
         "Low": 296.0199890136719,
         "Close": 302.2099914550781,
         "Adj Close": 296.9962463378906,
         "Volume": 4814400,
         "Stock_Code": "GS",
         "_deepnote_index_column": "2021-01-12T00:00:00.000000"
        },
        {
         "Open": 300.0799865722656,
         "High": 303.7200012207031,
         "Low": 299.1000061035156,
         "Close": 302.94000244140625,
         "Adj Close": 297.71368408203125,
         "Volume": 2413800,
         "Stock_Code": "GS",
         "_deepnote_index_column": "2021-01-13T00:00:00.000000"
        },
        {
         "Open": 304.04998779296875,
         "High": 309.4100036621094,
         "Low": 303.5400085449219,
         "Close": 307.8699951171875,
         "Adj Close": 302.5586242675781,
         "Volume": 3192200,
         "Stock_Code": "GS",
         "_deepnote_index_column": "2021-01-14T00:00:00.000000"
        },
        {
         "Open": 301.19000244140625,
         "High": 304.8599853515625,
         "Low": 296.8800048828125,
         "Close": 301.010009765625,
         "Adj Close": 295.8169860839844,
         "Volume": 3863700,
         "Stock_Code": "GS",
         "_deepnote_index_column": "2021-01-15T00:00:00.000000"
        }
       ]
      },
      "text/plain": "                  Open        High         Low       Close   Adj Close  \\\nDate                                                                     \n2021-01-04  267.000000  267.579987  260.160004  265.000000  260.428192   \n2021-01-05  263.880005  273.500000  262.570007  270.929993  266.255920   \n2021-01-06  276.290009  288.380005  273.100006  285.549988  280.623657   \n2021-01-07  287.769989  295.890015  286.679993  291.649994  286.618469   \n2021-01-08  292.000000  292.279999  285.059998  290.079987  285.075500   \n...                ...         ...         ...         ...         ...   \n2021-11-22  393.160004  402.489990  390.179993  396.160004  394.080353   \n2021-11-23  400.250000  406.959991  397.510010  406.339996  404.206909   \n2021-11-24  405.000000  407.480011  398.299988  399.190002  397.094452   \n2021-11-26  384.480011  391.709991  382.720001  389.390015  387.345917   \n2021-11-29  394.000000  396.369995  382.450012  386.540009  384.510864   \n\n             Volume Stock_Code  \nDate                            \n2021-01-04  3572000         GS  \n2021-01-05  4207100         GS  \n2021-01-06  6383500         GS  \n2021-01-07  4009700         GS  \n2021-01-08  2800800         GS  \n...             ...        ...  \n2021-11-22  3058700         GS  \n2021-11-23  2402300         GS  \n2021-11-24  2186300         GS  \n2021-11-26  2687900         GS  \n2021-11-29  2883400         GS  \n\n[229 rows x 7 columns]",
      "text/html": "<div>\n<style scoped>\n    .dataframe tbody tr th:only-of-type {\n        vertical-align: middle;\n    }\n\n    .dataframe tbody tr th {\n        vertical-align: top;\n    }\n\n    .dataframe thead th {\n        text-align: right;\n    }\n</style>\n<table border=\"1\" class=\"dataframe\">\n  <thead>\n    <tr style=\"text-align: right;\">\n      <th></th>\n      <th>Open</th>\n      <th>High</th>\n      <th>Low</th>\n      <th>Close</th>\n      <th>Adj Close</th>\n      <th>Volume</th>\n      <th>Stock_Code</th>\n    </tr>\n    <tr>\n      <th>Date</th>\n      <th></th>\n      <th></th>\n      <th></th>\n      <th></th>\n      <th></th>\n      <th></th>\n      <th></th>\n    </tr>\n  </thead>\n  <tbody>\n    <tr>\n      <th>2021-01-04</th>\n      <td>267.000000</td>\n      <td>267.579987</td>\n      <td>260.160004</td>\n      <td>265.000000</td>\n      <td>260.428192</td>\n      <td>3572000</td>\n      <td>GS</td>\n    </tr>\n    <tr>\n      <th>2021-01-05</th>\n      <td>263.880005</td>\n      <td>273.500000</td>\n      <td>262.570007</td>\n      <td>270.929993</td>\n      <td>266.255920</td>\n      <td>4207100</td>\n      <td>GS</td>\n    </tr>\n    <tr>\n      <th>2021-01-06</th>\n      <td>276.290009</td>\n      <td>288.380005</td>\n      <td>273.100006</td>\n      <td>285.549988</td>\n      <td>280.623657</td>\n      <td>6383500</td>\n      <td>GS</td>\n    </tr>\n    <tr>\n      <th>2021-01-07</th>\n      <td>287.769989</td>\n      <td>295.890015</td>\n      <td>286.679993</td>\n      <td>291.649994</td>\n      <td>286.618469</td>\n      <td>4009700</td>\n      <td>GS</td>\n    </tr>\n    <tr>\n      <th>2021-01-08</th>\n      <td>292.000000</td>\n      <td>292.279999</td>\n      <td>285.059998</td>\n      <td>290.079987</td>\n      <td>285.075500</td>\n      <td>2800800</td>\n      <td>GS</td>\n    </tr>\n    <tr>\n      <th>...</th>\n      <td>...</td>\n      <td>...</td>\n      <td>...</td>\n      <td>...</td>\n      <td>...</td>\n      <td>...</td>\n      <td>...</td>\n    </tr>\n    <tr>\n      <th>2021-11-22</th>\n      <td>393.160004</td>\n      <td>402.489990</td>\n      <td>390.179993</td>\n      <td>396.160004</td>\n      <td>394.080353</td>\n      <td>3058700</td>\n      <td>GS</td>\n    </tr>\n    <tr>\n      <th>2021-11-23</th>\n      <td>400.250000</td>\n      <td>406.959991</td>\n      <td>397.510010</td>\n      <td>406.339996</td>\n      <td>404.206909</td>\n      <td>2402300</td>\n      <td>GS</td>\n    </tr>\n    <tr>\n      <th>2021-11-24</th>\n      <td>405.000000</td>\n      <td>407.480011</td>\n      <td>398.299988</td>\n      <td>399.190002</td>\n      <td>397.094452</td>\n      <td>2186300</td>\n      <td>GS</td>\n    </tr>\n    <tr>\n      <th>2021-11-26</th>\n      <td>384.480011</td>\n      <td>391.709991</td>\n      <td>382.720001</td>\n      <td>389.390015</td>\n      <td>387.345917</td>\n      <td>2687900</td>\n      <td>GS</td>\n    </tr>\n    <tr>\n      <th>2021-11-29</th>\n      <td>394.000000</td>\n      <td>396.369995</td>\n      <td>382.450012</td>\n      <td>386.540009</td>\n      <td>384.510864</td>\n      <td>2883400</td>\n      <td>GS</td>\n    </tr>\n  </tbody>\n</table>\n<p>229 rows × 7 columns</p>\n</div>"
     },
     "metadata": {}
    }
   ]
  },
  {
   "cell_type": "code",
   "metadata": {
    "tags": [],
    "cell_id": "00019-cc35eeff-18af-45d9-be55-3568c1b2a545",
    "deepnote_to_be_reexecuted": false,
    "source_hash": "85c88d38",
    "execution_start": 1640256948028,
    "execution_millis": 104,
    "deepnote_cell_type": "code"
   },
   "source": "data_stocks.drop('Adj Close',axis=1)",
   "execution_count": null,
   "outputs": [
    {
     "output_type": "execute_result",
     "execution_count": 17,
     "data": {
      "application/vnd.deepnote.dataframe.v3+json": {
       "column_count": 6,
       "row_count": 1145,
       "columns": [
        {
         "name": "Open",
         "dtype": "float64",
         "stats": {
          "unique_count": 1104,
          "nan_count": 0,
          "min": "67.87999725341797",
          "max": "3744.0",
          "histogram": [
           {
            "bin_start": 67.87999725341797,
            "bin_end": 435.4919975280762,
            "count": 916
           },
           {
            "bin_start": 435.4919975280762,
            "bin_end": 803.1039978027344,
            "count": 0
           },
           {
            "bin_start": 803.1039978027344,
            "bin_end": 1170.7159980773927,
            "count": 0
           },
           {
            "bin_start": 1170.7159980773927,
            "bin_end": 1538.3279983520508,
            "count": 0
           },
           {
            "bin_start": 1538.3279983520508,
            "bin_end": 1905.939998626709,
            "count": 0
           },
           {
            "bin_start": 1905.939998626709,
            "bin_end": 2273.5519989013674,
            "count": 0
           },
           {
            "bin_start": 2273.5519989013674,
            "bin_end": 2641.1639991760253,
            "count": 0
           },
           {
            "bin_start": 2641.1639991760253,
            "bin_end": 3008.7759994506837,
            "count": 1
           },
           {
            "bin_start": 3008.7759994506837,
            "bin_end": 3376.387999725342,
            "count": 145
           },
           {
            "bin_start": 3376.387999725342,
            "bin_end": 3744,
            "count": 83
           }
          ]
         }
        },
        {
         "name": "High",
         "dtype": "float64",
         "stats": {
          "unique_count": 1117,
          "nan_count": 0,
          "min": "68.12000274658203",
          "max": "3773.080078125",
          "histogram": [
           {
            "bin_start": 68.12000274658203,
            "bin_end": 438.61601028442385,
            "count": 916
           },
           {
            "bin_start": 438.61601028442385,
            "bin_end": 809.1120178222657,
            "count": 0
           },
           {
            "bin_start": 809.1120178222657,
            "bin_end": 1179.6080253601076,
            "count": 0
           },
           {
            "bin_start": 1179.6080253601076,
            "bin_end": 1550.1040328979493,
            "count": 0
           },
           {
            "bin_start": 1550.1040328979493,
            "bin_end": 1920.600040435791,
            "count": 0
           },
           {
            "bin_start": 1920.600040435791,
            "bin_end": 2291.096047973633,
            "count": 0
           },
           {
            "bin_start": 2291.096047973633,
            "bin_end": 2661.592055511475,
            "count": 0
           },
           {
            "bin_start": 2661.592055511475,
            "bin_end": 3032.0880630493166,
            "count": 1
           },
           {
            "bin_start": 3032.0880630493166,
            "bin_end": 3402.5840705871583,
            "count": 141
           },
           {
            "bin_start": 3402.5840705871583,
            "bin_end": 3773.080078125,
            "count": 87
           }
          ]
         }
        },
        {
         "name": "Low",
         "dtype": "float64",
         "stats": {
          "unique_count": 1112,
          "nan_count": 0,
          "min": "66.8499984741211",
          "max": "3696.7900390625",
          "histogram": [
           {
            "bin_start": 66.8499984741211,
            "bin_end": 429.844002532959,
            "count": 916
           },
           {
            "bin_start": 429.844002532959,
            "bin_end": 792.8380065917969,
            "count": 0
           },
           {
            "bin_start": 792.8380065917969,
            "bin_end": 1155.8320106506349,
            "count": 0
           },
           {
            "bin_start": 1155.8320106506349,
            "bin_end": 1518.8260147094727,
            "count": 0
           },
           {
            "bin_start": 1518.8260147094727,
            "bin_end": 1881.8200187683105,
            "count": 0
           },
           {
            "bin_start": 1881.8200187683105,
            "bin_end": 2244.8140228271486,
            "count": 0
           },
           {
            "bin_start": 2244.8140228271486,
            "bin_end": 2607.8080268859862,
            "count": 0
           },
           {
            "bin_start": 2607.8080268859862,
            "bin_end": 2970.8020309448243,
            "count": 3
           },
           {
            "bin_start": 2970.8020309448243,
            "bin_end": 3333.7960350036624,
            "count": 138
           },
           {
            "bin_start": 3333.7960350036624,
            "bin_end": 3696.7900390625,
            "count": 88
           }
          ]
         }
        },
        {
         "name": "Close",
         "dtype": "float64",
         "stats": {
          "unique_count": 1119,
          "nan_count": 0,
          "min": "67.05000305175781",
          "max": "3731.409912109375",
          "histogram": [
           {
            "bin_start": 67.05000305175781,
            "bin_end": 433.48599395751955,
            "count": 916
           },
           {
            "bin_start": 433.48599395751955,
            "bin_end": 799.9219848632813,
            "count": 0
           },
           {
            "bin_start": 799.9219848632813,
            "bin_end": 1166.3579757690432,
            "count": 0
           },
           {
            "bin_start": 1166.3579757690432,
            "bin_end": 1532.7939666748048,
            "count": 0
           },
           {
            "bin_start": 1532.7939666748048,
            "bin_end": 1899.2299575805664,
            "count": 0
           },
           {
            "bin_start": 1899.2299575805664,
            "bin_end": 2265.6659484863285,
            "count": 0
           },
           {
            "bin_start": 2265.6659484863285,
            "bin_end": 2632.10193939209,
            "count": 0
           },
           {
            "bin_start": 2632.10193939209,
            "bin_end": 2998.5379302978517,
            "count": 2
           },
           {
            "bin_start": 2998.5379302978517,
            "bin_end": 3364.9739212036134,
            "count": 134
           },
           {
            "bin_start": 3364.9739212036134,
            "bin_end": 3731.409912109375,
            "count": 93
           }
          ]
         }
        },
        {
         "name": "Volume",
         "dtype": "int64",
         "stats": {
          "unique_count": 1140,
          "nan_count": 0,
          "min": "1252400",
          "max": "69870600",
          "histogram": [
           {
            "bin_start": 1252400,
            "bin_end": 8114220,
            "count": 566
           },
           {
            "bin_start": 8114220,
            "bin_end": 14976040,
            "count": 284
           },
           {
            "bin_start": 14976040,
            "bin_end": 21837860,
            "count": 121
           },
           {
            "bin_start": 21837860,
            "bin_end": 28699680,
            "count": 109
           },
           {
            "bin_start": 28699680,
            "bin_end": 35561500,
            "count": 39
           },
           {
            "bin_start": 35561500,
            "bin_end": 42423320,
            "count": 14
           },
           {
            "bin_start": 42423320,
            "bin_end": 49285140,
            "count": 9
           },
           {
            "bin_start": 49285140,
            "bin_end": 56146960,
            "count": 2
           },
           {
            "bin_start": 56146960,
            "bin_end": 63008780,
            "count": 0
           },
           {
            "bin_start": 63008780,
            "bin_end": 69870600,
            "count": 1
           }
          ]
         }
        },
        {
         "name": "Stock_Code",
         "dtype": "object",
         "stats": {
          "unique_count": 5,
          "nan_count": 0,
          "categories": [
           {
            "name": "MSFT",
            "count": 229
           },
           {
            "name": "GS",
            "count": 229
           },
           {
            "name": "3 others",
            "count": 687
           }
          ]
         }
        },
        {
         "name": "_deepnote_index_column",
         "dtype": "datetime64[ns]"
        }
       ],
       "rows": [
        {
         "Open": 222.52999877929688,
         "High": 223,
         "Low": 214.80999755859375,
         "Close": 217.69000244140625,
         "Volume": 37130100,
         "Stock_Code": "MSFT",
         "_deepnote_index_column": "2021-01-04T00:00:00.000000"
        },
        {
         "Open": 217.25999450683594,
         "High": 218.52000427246094,
         "Low": 215.6999969482422,
         "Close": 217.89999389648438,
         "Volume": 23823000,
         "Stock_Code": "MSFT",
         "_deepnote_index_column": "2021-01-05T00:00:00.000000"
        },
        {
         "Open": 212.1699981689453,
         "High": 216.49000549316406,
         "Low": 211.94000244140625,
         "Close": 212.25,
         "Volume": 35930700,
         "Stock_Code": "MSFT",
         "_deepnote_index_column": "2021-01-06T00:00:00.000000"
        },
        {
         "Open": 214.0399932861328,
         "High": 219.33999633789062,
         "Low": 213.7100067138672,
         "Close": 218.2899932861328,
         "Volume": 27694500,
         "Stock_Code": "MSFT",
         "_deepnote_index_column": "2021-01-07T00:00:00.000000"
        },
        {
         "Open": 218.67999267578125,
         "High": 220.5800018310547,
         "Low": 217.02999877929688,
         "Close": 219.6199951171875,
         "Volume": 22956200,
         "Stock_Code": "MSFT",
         "_deepnote_index_column": "2021-01-08T00:00:00.000000"
        },
        {
         "Open": 218.47000122070312,
         "High": 218.91000366210938,
         "Low": 216.72999572753906,
         "Close": 217.49000549316406,
         "Volume": 23031300,
         "Stock_Code": "MSFT",
         "_deepnote_index_column": "2021-01-11T00:00:00.000000"
        },
        {
         "Open": 216.5,
         "High": 217.10000610351562,
         "Low": 213.32000732421875,
         "Close": 214.92999267578125,
         "Volume": 23249300,
         "Stock_Code": "MSFT",
         "_deepnote_index_column": "2021-01-12T00:00:00.000000"
        },
        {
         "Open": 214.02000427246094,
         "High": 216.75999450683594,
         "Low": 213.92999267578125,
         "Close": 216.33999633789062,
         "Volume": 20087100,
         "Stock_Code": "MSFT",
         "_deepnote_index_column": "2021-01-13T00:00:00.000000"
        },
        {
         "Open": 215.91000366210938,
         "High": 217.4600067138672,
         "Low": 212.74000549316406,
         "Close": 213.02000427246094,
         "Volume": 29480800,
         "Stock_Code": "MSFT",
         "_deepnote_index_column": "2021-01-14T00:00:00.000000"
        },
        {
         "Open": 213.52000427246094,
         "High": 214.50999450683594,
         "Low": 212.02999877929688,
         "Close": 212.64999389648438,
         "Volume": 31746500,
         "Stock_Code": "MSFT",
         "_deepnote_index_column": "2021-01-15T00:00:00.000000"
        }
       ]
      },
      "text/plain": "                   Open         High          Low        Close    Volume  \\\nDate                                                                       \n2021-01-04   222.529999   223.000000   214.809998   217.690002  37130100   \n2021-01-05   217.259995   218.520004   215.699997   217.899994  23823000   \n2021-01-06   212.169998   216.490005   211.940002   212.250000  35930700   \n2021-01-07   214.039993   219.339996   213.710007   218.289993  27694500   \n2021-01-08   218.679993   220.580002   217.029999   219.619995  22956200   \n...                 ...          ...          ...          ...       ...   \n2021-11-22  3676.379883  3713.459961  3567.500000  3572.570068   4842200   \n2021-11-23  3585.040039  3621.050049  3527.709961  3580.040039   3690200   \n2021-11-24  3562.669922  3613.639893  3536.850098  3580.409912   2328000   \n2021-11-26  3602.100098  3633.500000  3504.149902  3504.560059   2991300   \n2021-11-29  3547.639893  3596.000000  3531.500000  3561.570068   3265600   \n\n           Stock_Code  \nDate                   \n2021-01-04       MSFT  \n2021-01-05       MSFT  \n2021-01-06       MSFT  \n2021-01-07       MSFT  \n2021-01-08       MSFT  \n...               ...  \n2021-11-22       AMZN  \n2021-11-23       AMZN  \n2021-11-24       AMZN  \n2021-11-26       AMZN  \n2021-11-29       AMZN  \n\n[1145 rows x 6 columns]",
      "text/html": "<div>\n<style scoped>\n    .dataframe tbody tr th:only-of-type {\n        vertical-align: middle;\n    }\n\n    .dataframe tbody tr th {\n        vertical-align: top;\n    }\n\n    .dataframe thead th {\n        text-align: right;\n    }\n</style>\n<table border=\"1\" class=\"dataframe\">\n  <thead>\n    <tr style=\"text-align: right;\">\n      <th></th>\n      <th>Open</th>\n      <th>High</th>\n      <th>Low</th>\n      <th>Close</th>\n      <th>Volume</th>\n      <th>Stock_Code</th>\n    </tr>\n    <tr>\n      <th>Date</th>\n      <th></th>\n      <th></th>\n      <th></th>\n      <th></th>\n      <th></th>\n      <th></th>\n    </tr>\n  </thead>\n  <tbody>\n    <tr>\n      <th>2021-01-04</th>\n      <td>222.529999</td>\n      <td>223.000000</td>\n      <td>214.809998</td>\n      <td>217.690002</td>\n      <td>37130100</td>\n      <td>MSFT</td>\n    </tr>\n    <tr>\n      <th>2021-01-05</th>\n      <td>217.259995</td>\n      <td>218.520004</td>\n      <td>215.699997</td>\n      <td>217.899994</td>\n      <td>23823000</td>\n      <td>MSFT</td>\n    </tr>\n    <tr>\n      <th>2021-01-06</th>\n      <td>212.169998</td>\n      <td>216.490005</td>\n      <td>211.940002</td>\n      <td>212.250000</td>\n      <td>35930700</td>\n      <td>MSFT</td>\n    </tr>\n    <tr>\n      <th>2021-01-07</th>\n      <td>214.039993</td>\n      <td>219.339996</td>\n      <td>213.710007</td>\n      <td>218.289993</td>\n      <td>27694500</td>\n      <td>MSFT</td>\n    </tr>\n    <tr>\n      <th>2021-01-08</th>\n      <td>218.679993</td>\n      <td>220.580002</td>\n      <td>217.029999</td>\n      <td>219.619995</td>\n      <td>22956200</td>\n      <td>MSFT</td>\n    </tr>\n    <tr>\n      <th>...</th>\n      <td>...</td>\n      <td>...</td>\n      <td>...</td>\n      <td>...</td>\n      <td>...</td>\n      <td>...</td>\n    </tr>\n    <tr>\n      <th>2021-11-22</th>\n      <td>3676.379883</td>\n      <td>3713.459961</td>\n      <td>3567.500000</td>\n      <td>3572.570068</td>\n      <td>4842200</td>\n      <td>AMZN</td>\n    </tr>\n    <tr>\n      <th>2021-11-23</th>\n      <td>3585.040039</td>\n      <td>3621.050049</td>\n      <td>3527.709961</td>\n      <td>3580.040039</td>\n      <td>3690200</td>\n      <td>AMZN</td>\n    </tr>\n    <tr>\n      <th>2021-11-24</th>\n      <td>3562.669922</td>\n      <td>3613.639893</td>\n      <td>3536.850098</td>\n      <td>3580.409912</td>\n      <td>2328000</td>\n      <td>AMZN</td>\n    </tr>\n    <tr>\n      <th>2021-11-26</th>\n      <td>3602.100098</td>\n      <td>3633.500000</td>\n      <td>3504.149902</td>\n      <td>3504.560059</td>\n      <td>2991300</td>\n      <td>AMZN</td>\n    </tr>\n    <tr>\n      <th>2021-11-29</th>\n      <td>3547.639893</td>\n      <td>3596.000000</td>\n      <td>3531.500000</td>\n      <td>3561.570068</td>\n      <td>3265600</td>\n      <td>AMZN</td>\n    </tr>\n  </tbody>\n</table>\n<p>1145 rows × 6 columns</p>\n</div>"
     },
     "metadata": {}
    }
   ]
  },
  {
   "cell_type": "code",
   "metadata": {
    "tags": [],
    "cell_id": "00020-9c5f7cc0-69f6-4758-b7e3-77b83cc7a683",
    "deepnote_to_be_reexecuted": false,
    "source_hash": "2f3a4c39",
    "execution_start": 1640200138111,
    "execution_millis": 1,
    "deepnote_cell_type": "code"
   },
   "source": "# calculating index!!\n# for every stock? separately?",
   "execution_count": null,
   "outputs": []
  },
  {
   "cell_type": "code",
   "metadata": {
    "tags": [],
    "cell_id": "00018-a6063c1f-ea0e-455c-9af5-99d37ed8a929",
    "deepnote_to_be_reexecuted": false,
    "source_hash": "3aea781f",
    "execution_start": 1640256997808,
    "execution_millis": 27,
    "deepnote_cell_type": "code"
   },
   "source": "data_stocks.to_csv('Stocks_HistData.csv')",
   "execution_count": null,
   "outputs": []
  },
  {
   "cell_type": "code",
   "source": "df_amzn",
   "metadata": {
    "tags": [],
    "cell_id": "00021-fa5174a1-df76-46fc-a332-3a52334d1c17",
    "deepnote_to_be_reexecuted": false,
    "source_hash": "25def6bb",
    "execution_start": 1641144634914,
    "execution_millis": 35,
    "deepnote_cell_type": "code"
   },
   "outputs": [
    {
     "output_type": "execute_result",
     "execution_count": 14,
     "data": {
      "application/vnd.deepnote.dataframe.v3+json": {
       "column_count": 7,
       "row_count": 21,
       "columns": [
        {
         "name": "Open",
         "dtype": "float64",
         "stats": {
          "unique_count": 21,
          "nan_count": 0,
          "min": "3337.0",
          "max": "3545.0",
          "histogram": [
           {
            "bin_start": 3337,
            "bin_end": 3357.8,
            "count": 4
           },
           {
            "bin_start": 3357.8,
            "bin_end": 3378.6,
            "count": 1
           },
           {
            "bin_start": 3378.6,
            "bin_end": 3399.4,
            "count": 3
           },
           {
            "bin_start": 3399.4,
            "bin_end": 3420.2,
            "count": 3
           },
           {
            "bin_start": 3420.2,
            "bin_end": 3441,
            "count": 2
           },
           {
            "bin_start": 3441,
            "bin_end": 3461.8,
            "count": 2
           },
           {
            "bin_start": 3461.8,
            "bin_end": 3482.6,
            "count": 1
           },
           {
            "bin_start": 3482.6,
            "bin_end": 3503.4,
            "count": 1
           },
           {
            "bin_start": 3503.4,
            "bin_end": 3524.2,
            "count": 3
           },
           {
            "bin_start": 3524.2,
            "bin_end": 3545,
            "count": 1
           }
          ]
         }
        },
        {
         "name": "High",
         "dtype": "float64",
         "stats": {
          "unique_count": 21,
          "nan_count": 0,
          "min": "3357.489990234375",
          "max": "3559.8798828125",
          "histogram": [
           {
            "bin_start": 3357.489990234375,
            "bin_end": 3377.7289794921876,
            "count": 1
           },
           {
            "bin_start": 3377.7289794921876,
            "bin_end": 3397.96796875,
            "count": 1
           },
           {
            "bin_start": 3397.96796875,
            "bin_end": 3418.2069580078123,
            "count": 3
           },
           {
            "bin_start": 3418.2069580078123,
            "bin_end": 3438.445947265625,
            "count": 1
           },
           {
            "bin_start": 3438.445947265625,
            "bin_end": 3458.6849365234375,
            "count": 4
           },
           {
            "bin_start": 3458.6849365234375,
            "bin_end": 3478.92392578125,
            "count": 4
           },
           {
            "bin_start": 3478.92392578125,
            "bin_end": 3499.1629150390627,
            "count": 2
           },
           {
            "bin_start": 3499.1629150390627,
            "bin_end": 3519.401904296875,
            "count": 1
           },
           {
            "bin_start": 3519.401904296875,
            "bin_end": 3539.6408935546874,
            "count": 1
           },
           {
            "bin_start": 3539.6408935546874,
            "bin_end": 3559.8798828125,
            "count": 3
           }
          ]
         }
        },
        {
         "name": "Low",
         "dtype": "float64",
         "stats": {
          "unique_count": 21,
          "nan_count": 0,
          "min": "3303.89990234375",
          "max": "3495.010009765625",
          "histogram": [
           {
            "bin_start": 3303.89990234375,
            "bin_end": 3323.0109130859373,
            "count": 4
           },
           {
            "bin_start": 3323.0109130859373,
            "bin_end": 3342.121923828125,
            "count": 3
           },
           {
            "bin_start": 3342.121923828125,
            "bin_end": 3361.2329345703124,
            "count": 0
           },
           {
            "bin_start": 3361.2329345703124,
            "bin_end": 3380.3439453125,
            "count": 4
           },
           {
            "bin_start": 3380.3439453125,
            "bin_end": 3399.4549560546875,
            "count": 3
           },
           {
            "bin_start": 3399.4549560546875,
            "bin_end": 3418.565966796875,
            "count": 2
           },
           {
            "bin_start": 3418.565966796875,
            "bin_end": 3437.6769775390626,
            "count": 1
           },
           {
            "bin_start": 3437.6769775390626,
            "bin_end": 3456.78798828125,
            "count": 1
           },
           {
            "bin_start": 3456.78798828125,
            "bin_end": 3475.8989990234377,
            "count": 1
           },
           {
            "bin_start": 3475.8989990234377,
            "bin_end": 3495.010009765625,
            "count": 2
           }
          ]
         }
        },
        {
         "name": "Close",
         "dtype": "float64",
         "stats": {
          "unique_count": 21,
          "nan_count": 0,
          "min": "3341.580078125",
          "max": "3523.2900390625",
          "histogram": [
           {
            "bin_start": 3341.580078125,
            "bin_end": 3359.75107421875,
            "count": 1
           },
           {
            "bin_start": 3359.75107421875,
            "bin_end": 3377.9220703125,
            "count": 2
           },
           {
            "bin_start": 3377.9220703125,
            "bin_end": 3396.09306640625,
            "count": 5
           },
           {
            "bin_start": 3396.09306640625,
            "bin_end": 3414.2640625,
            "count": 3
           },
           {
            "bin_start": 3414.2640625,
            "bin_end": 3432.43505859375,
            "count": 3
           },
           {
            "bin_start": 3432.43505859375,
            "bin_end": 3450.6060546875,
            "count": 3
           },
           {
            "bin_start": 3450.6060546875,
            "bin_end": 3468.77705078125,
            "count": 1
           },
           {
            "bin_start": 3468.77705078125,
            "bin_end": 3486.948046875,
            "count": 1
           },
           {
            "bin_start": 3486.948046875,
            "bin_end": 3505.11904296875,
            "count": 0
           },
           {
            "bin_start": 3505.11904296875,
            "bin_end": 3523.2900390625,
            "count": 2
           }
          ]
         }
        },
        {
         "name": "Adj Close",
         "dtype": "float64",
         "stats": {
          "unique_count": 21,
          "nan_count": 0,
          "min": "3341.580078125",
          "max": "3523.2900390625",
          "histogram": [
           {
            "bin_start": 3341.580078125,
            "bin_end": 3359.75107421875,
            "count": 1
           },
           {
            "bin_start": 3359.75107421875,
            "bin_end": 3377.9220703125,
            "count": 2
           },
           {
            "bin_start": 3377.9220703125,
            "bin_end": 3396.09306640625,
            "count": 5
           },
           {
            "bin_start": 3396.09306640625,
            "bin_end": 3414.2640625,
            "count": 3
           },
           {
            "bin_start": 3414.2640625,
            "bin_end": 3432.43505859375,
            "count": 3
           },
           {
            "bin_start": 3432.43505859375,
            "bin_end": 3450.6060546875,
            "count": 3
           },
           {
            "bin_start": 3450.6060546875,
            "bin_end": 3468.77705078125,
            "count": 1
           },
           {
            "bin_start": 3468.77705078125,
            "bin_end": 3486.948046875,
            "count": 1
           },
           {
            "bin_start": 3486.948046875,
            "bin_end": 3505.11904296875,
            "count": 0
           },
           {
            "bin_start": 3505.11904296875,
            "bin_end": 3523.2900390625,
            "count": 2
           }
          ]
         }
        },
        {
         "name": "Volume",
         "dtype": "int64",
         "stats": {
          "unique_count": 21,
          "nan_count": 0,
          "min": "1787700",
          "max": "4277100",
          "histogram": [
           {
            "bin_start": 1787700,
            "bin_end": 2036640,
            "count": 3
           },
           {
            "bin_start": 2036640,
            "bin_end": 2285580,
            "count": 1
           },
           {
            "bin_start": 2285580,
            "bin_end": 2534520,
            "count": 1
           },
           {
            "bin_start": 2534520,
            "bin_end": 2783460,
            "count": 2
           },
           {
            "bin_start": 2783460,
            "bin_end": 3032400,
            "count": 5
           },
           {
            "bin_start": 3032400,
            "bin_end": 3281340,
            "count": 3
           },
           {
            "bin_start": 3281340,
            "bin_end": 3530280,
            "count": 2
           },
           {
            "bin_start": 3530280,
            "bin_end": 3779220,
            "count": 1
           },
           {
            "bin_start": 3779220,
            "bin_end": 4028160,
            "count": 1
           },
           {
            "bin_start": 4028160,
            "bin_end": 4277100,
            "count": 2
           }
          ]
         }
        },
        {
         "name": "Stock_Code",
         "dtype": "object",
         "stats": {
          "unique_count": 1,
          "nan_count": 0,
          "categories": [
           {
            "name": "AMZN",
            "count": 21
           }
          ]
         }
        },
        {
         "name": "_deepnote_index_column",
         "dtype": "datetime64[ns]"
        }
       ],
       "rows": [
        {
         "Open": 3545,
         "High": 3559.8798828125,
         "Low": 3441.60009765625,
         "Close": 3443.719970703125,
         "Adj Close": 3443.719970703125,
         "Volume": 3745800,
         "Stock_Code": "AMZN",
         "_deepnote_index_column": "2021-12-01T00:00:00.000000"
        },
        {
         "Open": 3460,
         "High": 3492.699951171875,
         "Low": 3423.75,
         "Close": 3437.360107421875,
         "Adj Close": 3437.360107421875,
         "Volume": 3236300,
         "Stock_Code": "AMZN",
         "_deepnote_index_column": "2021-12-02T00:00:00.000000"
        },
        {
         "Open": 3455,
         "High": 3469.8701171875,
         "Low": 3338.60009765625,
         "Close": 3389.7900390625,
         "Adj Close": 3389.7900390625,
         "Volume": 4032600,
         "Stock_Code": "AMZN",
         "_deepnote_index_column": "2021-12-03T00:00:00.000000"
        },
        {
         "Open": 3393,
         "High": 3473.909912109375,
         "Low": 3338.68994140625,
         "Close": 3427.3701171875,
         "Adj Close": 3427.3701171875,
         "Volume": 3443000,
         "Stock_Code": "AMZN",
         "_deepnote_index_column": "2021-12-06T00:00:00.000000"
        },
        {
         "Open": 3492,
         "High": 3549.989990234375,
         "Low": 3466.68994140625,
         "Close": 3523.2900390625,
         "Adj Close": 3523.2900390625,
         "Volume": 3320500,
         "Stock_Code": "AMZN",
         "_deepnote_index_column": "2021-12-07T00:00:00.000000"
        },
        {
         "Open": 3523.010009765625,
         "High": 3543.60009765625,
         "Low": 3495.010009765625,
         "Close": 3523.159912109375,
         "Adj Close": 3523.159912109375,
         "Volume": 2262700,
         "Stock_Code": "AMZN",
         "_deepnote_index_column": "2021-12-08T00:00:00.000000"
        },
        {
         "Open": 3515,
         "High": 3539.389892578125,
         "Low": 3482.7900390625,
         "Close": 3483.419921875,
         "Adj Close": 3483.419921875,
         "Volume": 2303100,
         "Stock_Code": "AMZN",
         "_deepnote_index_column": "2021-12-09T00:00:00.000000"
        },
        {
         "Open": 3508.340087890625,
         "High": 3518.5400390625,
         "Low": 3410,
         "Close": 3444.239990234375,
         "Adj Close": 3444.239990234375,
         "Volume": 3031400,
         "Stock_Code": "AMZN",
         "_deepnote_index_column": "2021-12-10T00:00:00.000000"
        },
        {
         "Open": 3440,
         "High": 3442,
         "Low": 3382.60009765625,
         "Close": 3391.35009765625,
         "Adj Close": 3391.35009765625,
         "Volume": 3108500,
         "Stock_Code": "AMZN",
         "_deepnote_index_column": "2021-12-13T00:00:00.000000"
        },
        {
         "Open": 3351,
         "High": 3389.97998046875,
         "Low": 3328.800048828125,
         "Close": 3381.830078125,
         "Adj Close": 3381.830078125,
         "Volume": 2798800,
         "Stock_Code": "AMZN",
         "_deepnote_index_column": "2021-12-14T00:00:00.000000"
        }
       ]
      },
      "text/plain": "                   Open         High          Low        Close    Adj Close  \\\nDate                                                                          \n2021-12-01  3545.000000  3559.879883  3441.600098  3443.719971  3443.719971   \n2021-12-02  3460.000000  3492.699951  3423.750000  3437.360107  3437.360107   \n2021-12-03  3455.000000  3469.870117  3338.600098  3389.790039  3389.790039   \n2021-12-06  3393.000000  3473.909912  3338.689941  3427.370117  3427.370117   \n2021-12-07  3492.000000  3549.989990  3466.689941  3523.290039  3523.290039   \n2021-12-08  3523.010010  3543.600098  3495.010010  3523.159912  3523.159912   \n2021-12-09  3515.000000  3539.389893  3482.790039  3483.419922  3483.419922   \n2021-12-10  3508.340088  3518.540039  3410.000000  3444.239990  3444.239990   \n2021-12-13  3440.000000  3442.000000  3382.600098  3391.350098  3391.350098   \n2021-12-14  3351.000000  3389.979980  3328.800049  3381.830078  3381.830078   \n2021-12-15  3371.959961  3472.000000  3303.899902  3466.300049  3466.300049   \n2021-12-16  3467.370117  3483.320068  3363.209961  3377.419922  3377.419922   \n2021-12-17  3354.209961  3417.969971  3312.270020  3400.350098  3400.350098   \n2021-12-20  3337.000000  3357.489990  3312.000000  3341.580078  3341.580078   \n2021-12-21  3357.010010  3414.330078  3312.949951  3408.340088  3408.340088   \n2021-12-22  3385.399902  3441.000000  3370.010010  3420.739990  3420.739990   \n2021-12-23  3408.560059  3439.500000  3403.000000  3421.370117  3421.370117   \n2021-12-27  3420.739990  3458.860107  3384.310059  3393.389893  3393.389893   \n2021-12-28  3403.649902  3443.520020  3382.709961  3413.219971  3413.219971   \n2021-12-29  3416.800049  3424.239990  3372.010010  3384.020020  3384.020020   \n2021-12-30  3394.000000  3417.760010  3370.479980  3372.889893  3372.889893   \n\n             Volume Stock_Code  \nDate                            \n2021-12-01  3745800       AMZN  \n2021-12-02  3236300       AMZN  \n2021-12-03  4032600       AMZN  \n2021-12-06  3443000       AMZN  \n2021-12-07  3320500       AMZN  \n2021-12-08  2262700       AMZN  \n2021-12-09  2303100       AMZN  \n2021-12-10  3031400       AMZN  \n2021-12-13  3108500       AMZN  \n2021-12-14  2798800       AMZN  \n2021-12-15  3789700       AMZN  \n2021-12-16  3043800       AMZN  \n2021-12-17  4277100       AMZN  \n2021-12-20  2868600       AMZN  \n2021-12-21  2797800       AMZN  \n2021-12-22  2751800       AMZN  \n2021-12-23  1839400       AMZN  \n2021-12-27  2934400       AMZN  \n2021-12-28  2731900       AMZN  \n2021-12-29  1787700       AMZN  \n2021-12-30  1879200       AMZN  ",
      "text/html": "<div>\n<style scoped>\n    .dataframe tbody tr th:only-of-type {\n        vertical-align: middle;\n    }\n\n    .dataframe tbody tr th {\n        vertical-align: top;\n    }\n\n    .dataframe thead th {\n        text-align: right;\n    }\n</style>\n<table border=\"1\" class=\"dataframe\">\n  <thead>\n    <tr style=\"text-align: right;\">\n      <th></th>\n      <th>Open</th>\n      <th>High</th>\n      <th>Low</th>\n      <th>Close</th>\n      <th>Adj Close</th>\n      <th>Volume</th>\n      <th>Stock_Code</th>\n    </tr>\n    <tr>\n      <th>Date</th>\n      <th></th>\n      <th></th>\n      <th></th>\n      <th></th>\n      <th></th>\n      <th></th>\n      <th></th>\n    </tr>\n  </thead>\n  <tbody>\n    <tr>\n      <th>2021-12-01</th>\n      <td>3545.000000</td>\n      <td>3559.879883</td>\n      <td>3441.600098</td>\n      <td>3443.719971</td>\n      <td>3443.719971</td>\n      <td>3745800</td>\n      <td>AMZN</td>\n    </tr>\n    <tr>\n      <th>2021-12-02</th>\n      <td>3460.000000</td>\n      <td>3492.699951</td>\n      <td>3423.750000</td>\n      <td>3437.360107</td>\n      <td>3437.360107</td>\n      <td>3236300</td>\n      <td>AMZN</td>\n    </tr>\n    <tr>\n      <th>2021-12-03</th>\n      <td>3455.000000</td>\n      <td>3469.870117</td>\n      <td>3338.600098</td>\n      <td>3389.790039</td>\n      <td>3389.790039</td>\n      <td>4032600</td>\n      <td>AMZN</td>\n    </tr>\n    <tr>\n      <th>2021-12-06</th>\n      <td>3393.000000</td>\n      <td>3473.909912</td>\n      <td>3338.689941</td>\n      <td>3427.370117</td>\n      <td>3427.370117</td>\n      <td>3443000</td>\n      <td>AMZN</td>\n    </tr>\n    <tr>\n      <th>2021-12-07</th>\n      <td>3492.000000</td>\n      <td>3549.989990</td>\n      <td>3466.689941</td>\n      <td>3523.290039</td>\n      <td>3523.290039</td>\n      <td>3320500</td>\n      <td>AMZN</td>\n    </tr>\n    <tr>\n      <th>2021-12-08</th>\n      <td>3523.010010</td>\n      <td>3543.600098</td>\n      <td>3495.010010</td>\n      <td>3523.159912</td>\n      <td>3523.159912</td>\n      <td>2262700</td>\n      <td>AMZN</td>\n    </tr>\n    <tr>\n      <th>2021-12-09</th>\n      <td>3515.000000</td>\n      <td>3539.389893</td>\n      <td>3482.790039</td>\n      <td>3483.419922</td>\n      <td>3483.419922</td>\n      <td>2303100</td>\n      <td>AMZN</td>\n    </tr>\n    <tr>\n      <th>2021-12-10</th>\n      <td>3508.340088</td>\n      <td>3518.540039</td>\n      <td>3410.000000</td>\n      <td>3444.239990</td>\n      <td>3444.239990</td>\n      <td>3031400</td>\n      <td>AMZN</td>\n    </tr>\n    <tr>\n      <th>2021-12-13</th>\n      <td>3440.000000</td>\n      <td>3442.000000</td>\n      <td>3382.600098</td>\n      <td>3391.350098</td>\n      <td>3391.350098</td>\n      <td>3108500</td>\n      <td>AMZN</td>\n    </tr>\n    <tr>\n      <th>2021-12-14</th>\n      <td>3351.000000</td>\n      <td>3389.979980</td>\n      <td>3328.800049</td>\n      <td>3381.830078</td>\n      <td>3381.830078</td>\n      <td>2798800</td>\n      <td>AMZN</td>\n    </tr>\n    <tr>\n      <th>2021-12-15</th>\n      <td>3371.959961</td>\n      <td>3472.000000</td>\n      <td>3303.899902</td>\n      <td>3466.300049</td>\n      <td>3466.300049</td>\n      <td>3789700</td>\n      <td>AMZN</td>\n    </tr>\n    <tr>\n      <th>2021-12-16</th>\n      <td>3467.370117</td>\n      <td>3483.320068</td>\n      <td>3363.209961</td>\n      <td>3377.419922</td>\n      <td>3377.419922</td>\n      <td>3043800</td>\n      <td>AMZN</td>\n    </tr>\n    <tr>\n      <th>2021-12-17</th>\n      <td>3354.209961</td>\n      <td>3417.969971</td>\n      <td>3312.270020</td>\n      <td>3400.350098</td>\n      <td>3400.350098</td>\n      <td>4277100</td>\n      <td>AMZN</td>\n    </tr>\n    <tr>\n      <th>2021-12-20</th>\n      <td>3337.000000</td>\n      <td>3357.489990</td>\n      <td>3312.000000</td>\n      <td>3341.580078</td>\n      <td>3341.580078</td>\n      <td>2868600</td>\n      <td>AMZN</td>\n    </tr>\n    <tr>\n      <th>2021-12-21</th>\n      <td>3357.010010</td>\n      <td>3414.330078</td>\n      <td>3312.949951</td>\n      <td>3408.340088</td>\n      <td>3408.340088</td>\n      <td>2797800</td>\n      <td>AMZN</td>\n    </tr>\n    <tr>\n      <th>2021-12-22</th>\n      <td>3385.399902</td>\n      <td>3441.000000</td>\n      <td>3370.010010</td>\n      <td>3420.739990</td>\n      <td>3420.739990</td>\n      <td>2751800</td>\n      <td>AMZN</td>\n    </tr>\n    <tr>\n      <th>2021-12-23</th>\n      <td>3408.560059</td>\n      <td>3439.500000</td>\n      <td>3403.000000</td>\n      <td>3421.370117</td>\n      <td>3421.370117</td>\n      <td>1839400</td>\n      <td>AMZN</td>\n    </tr>\n    <tr>\n      <th>2021-12-27</th>\n      <td>3420.739990</td>\n      <td>3458.860107</td>\n      <td>3384.310059</td>\n      <td>3393.389893</td>\n      <td>3393.389893</td>\n      <td>2934400</td>\n      <td>AMZN</td>\n    </tr>\n    <tr>\n      <th>2021-12-28</th>\n      <td>3403.649902</td>\n      <td>3443.520020</td>\n      <td>3382.709961</td>\n      <td>3413.219971</td>\n      <td>3413.219971</td>\n      <td>2731900</td>\n      <td>AMZN</td>\n    </tr>\n    <tr>\n      <th>2021-12-29</th>\n      <td>3416.800049</td>\n      <td>3424.239990</td>\n      <td>3372.010010</td>\n      <td>3384.020020</td>\n      <td>3384.020020</td>\n      <td>1787700</td>\n      <td>AMZN</td>\n    </tr>\n    <tr>\n      <th>2021-12-30</th>\n      <td>3394.000000</td>\n      <td>3417.760010</td>\n      <td>3370.479980</td>\n      <td>3372.889893</td>\n      <td>3372.889893</td>\n      <td>1879200</td>\n      <td>AMZN</td>\n    </tr>\n  </tbody>\n</table>\n</div>"
     },
     "metadata": {}
    }
   ],
   "execution_count": null
  },
  {
   "cell_type": "code",
   "metadata": {
    "tags": [],
    "cell_id": "00019-26571f44-df05-47d0-8c5c-1b22c3872177",
    "deepnote_to_be_reexecuted": false,
    "source_hash": "4a651440",
    "execution_start": 1641144673228,
    "execution_millis": 195,
    "deepnote_cell_type": "code"
   },
   "source": "df_amzn.to_csv('T_hist_amzn.csv')",
   "outputs": [],
   "execution_count": null
  },
  {
   "cell_type": "code",
   "metadata": {
    "tags": [],
    "cell_id": "00020-5550db78-34ed-47de-8bc7-8938c483d87d",
    "deepnote_to_be_reexecuted": false,
    "source_hash": "afbb16db",
    "execution_start": 1641144674645,
    "execution_millis": 4,
    "deepnote_cell_type": "code"
   },
   "source": "df_msft.to_csv('T_hist_msft.csv')",
   "outputs": [],
   "execution_count": null
  },
  {
   "cell_type": "code",
   "metadata": {
    "tags": [],
    "cell_id": "00021-f9d11cb8-5d4b-4124-bc42-7e499a20d5d1",
    "deepnote_to_be_reexecuted": false,
    "source_hash": "481022a2",
    "execution_start": 1641144675961,
    "execution_millis": 4,
    "deepnote_cell_type": "code"
   },
   "source": "df_ms.to_csv('T_hist_ms.csv')",
   "outputs": [],
   "execution_count": null
  },
  {
   "cell_type": "code",
   "metadata": {
    "tags": [],
    "cell_id": "00022-27d6d276-63e1-466a-a5e5-4020775c7674",
    "deepnote_to_be_reexecuted": false,
    "source_hash": "64d93fdc",
    "execution_start": 1641144677321,
    "execution_millis": 9,
    "deepnote_cell_type": "code"
   },
   "source": "df_jpm.to_csv('T_hist_jpm.csv')",
   "outputs": [],
   "execution_count": null
  },
  {
   "cell_type": "code",
   "metadata": {
    "tags": [],
    "cell_id": "00023-7249f98d-5155-415c-9c06-7fc12bb24ff1",
    "deepnote_to_be_reexecuted": false,
    "source_hash": "6ff6bc78",
    "execution_start": 1641144679775,
    "execution_millis": 3,
    "deepnote_cell_type": "code"
   },
   "source": "df_gs.to_csv('T_hist_gs.csv')",
   "outputs": [],
   "execution_count": null
  },
  {
   "cell_type": "markdown",
   "source": "<a style='text-decoration:none;line-height:16px;display:flex;color:#5B5B62;padding:10px;justify-content:end;' href='https://deepnote.com?utm_source=created-in-deepnote-cell&projectId=c947f5a5-cf62-419b-9ff4-685ccc21bdac' target=\"_blank\">\n<img alt='Created in deepnote.com' style='display:inline;max-height:16px;margin:0px;margin-right:7.5px;' src='data:image/svg+xml;base64,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' > </img>\nCreated in <span style='font-weight:600;margin-left:4px;'>Deepnote</span></a>",
   "metadata": {
    "tags": [],
    "created_in_deepnote_cell": true,
    "deepnote_cell_type": "markdown"
   }
  }
 ],
 "nbformat": 4,
 "nbformat_minor": 2,
 "metadata": {
  "orig_nbformat": 2,
  "deepnote": {
   "is_reactive": false
  },
  "deepnote_notebook_id": "26c3c5c3-d0d6-49c8-a09c-43c9077ca101",
  "deepnote_execution_queue": []
 }
}